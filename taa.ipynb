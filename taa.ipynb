{
 "cells": [
  {
   "cell_type": "code",
   "execution_count": 2,
   "metadata": {},
   "outputs": [],
   "source": [
    "import pandas as pd \n",
    "import numpy as np \n",
    "df =pd.read_excel('/Users/dylanlam/Documents/GitHub/data_visualization_practive/airbnb.xlsx')"
   ]
  },
  {
   "cell_type": "code",
   "execution_count": 7,
   "metadata": {},
   "outputs": [
    {
     "data": {
      "text/plain": [
       "Host Id                                             23248648\n",
       "Host Since                               2014-11-02 00:00:00\n",
       "Name                          NO LONGER BOOKING RESERVATIONS\n",
       "Neighbourhood                                      Manhattan\n",
       "Property Type                                      Apartment\n",
       "Review Scores Rating (bin)                              95.0\n",
       "Room Type                                    Entire home/apt\n",
       "Zipcode                                              10025.0\n",
       "Beds                                                     2.0\n",
       "Number of Records                                          1\n",
       "Number Of Reviews                                         21\n",
       "Price                                                  10000\n",
       "Review Scores Rating                                    95.0\n",
       "Name: 23927, dtype: object"
      ]
     },
     "execution_count": 7,
     "metadata": {},
     "output_type": "execute_result"
    }
   ],
   "source": [
    "df.loc[df['Price'].idxmax()]\n"
   ]
  }
 ],
 "metadata": {
  "kernelspec": {
   "display_name": "myenv",
   "language": "python",
   "name": "python3"
  },
  "language_info": {
   "codemirror_mode": {
    "name": "ipython",
    "version": 3
   },
   "file_extension": ".py",
   "mimetype": "text/x-python",
   "name": "python",
   "nbconvert_exporter": "python",
   "pygments_lexer": "ipython3",
   "version": "3.8.17"
  },
  "orig_nbformat": 4
 },
 "nbformat": 4,
 "nbformat_minor": 2
}
