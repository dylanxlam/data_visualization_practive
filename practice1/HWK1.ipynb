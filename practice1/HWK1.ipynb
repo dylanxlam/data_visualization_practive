{
 "cells": [
  {
   "cell_type": "markdown",
   "id": "b319e641",
   "metadata": {},
   "source": [
    "### Homework 1 (due 08 Sep 2024)"
   ]
  },
  {
   "cell_type": "code",
   "execution_count": null,
   "id": "9a255e2d",
   "metadata": {},
   "outputs": [],
   "source": [
    "# File: HWK1.ipynb\n",
    "\n",
    "# Student Name:\n",
    "\n",
    "# UT EID:\n",
    "\n",
    "# Student Name:\n",
    "\n",
    "# UT EID:\n",
    "\n",
    "# Student Name:\n",
    "\n",
    "# UT EID:\n",
    "\n",
    "# Date Created:\n",
    "\n",
    "# Date Last Modified:\n"
   ]
  },
  {
   "cell_type": "code",
   "execution_count": null,
   "id": "d9e8a70b",
   "metadata": {},
   "outputs": [],
   "source": [
    "# import libraries\n",
    "import numpy as np\n",
    "import pandas as pd"
   ]
  },
  {
   "cell_type": "code",
   "execution_count": null,
   "id": "cb5fedf3",
   "metadata": {},
   "outputs": [],
   "source": [
    "# read data file 'Canada.xlsx' and create a data frame\n",
    "df = pd.read_excel ('Canada.xlsx', sheet_name = 'Canada by Citizenship (2)')"
   ]
  },
  {
   "cell_type": "code",
   "execution_count": null,
   "id": "13b062cb",
   "metadata": {},
   "outputs": [],
   "source": [
    "# get the size of the dataframe (rows, cols)\n",
    "df.shape"
   ]
  },
  {
   "cell_type": "code",
   "execution_count": null,
   "id": "4cc9b3e6",
   "metadata": {},
   "outputs": [],
   "source": [
    "# get the head of the dataframe\n",
    "df.head()"
   ]
  },
  {
   "cell_type": "code",
   "execution_count": null,
   "id": "a2a2847c",
   "metadata": {},
   "outputs": [],
   "source": [
    "# get the tail of the dataframe\n",
    "df.tail()"
   ]
  },
  {
   "cell_type": "code",
   "execution_count": null,
   "id": "f678f6a9",
   "metadata": {},
   "outputs": [],
   "source": [
    "# get the information on the dataframe\n",
    "df.info (verbose = False)"
   ]
  },
  {
   "cell_type": "code",
   "execution_count": null,
   "id": "754308e8",
   "metadata": {},
   "outputs": [],
   "source": [
    "# get a description of the dataframe\n",
    "df.describe()"
   ]
  },
  {
   "cell_type": "code",
   "execution_count": null,
   "id": "ed076d80",
   "metadata": {},
   "outputs": [],
   "source": [
    "# get a list of column headers\n",
    "df.columns"
   ]
  },
  {
   "cell_type": "code",
   "execution_count": null,
   "id": "35c3ae63",
   "metadata": {},
   "outputs": [],
   "source": [
    "# get a list of indices\n",
    "df.index"
   ]
  },
  {
   "cell_type": "code",
   "execution_count": null,
   "id": "0452ae61",
   "metadata": {},
   "outputs": [],
   "source": [
    "# drop unnecessary columns\n",
    "# in pandas: rows is axis =0 and columns is axis = 1\n",
    "df.drop (['Type', 'Coverage', 'AREA', 'REG', 'DEV', 'DevName'], axis = 1, inplace = True)"
   ]
  },
  {
   "cell_type": "code",
   "execution_count": null,
   "id": "c8dcc2d1",
   "metadata": {},
   "outputs": [],
   "source": [
    "# check the deletion of unnecessary columns\n",
    "df.head()"
   ]
  },
  {
   "cell_type": "code",
   "execution_count": null,
   "id": "077a5ab1",
   "metadata": {},
   "outputs": [],
   "source": [
    "# rename column names\n",
    "df.rename (columns = {'OdName':'Country', 'AreaName':'Continent', 'RegName': 'Region'}, inplace = True)"
   ]
  },
  {
   "cell_type": "code",
   "execution_count": null,
   "id": "6542fdb8",
   "metadata": {},
   "outputs": [],
   "source": [
    "# check if columns were renamed\n",
    "df.head()"
   ]
  },
  {
   "cell_type": "code",
   "execution_count": null,
   "id": "e76943ef",
   "metadata": {},
   "outputs": [],
   "source": [
    "# add a column at the end giving the total number of immigrants for each country\n",
    "df['Total'] = df.sum (axis = 1, numeric_only = True)"
   ]
  },
  {
   "cell_type": "code",
   "execution_count": null,
   "id": "38fabc70",
   "metadata": {},
   "outputs": [],
   "source": [
    "# check if column was added\n",
    "df.head()"
   ]
  },
  {
   "cell_type": "code",
   "execution_count": null,
   "id": "21600835",
   "metadata": {},
   "outputs": [],
   "source": [
    "# change the index to be the name of the country\n",
    "df.set_index ('Country', inplace = True)"
   ]
  },
  {
   "cell_type": "code",
   "execution_count": null,
   "id": "acab6ea6",
   "metadata": {},
   "outputs": [],
   "source": [
    "# check if the index was changed\n",
    "df.head()"
   ]
  },
  {
   "cell_type": "code",
   "execution_count": null,
   "id": "3e3f3f21",
   "metadata": {},
   "outputs": [],
   "source": [
    "# get a slice of the data \n",
    "df.loc ['Costa Rica']"
   ]
  },
  {
   "cell_type": "code",
   "execution_count": null,
   "id": "f38fe82f",
   "metadata": {},
   "outputs": [],
   "source": [
    "# get data for only certain years\n",
    "df.loc ['Greece', [1981, 1988, 1994, 1999]]"
   ]
  },
  {
   "cell_type": "code",
   "execution_count": null,
   "id": "1c48c302",
   "metadata": {},
   "outputs": [],
   "source": [
    "# convert column names into strings\n",
    "df.columns = list (map (str, df.columns))"
   ]
  },
  {
   "cell_type": "code",
   "execution_count": null,
   "id": "5bf25d49",
   "metadata": {},
   "outputs": [],
   "source": [
    "# create a condition\n",
    "cond = (df['Continent'] == 'Asia')\n",
    "print (cond)"
   ]
  },
  {
   "cell_type": "code",
   "execution_count": null,
   "id": "68882e82",
   "metadata": {},
   "outputs": [],
   "source": [
    "# create a compound condition using Boolean operators: ~ (not), & (and), | (or)\n",
    "cond = df[(df['Continent'] == 'Asia') & (df['Region'] == 'Southern Asia')]\n",
    "print (cond)"
   ]
  },
  {
   "cell_type": "markdown",
   "id": "a22eb030",
   "metadata": {},
   "source": [
    "**Q. 0 (0 points)**\n",
    "Some useful functions to make your life easier in this assignment:\n",
    "* https://pandas.pydata.org/docs/reference/api/pandas.DataFrame.groupby.html\n",
    "* https://pandas.pydata.org/docs/reference/api/pandas.DataFrame.loc.html\n",
    "* https://pandas.pydata.org/docs/reference/api/pandas.Series.map.html\n"
   ]
  },
  {
   "cell_type": "markdown",
   "id": "f41281d9",
   "metadata": {},
   "source": [
    "**Q. 1 (20 points)**  \n",
    "Add a row at the bottom of the dataframe that gives the total immigration for each year from 1980 to 2013."
   ]
  },
  {
   "cell_type": "code",
   "execution_count": null,
   "id": "3c7c0540",
   "metadata": {},
   "outputs": [],
   "source": []
  },
  {
   "cell_type": "markdown",
   "id": "3ad586c7",
   "metadata": {},
   "source": [
    "**Q. 2 (20 points)**  \n",
    "For each year, find the maximum number of immigrants and the country that had the maximum number of immigrants. Create a new dataframe having three columns - year, country, and number of immigrants. For a given year, if there are two or more countries having the same maximum number of immigrants, then choose that country that comes first in alphabetical order."
   ]
  },
  {
   "cell_type": "code",
   "execution_count": null,
   "id": "e231409a",
   "metadata": {},
   "outputs": [],
   "source": []
  },
  {
   "cell_type": "markdown",
   "id": "6b5292af",
   "metadata": {},
   "source": [
    "**Q. 3 (20 points)**   \n",
    "For each year find the total, mean, standard deviation, maximum, minimum, and range (max - min). Create a new dataframe having columns - year, total, mean, standard deviation, maximum, minimum, and range."
   ]
  },
  {
   "cell_type": "code",
   "execution_count": null,
   "id": "caf13c2c",
   "metadata": {},
   "outputs": [],
   "source": []
  },
  {
   "cell_type": "markdown",
   "id": "581a7ce2",
   "metadata": {},
   "source": [
    "**Q. 4 (20 points)**   \n",
    "For the Scandinavian countries - Denmark, Norway, and Sweden - print the name of the country and the total immigration for each of these countries."
   ]
  },
  {
   "cell_type": "code",
   "execution_count": null,
   "id": "e978a0bb",
   "metadata": {},
   "outputs": [],
   "source": []
  },
  {
   "cell_type": "markdown",
   "id": "58b10a01",
   "metadata": {},
   "source": [
    "**Q. 5 (20 points)**    \n",
    "Sum the immigration for all the years from the following continents - Africa, Asia, Europe, Latin America and  the Caribbean, Northern America, and Oceania. Print the name of the continent and the total immigration."
   ]
  },
  {
   "cell_type": "code",
   "execution_count": null,
   "id": "c84b1104",
   "metadata": {},
   "outputs": [],
   "source": []
  }
 ],
 "metadata": {
  "kernelspec": {
   "display_name": "Python 3 (ipykernel)",
   "language": "python",
   "name": "python3"
  },
  "language_info": {
   "codemirror_mode": {
    "name": "ipython",
    "version": 3
   },
   "file_extension": ".py",
   "mimetype": "text/x-python",
   "name": "python",
   "nbconvert_exporter": "python",
   "pygments_lexer": "ipython3",
   "version": "3.11.2"
  }
 },
 "nbformat": 4,
 "nbformat_minor": 5
}
