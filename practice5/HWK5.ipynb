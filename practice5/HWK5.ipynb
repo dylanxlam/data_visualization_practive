{
  "cells": [
    {
      "cell_type": "markdown",
      "metadata": {
        "id": "mpGXE8zIx3T-"
      },
      "source": [
        "##### HWK4: Interactive Altair Plots\n",
        "\n",
        "#### Name:\n",
        "#### UT EID:\n",
        "\n",
        "#### Name:\n",
        "#### UT EID:\n",
        "\n",
        "#### Name:\n",
        "#### UT EID:\n",
        "\n",
        "#### Date:\n"
      ]
    },
    {
      "cell_type": "markdown",
      "metadata": {
        "id": "-1DnR1dwx3T_"
      },
      "source": [
        "The first part of this homework is to teach you the core concepts required to create a basic Altair chart; namely:\n",
        "\n",
        "- **Data**, **Marks**, and **Encodings**: the three core pieces of an Altair chart\n",
        "\n",
        "- **Encoding Types**: ``Q`` (quantitative), ``N`` (nominal), ``O`` (ordinal), ``T`` (temporal), which drive the visual representation of the encodings\n",
        "\n",
        "- **Binning and Aggregation**: which let you control aspects of the data representation within Altair.\n",
        "\n",
        "With a good understanding of these core pieces, you will be well on your way to making a variety of charts in Altair."
      ]
    },
    {
      "cell_type": "markdown",
      "metadata": {
        "id": "4FL70Rgax3T_"
      },
      "source": [
        "We will start by importing Altair:"
      ]
    },
    {
      "cell_type": "code",
      "execution_count": null,
      "metadata": {
        "id": "2u_8tRF4x3T_"
      },
      "outputs": [
        {
          "ename": "",
          "evalue": "",
          "output_type": "error",
          "traceback": [
            "\u001b[1;31mFailed to start the Kernel. \n",
            "\u001b[1;31mTraceback (most recent call last):\n",
            "\u001b[1;31m  File \"/Users/dylanlam/miniconda3/envs/myenv/lib/python3.8/runpy.py\", line 194, in _run_module_as_main\n",
            "\u001b[1;31m    return _run_code(code, main_globals, None,\n",
            "\u001b[1;31m  File \"/Users/dylanlam/miniconda3/envs/myenv/lib/python3.8/runpy.py\", line 87, in _run_code\n",
            "\u001b[1;31m    exec(code, run_globals)\n",
            "\u001b[1;31m  File \"/Users/dylanlam/miniconda3/envs/myenv/lib/python3.8/site-packages/ipykernel_launcher.py\", line 15, in <module>\n",
            "\u001b[1;31m    from ipykernel import kernelapp as app\n",
            "\u001b[1;31m  File \"/Users/dylanlam/miniconda3/envs/myenv/lib/python3.8/site-packages/ipykernel/kernelapp.py\", line 19, in <module>\n",
            "\u001b[1;31m    from IPython.core.application import (  # type:ignore[attr-defined]\n",
            "\u001b[1;31m  File \"/Users/dylanlam/miniconda3/envs/myenv/lib/python3.8/site-packages/IPython/__init__.py\", line 53, in <module>\n",
            "\u001b[1;31m    from .terminal.embed import embed\n",
            "\u001b[1;31m  File \"/Users/dylanlam/miniconda3/envs/myenv/lib/python3.8/site-packages/IPython/terminal/embed.py\", line 15, in <module>\n",
            "\u001b[1;31m    from IPython.core.interactiveshell import DummyMod, InteractiveShell\n",
            "\u001b[1;31m  File \"/Users/dylanlam/miniconda3/envs/myenv/lib/python3.8/site-packages/IPython/core/interactiveshell.py\", line 73, in <module>\n",
            "\u001b[1;31m    from IPython.core.history import HistoryManager\n",
            "\u001b[1;31m  File \"/Users/dylanlam/miniconda3/envs/myenv/lib/python3.8/site-packages/IPython/core/history.py\", line 11, in <module>\n",
            "\u001b[1;31m    import sqlite3\n",
            "\u001b[1;31m  File \"/Users/dylanlam/miniconda3/envs/myenv/lib/python3.8/sqlite3/__init__.py\", line 23, in <module>\n",
            "\u001b[1;31m    from sqlite3.dbapi2 import *\n",
            "\u001b[1;31m  File \"/Users/dylanlam/miniconda3/envs/myenv/lib/python3.8/sqlite3/dbapi2.py\", line 27, in <module>\n",
            "\u001b[1;31m    from _sqlite3 import *\n",
            "\u001b[1;31mImportError: dlopen(/Users/dylanlam/miniconda3/envs/myenv/lib/python3.8/lib-dynload/_sqlite3.cpython-38-darwin.so, 2): Symbol not found: _sqlite3_enable_load_extension\n",
            "\u001b[1;31m  Referenced from: /Users/dylanlam/miniconda3/envs/myenv/lib/python3.8/lib-dynload/_sqlite3.cpython-38-darwin.so\n",
            "\u001b[1;31m  Expected in: /usr/lib/libsqlite3.dylib\n",
            "\u001b[1;31m in /Users/dylanlam/miniconda3/envs/myenv/lib/python3.8/lib-dynload/_sqlite3.cpython-38-darwin.so. \n",
            "\u001b[1;31mView Jupyter <a href='command:jupyter.viewOutput'>log</a> for further details."
          ]
        }
      ],
      "source": [
        "import altair as alt"
      ]
    },
    {
      "cell_type": "code",
      "execution_count": null,
      "metadata": {
        "id": "9y-YPyTlx3UA"
      },
      "outputs": [
        {
          "ename": "",
          "evalue": "",
          "output_type": "error",
          "traceback": [
            "\u001b[1;31mFailed to start the Kernel. \n",
            "\u001b[1;31mTraceback (most recent call last):\n",
            "\u001b[1;31m  File \"/Users/dylanlam/miniconda3/envs/myenv/lib/python3.8/runpy.py\", line 194, in _run_module_as_main\n",
            "\u001b[1;31m    return _run_code(code, main_globals, None,\n",
            "\u001b[1;31m  File \"/Users/dylanlam/miniconda3/envs/myenv/lib/python3.8/runpy.py\", line 87, in _run_code\n",
            "\u001b[1;31m    exec(code, run_globals)\n",
            "\u001b[1;31m  File \"/Users/dylanlam/miniconda3/envs/myenv/lib/python3.8/site-packages/ipykernel_launcher.py\", line 15, in <module>\n",
            "\u001b[1;31m    from ipykernel import kernelapp as app\n",
            "\u001b[1;31m  File \"/Users/dylanlam/miniconda3/envs/myenv/lib/python3.8/site-packages/ipykernel/kernelapp.py\", line 19, in <module>\n",
            "\u001b[1;31m    from IPython.core.application import (  # type:ignore[attr-defined]\n",
            "\u001b[1;31m  File \"/Users/dylanlam/miniconda3/envs/myenv/lib/python3.8/site-packages/IPython/__init__.py\", line 53, in <module>\n",
            "\u001b[1;31m    from .terminal.embed import embed\n",
            "\u001b[1;31m  File \"/Users/dylanlam/miniconda3/envs/myenv/lib/python3.8/site-packages/IPython/terminal/embed.py\", line 15, in <module>\n",
            "\u001b[1;31m    from IPython.core.interactiveshell import DummyMod, InteractiveShell\n",
            "\u001b[1;31m  File \"/Users/dylanlam/miniconda3/envs/myenv/lib/python3.8/site-packages/IPython/core/interactiveshell.py\", line 73, in <module>\n",
            "\u001b[1;31m    from IPython.core.history import HistoryManager\n",
            "\u001b[1;31m  File \"/Users/dylanlam/miniconda3/envs/myenv/lib/python3.8/site-packages/IPython/core/history.py\", line 11, in <module>\n",
            "\u001b[1;31m    import sqlite3\n",
            "\u001b[1;31m  File \"/Users/dylanlam/miniconda3/envs/myenv/lib/python3.8/sqlite3/__init__.py\", line 23, in <module>\n",
            "\u001b[1;31m    from sqlite3.dbapi2 import *\n",
            "\u001b[1;31m  File \"/Users/dylanlam/miniconda3/envs/myenv/lib/python3.8/sqlite3/dbapi2.py\", line 27, in <module>\n",
            "\u001b[1;31m    from _sqlite3 import *\n",
            "\u001b[1;31mImportError: dlopen(/Users/dylanlam/miniconda3/envs/myenv/lib/python3.8/lib-dynload/_sqlite3.cpython-38-darwin.so, 2): Symbol not found: _sqlite3_enable_load_extension\n",
            "\u001b[1;31m  Referenced from: /Users/dylanlam/miniconda3/envs/myenv/lib/python3.8/lib-dynload/_sqlite3.cpython-38-darwin.so\n",
            "\u001b[1;31m  Expected in: /usr/lib/libsqlite3.dylib\n",
            "\u001b[1;31m in /Users/dylanlam/miniconda3/envs/myenv/lib/python3.8/lib-dynload/_sqlite3.cpython-38-darwin.so. \n",
            "\u001b[1;31mView Jupyter <a href='command:jupyter.viewOutput'>log</a> for further details."
          ]
        }
      ],
      "source": [
        "from scipy import signal"
      ]
    },
    {
      "cell_type": "markdown",
      "metadata": {
        "id": "GbVGhuZyx3UA"
      },
      "source": [
        "#### A Basic Altair Chart\n",
        "\n",
        "The essential elements of an Altair chart are the **data**, the **mark**, and the **encoding**.\n",
        "\n",
        "The format by which these are specified will look something like this:\n",
        "\n",
        "```python\n",
        "alt.Chart(data).mark_point().encode(\n",
        "    encoding_1='column_1',\n",
        "    encoding_2='column_2',\n",
        "    # etc.\n",
        ")\n",
        "```\n",
        "\n",
        "Let's take a look at these pieces, one at a time."
      ]
    },
    {
      "cell_type": "markdown",
      "metadata": {
        "id": "Hgt9ghvNx3UA"
      },
      "source": [
        "##### The Data\n",
        "\n",
        "Data in Altair is built around the [Pandas Dataframe](http://pandas.pydata.org/pandas-docs/stable/generated/pandas.DataFrame.html).\n",
        "For this section, we'll use the cars dataset, which we can load using the [vega_datasets](https://github.com/altair-viz/vega_datasets) package:"
      ]
    },
    {
      "cell_type": "code",
      "execution_count": null,
      "metadata": {
        "colab": {
          "base_uri": "https://localhost:8080/"
        },
        "id": "zwo2oro-x3UA",
        "outputId": "2d1176c6-b8b6-41e5-f2ad-b5d4d5ff4804"
      },
      "outputs": [
        {
          "ename": "",
          "evalue": "",
          "output_type": "error",
          "traceback": [
            "\u001b[1;31mFailed to start the Kernel. \n",
            "\u001b[1;31mTraceback (most recent call last):\n",
            "\u001b[1;31m  File \"/Users/dylanlam/miniconda3/envs/myenv/lib/python3.8/runpy.py\", line 194, in _run_module_as_main\n",
            "\u001b[1;31m    return _run_code(code, main_globals, None,\n",
            "\u001b[1;31m  File \"/Users/dylanlam/miniconda3/envs/myenv/lib/python3.8/runpy.py\", line 87, in _run_code\n",
            "\u001b[1;31m    exec(code, run_globals)\n",
            "\u001b[1;31m  File \"/Users/dylanlam/miniconda3/envs/myenv/lib/python3.8/site-packages/ipykernel_launcher.py\", line 15, in <module>\n",
            "\u001b[1;31m    from ipykernel import kernelapp as app\n",
            "\u001b[1;31m  File \"/Users/dylanlam/miniconda3/envs/myenv/lib/python3.8/site-packages/ipykernel/kernelapp.py\", line 19, in <module>\n",
            "\u001b[1;31m    from IPython.core.application import (  # type:ignore[attr-defined]\n",
            "\u001b[1;31m  File \"/Users/dylanlam/miniconda3/envs/myenv/lib/python3.8/site-packages/IPython/__init__.py\", line 53, in <module>\n",
            "\u001b[1;31m    from .terminal.embed import embed\n",
            "\u001b[1;31m  File \"/Users/dylanlam/miniconda3/envs/myenv/lib/python3.8/site-packages/IPython/terminal/embed.py\", line 15, in <module>\n",
            "\u001b[1;31m    from IPython.core.interactiveshell import DummyMod, InteractiveShell\n",
            "\u001b[1;31m  File \"/Users/dylanlam/miniconda3/envs/myenv/lib/python3.8/site-packages/IPython/core/interactiveshell.py\", line 73, in <module>\n",
            "\u001b[1;31m    from IPython.core.history import HistoryManager\n",
            "\u001b[1;31m  File \"/Users/dylanlam/miniconda3/envs/myenv/lib/python3.8/site-packages/IPython/core/history.py\", line 11, in <module>\n",
            "\u001b[1;31m    import sqlite3\n",
            "\u001b[1;31m  File \"/Users/dylanlam/miniconda3/envs/myenv/lib/python3.8/sqlite3/__init__.py\", line 23, in <module>\n",
            "\u001b[1;31m    from sqlite3.dbapi2 import *\n",
            "\u001b[1;31m  File \"/Users/dylanlam/miniconda3/envs/myenv/lib/python3.8/sqlite3/dbapi2.py\", line 27, in <module>\n",
            "\u001b[1;31m    from _sqlite3 import *\n",
            "\u001b[1;31mImportError: dlopen(/Users/dylanlam/miniconda3/envs/myenv/lib/python3.8/lib-dynload/_sqlite3.cpython-38-darwin.so, 2): Symbol not found: _sqlite3_enable_load_extension\n",
            "\u001b[1;31m  Referenced from: /Users/dylanlam/miniconda3/envs/myenv/lib/python3.8/lib-dynload/_sqlite3.cpython-38-darwin.so\n",
            "\u001b[1;31m  Expected in: /usr/lib/libsqlite3.dylib\n",
            "\u001b[1;31m in /Users/dylanlam/miniconda3/envs/myenv/lib/python3.8/lib-dynload/_sqlite3.cpython-38-darwin.so. \n",
            "\u001b[1;31mView Jupyter <a href='command:jupyter.viewOutput'>log</a> for further details."
          ]
        }
      ],
      "source": [
        "from vega_datasets import data\n",
        "cars = data.cars()\n",
        "\n",
        "cars.head()"
      ]
    },
    {
      "cell_type": "markdown",
      "metadata": {
        "id": "xmhU16VMx3UA"
      },
      "source": [
        "Data in Altair is expected to be in a [tidy format](http://vita.had.co.nz/papers/tidy-data.html); in other words:\n",
        "\n",
        "- each **row** is an observation\n",
        "- each **column** is a variable\n",
        "\n",
        "See  [Altair's Data Documentation](https://altair-viz.github.io/user_guide/data.html) for more information."
      ]
    },
    {
      "cell_type": "markdown",
      "metadata": {
        "id": "jeFQyldqx3UA"
      },
      "source": [
        "#### The *Chart* object\n",
        "\n",
        "With the data defined, you can instantiate Altair's fundamental object, the ``Chart``. Fundamentally, a ``Chart`` is an object which knows how to emit a JSON dictionary representing the data and visualization encodings, which can be sent to the notebook and rendered by the Vega-Lite JavaScript library.\n",
        "Let's take a look at what this JSON representation looks like, using only the first row of the data:"
      ]
    },
    {
      "cell_type": "code",
      "execution_count": null,
      "metadata": {
        "colab": {
          "base_uri": "https://localhost:8080/"
        },
        "id": "iDluO2Tqx3UA",
        "outputId": "7b5b8ed9-7d93-42b1-8959-27ff4c7ff0ad"
      },
      "outputs": [
        {
          "ename": "",
          "evalue": "",
          "output_type": "error",
          "traceback": [
            "\u001b[1;31mFailed to start the Kernel. \n",
            "\u001b[1;31mTraceback (most recent call last):\n",
            "\u001b[1;31m  File \"/Users/dylanlam/miniconda3/envs/myenv/lib/python3.8/runpy.py\", line 194, in _run_module_as_main\n",
            "\u001b[1;31m    return _run_code(code, main_globals, None,\n",
            "\u001b[1;31m  File \"/Users/dylanlam/miniconda3/envs/myenv/lib/python3.8/runpy.py\", line 87, in _run_code\n",
            "\u001b[1;31m    exec(code, run_globals)\n",
            "\u001b[1;31m  File \"/Users/dylanlam/miniconda3/envs/myenv/lib/python3.8/site-packages/ipykernel_launcher.py\", line 15, in <module>\n",
            "\u001b[1;31m    from ipykernel import kernelapp as app\n",
            "\u001b[1;31m  File \"/Users/dylanlam/miniconda3/envs/myenv/lib/python3.8/site-packages/ipykernel/kernelapp.py\", line 19, in <module>\n",
            "\u001b[1;31m    from IPython.core.application import (  # type:ignore[attr-defined]\n",
            "\u001b[1;31m  File \"/Users/dylanlam/miniconda3/envs/myenv/lib/python3.8/site-packages/IPython/__init__.py\", line 53, in <module>\n",
            "\u001b[1;31m    from .terminal.embed import embed\n",
            "\u001b[1;31m  File \"/Users/dylanlam/miniconda3/envs/myenv/lib/python3.8/site-packages/IPython/terminal/embed.py\", line 15, in <module>\n",
            "\u001b[1;31m    from IPython.core.interactiveshell import DummyMod, InteractiveShell\n",
            "\u001b[1;31m  File \"/Users/dylanlam/miniconda3/envs/myenv/lib/python3.8/site-packages/IPython/core/interactiveshell.py\", line 73, in <module>\n",
            "\u001b[1;31m    from IPython.core.history import HistoryManager\n",
            "\u001b[1;31m  File \"/Users/dylanlam/miniconda3/envs/myenv/lib/python3.8/site-packages/IPython/core/history.py\", line 11, in <module>\n",
            "\u001b[1;31m    import sqlite3\n",
            "\u001b[1;31m  File \"/Users/dylanlam/miniconda3/envs/myenv/lib/python3.8/sqlite3/__init__.py\", line 23, in <module>\n",
            "\u001b[1;31m    from sqlite3.dbapi2 import *\n",
            "\u001b[1;31m  File \"/Users/dylanlam/miniconda3/envs/myenv/lib/python3.8/sqlite3/dbapi2.py\", line 27, in <module>\n",
            "\u001b[1;31m    from _sqlite3 import *\n",
            "\u001b[1;31mImportError: dlopen(/Users/dylanlam/miniconda3/envs/myenv/lib/python3.8/lib-dynload/_sqlite3.cpython-38-darwin.so, 2): Symbol not found: _sqlite3_enable_load_extension\n",
            "\u001b[1;31m  Referenced from: /Users/dylanlam/miniconda3/envs/myenv/lib/python3.8/lib-dynload/_sqlite3.cpython-38-darwin.so\n",
            "\u001b[1;31m  Expected in: /usr/lib/libsqlite3.dylib\n",
            "\u001b[1;31m in /Users/dylanlam/miniconda3/envs/myenv/lib/python3.8/lib-dynload/_sqlite3.cpython-38-darwin.so. \n",
            "\u001b[1;31mView Jupyter <a href='command:jupyter.viewOutput'>log</a> for further details."
          ]
        }
      ],
      "source": [
        "cars1 = cars.iloc[:1]\n",
        "alt.Chart(cars1).mark_point().to_dict()"
      ]
    },
    {
      "cell_type": "markdown",
      "metadata": {
        "id": "t34-m9TYx3UA"
      },
      "source": [
        "At this point the chart includes a JSON-formatted representation of the dataframe, what type of mark to use, along with some metadata that is included in every chart output."
      ]
    },
    {
      "cell_type": "markdown",
      "metadata": {
        "id": "URmXClBhx3UA"
      },
      "source": [
        "#### The Mark\n",
        "\n",
        "We can decide what sort of *mark* we would like to use to represent our data.\n",
        "In the previous example, we can choose the ``point`` mark to represent each data as a point on the plot:"
      ]
    },
    {
      "cell_type": "code",
      "execution_count": null,
      "metadata": {
        "colab": {
          "base_uri": "https://localhost:8080/"
        },
        "id": "hd_NyFxWx3UA",
        "outputId": "ca4dcf07-87d7-4f83-ed6a-3f6643ded770"
      },
      "outputs": [
        {
          "ename": "",
          "evalue": "",
          "output_type": "error",
          "traceback": [
            "\u001b[1;31mFailed to start the Kernel. \n",
            "\u001b[1;31mTraceback (most recent call last):\n",
            "\u001b[1;31m  File \"/Users/dylanlam/miniconda3/envs/myenv/lib/python3.8/runpy.py\", line 194, in _run_module_as_main\n",
            "\u001b[1;31m    return _run_code(code, main_globals, None,\n",
            "\u001b[1;31m  File \"/Users/dylanlam/miniconda3/envs/myenv/lib/python3.8/runpy.py\", line 87, in _run_code\n",
            "\u001b[1;31m    exec(code, run_globals)\n",
            "\u001b[1;31m  File \"/Users/dylanlam/miniconda3/envs/myenv/lib/python3.8/site-packages/ipykernel_launcher.py\", line 15, in <module>\n",
            "\u001b[1;31m    from ipykernel import kernelapp as app\n",
            "\u001b[1;31m  File \"/Users/dylanlam/miniconda3/envs/myenv/lib/python3.8/site-packages/ipykernel/kernelapp.py\", line 19, in <module>\n",
            "\u001b[1;31m    from IPython.core.application import (  # type:ignore[attr-defined]\n",
            "\u001b[1;31m  File \"/Users/dylanlam/miniconda3/envs/myenv/lib/python3.8/site-packages/IPython/__init__.py\", line 53, in <module>\n",
            "\u001b[1;31m    from .terminal.embed import embed\n",
            "\u001b[1;31m  File \"/Users/dylanlam/miniconda3/envs/myenv/lib/python3.8/site-packages/IPython/terminal/embed.py\", line 15, in <module>\n",
            "\u001b[1;31m    from IPython.core.interactiveshell import DummyMod, InteractiveShell\n",
            "\u001b[1;31m  File \"/Users/dylanlam/miniconda3/envs/myenv/lib/python3.8/site-packages/IPython/core/interactiveshell.py\", line 73, in <module>\n",
            "\u001b[1;31m    from IPython.core.history import HistoryManager\n",
            "\u001b[1;31m  File \"/Users/dylanlam/miniconda3/envs/myenv/lib/python3.8/site-packages/IPython/core/history.py\", line 11, in <module>\n",
            "\u001b[1;31m    import sqlite3\n",
            "\u001b[1;31m  File \"/Users/dylanlam/miniconda3/envs/myenv/lib/python3.8/sqlite3/__init__.py\", line 23, in <module>\n",
            "\u001b[1;31m    from sqlite3.dbapi2 import *\n",
            "\u001b[1;31m  File \"/Users/dylanlam/miniconda3/envs/myenv/lib/python3.8/sqlite3/dbapi2.py\", line 27, in <module>\n",
            "\u001b[1;31m    from _sqlite3 import *\n",
            "\u001b[1;31mImportError: dlopen(/Users/dylanlam/miniconda3/envs/myenv/lib/python3.8/lib-dynload/_sqlite3.cpython-38-darwin.so, 2): Symbol not found: _sqlite3_enable_load_extension\n",
            "\u001b[1;31m  Referenced from: /Users/dylanlam/miniconda3/envs/myenv/lib/python3.8/lib-dynload/_sqlite3.cpython-38-darwin.so\n",
            "\u001b[1;31m  Expected in: /usr/lib/libsqlite3.dylib\n",
            "\u001b[1;31m in /Users/dylanlam/miniconda3/envs/myenv/lib/python3.8/lib-dynload/_sqlite3.cpython-38-darwin.so. \n",
            "\u001b[1;31mView Jupyter <a href='command:jupyter.viewOutput'>log</a> for further details."
          ]
        }
      ],
      "source": [
        "alt.Chart(cars).mark_point()"
      ]
    },
    {
      "cell_type": "markdown",
      "metadata": {
        "id": "4VKLhbhax3UA"
      },
      "source": [
        "The result is a visualization with one point per row in the data, though it is not a particularly interesting: all the points are stacked right on top of each other!\n",
        "\n",
        "It is useful to again examine the JSON output here:"
      ]
    },
    {
      "cell_type": "code",
      "execution_count": null,
      "metadata": {
        "colab": {
          "base_uri": "https://localhost:8080/"
        },
        "id": "wK7KK81fx3UA",
        "outputId": "3cc303b9-364b-43b7-f79d-f75f09605bf7"
      },
      "outputs": [
        {
          "ename": "",
          "evalue": "",
          "output_type": "error",
          "traceback": [
            "\u001b[1;31mFailed to start the Kernel. \n",
            "\u001b[1;31mTraceback (most recent call last):\n",
            "\u001b[1;31m  File \"/Users/dylanlam/miniconda3/envs/myenv/lib/python3.8/runpy.py\", line 194, in _run_module_as_main\n",
            "\u001b[1;31m    return _run_code(code, main_globals, None,\n",
            "\u001b[1;31m  File \"/Users/dylanlam/miniconda3/envs/myenv/lib/python3.8/runpy.py\", line 87, in _run_code\n",
            "\u001b[1;31m    exec(code, run_globals)\n",
            "\u001b[1;31m  File \"/Users/dylanlam/miniconda3/envs/myenv/lib/python3.8/site-packages/ipykernel_launcher.py\", line 15, in <module>\n",
            "\u001b[1;31m    from ipykernel import kernelapp as app\n",
            "\u001b[1;31m  File \"/Users/dylanlam/miniconda3/envs/myenv/lib/python3.8/site-packages/ipykernel/kernelapp.py\", line 19, in <module>\n",
            "\u001b[1;31m    from IPython.core.application import (  # type:ignore[attr-defined]\n",
            "\u001b[1;31m  File \"/Users/dylanlam/miniconda3/envs/myenv/lib/python3.8/site-packages/IPython/__init__.py\", line 53, in <module>\n",
            "\u001b[1;31m    from .terminal.embed import embed\n",
            "\u001b[1;31m  File \"/Users/dylanlam/miniconda3/envs/myenv/lib/python3.8/site-packages/IPython/terminal/embed.py\", line 15, in <module>\n",
            "\u001b[1;31m    from IPython.core.interactiveshell import DummyMod, InteractiveShell\n",
            "\u001b[1;31m  File \"/Users/dylanlam/miniconda3/envs/myenv/lib/python3.8/site-packages/IPython/core/interactiveshell.py\", line 73, in <module>\n",
            "\u001b[1;31m    from IPython.core.history import HistoryManager\n",
            "\u001b[1;31m  File \"/Users/dylanlam/miniconda3/envs/myenv/lib/python3.8/site-packages/IPython/core/history.py\", line 11, in <module>\n",
            "\u001b[1;31m    import sqlite3\n",
            "\u001b[1;31m  File \"/Users/dylanlam/miniconda3/envs/myenv/lib/python3.8/sqlite3/__init__.py\", line 23, in <module>\n",
            "\u001b[1;31m    from sqlite3.dbapi2 import *\n",
            "\u001b[1;31m  File \"/Users/dylanlam/miniconda3/envs/myenv/lib/python3.8/sqlite3/dbapi2.py\", line 27, in <module>\n",
            "\u001b[1;31m    from _sqlite3 import *\n",
            "\u001b[1;31mImportError: dlopen(/Users/dylanlam/miniconda3/envs/myenv/lib/python3.8/lib-dynload/_sqlite3.cpython-38-darwin.so, 2): Symbol not found: _sqlite3_enable_load_extension\n",
            "\u001b[1;31m  Referenced from: /Users/dylanlam/miniconda3/envs/myenv/lib/python3.8/lib-dynload/_sqlite3.cpython-38-darwin.so\n",
            "\u001b[1;31m  Expected in: /usr/lib/libsqlite3.dylib\n",
            "\u001b[1;31m in /Users/dylanlam/miniconda3/envs/myenv/lib/python3.8/lib-dynload/_sqlite3.cpython-38-darwin.so. \n",
            "\u001b[1;31mView Jupyter <a href='command:jupyter.viewOutput'>log</a> for further details."
          ]
        }
      ],
      "source": [
        "alt.Chart(cars1).mark_point().to_dict()"
      ]
    },
    {
      "cell_type": "markdown",
      "metadata": {
        "id": "XjIpmYwZx3UA"
      },
      "source": [
        "Notice that now in addition to the data, the specification includes information about the mark type."
      ]
    },
    {
      "cell_type": "markdown",
      "metadata": {
        "id": "S0bcbhn0x3UB"
      },
      "source": [
        "There are a number of available marks that you can use; some of the more common are the following:\n",
        "\n",
        "* ``mark_point()``\n",
        "* ``mark_circle()``\n",
        "* ``mark_square()``\n",
        "* ``mark_line()``\n",
        "* ``mark_area()``\n",
        "* ``mark_bar()``\n",
        "* ``mark_tick()``\n",
        "\n",
        "You can get a complete list of ``mark_*`` methods using Jupyter's tab-completion feature: in any cell just type:\n",
        "\n",
        "    alt.Chart.mark_\n",
        "    \n",
        "followed by the tab key to see the available options."
      ]
    },
    {
      "cell_type": "markdown",
      "metadata": {
        "id": "OiDB-lccx3UB"
      },
      "source": [
        "#### Encodings\n",
        "\n",
        "The next step is to add *visual encoding channels* (or *encodings* for short) to the chart. An encoding channel specifies how a given data column should be mapped onto the visual properties of the visualization.\n",
        "Some of the more frequenty used visual encodings are listed here:\n",
        "\n",
        "* ``x``: x-axis value\n",
        "* ``y``: y-axis value\n",
        "* ``color``: color of the mark\n",
        "* ``opacity``: transparency/opacity of the mark\n",
        "* ``shape``: shape of the mark\n",
        "* ``size``: size of the mark\n",
        "* ``row``: row within a grid of facet plots\n",
        "* ``column``: column within a grid of facet plots\n",
        "\n",
        "For a complete list of these encodings, see the [Encodings](https://altair-viz.github.io/user_guide/encoding.html) section of the documentation.\n",
        "\n",
        "Visual encodings can be created with the `encode()` method of the `Chart` object. For example, we can start by mapping the `y` axis of the chart to the `Origin` column:"
      ]
    },
    {
      "cell_type": "code",
      "execution_count": null,
      "metadata": {
        "colab": {
          "base_uri": "https://localhost:8080/",
          "height": 91
        },
        "id": "y9w0U51Dx3UB",
        "outputId": "f23198ce-d319-4b76-f89e-95c52065c4c0"
      },
      "outputs": [
        {
          "ename": "",
          "evalue": "",
          "output_type": "error",
          "traceback": [
            "\u001b[1;31mFailed to start the Kernel. \n",
            "\u001b[1;31mTraceback (most recent call last):\n",
            "\u001b[1;31m  File \"/Users/dylanlam/miniconda3/envs/myenv/lib/python3.8/runpy.py\", line 194, in _run_module_as_main\n",
            "\u001b[1;31m    return _run_code(code, main_globals, None,\n",
            "\u001b[1;31m  File \"/Users/dylanlam/miniconda3/envs/myenv/lib/python3.8/runpy.py\", line 87, in _run_code\n",
            "\u001b[1;31m    exec(code, run_globals)\n",
            "\u001b[1;31m  File \"/Users/dylanlam/miniconda3/envs/myenv/lib/python3.8/site-packages/ipykernel_launcher.py\", line 15, in <module>\n",
            "\u001b[1;31m    from ipykernel import kernelapp as app\n",
            "\u001b[1;31m  File \"/Users/dylanlam/miniconda3/envs/myenv/lib/python3.8/site-packages/ipykernel/kernelapp.py\", line 19, in <module>\n",
            "\u001b[1;31m    from IPython.core.application import (  # type:ignore[attr-defined]\n",
            "\u001b[1;31m  File \"/Users/dylanlam/miniconda3/envs/myenv/lib/python3.8/site-packages/IPython/__init__.py\", line 53, in <module>\n",
            "\u001b[1;31m    from .terminal.embed import embed\n",
            "\u001b[1;31m  File \"/Users/dylanlam/miniconda3/envs/myenv/lib/python3.8/site-packages/IPython/terminal/embed.py\", line 15, in <module>\n",
            "\u001b[1;31m    from IPython.core.interactiveshell import DummyMod, InteractiveShell\n",
            "\u001b[1;31m  File \"/Users/dylanlam/miniconda3/envs/myenv/lib/python3.8/site-packages/IPython/core/interactiveshell.py\", line 73, in <module>\n",
            "\u001b[1;31m    from IPython.core.history import HistoryManager\n",
            "\u001b[1;31m  File \"/Users/dylanlam/miniconda3/envs/myenv/lib/python3.8/site-packages/IPython/core/history.py\", line 11, in <module>\n",
            "\u001b[1;31m    import sqlite3\n",
            "\u001b[1;31m  File \"/Users/dylanlam/miniconda3/envs/myenv/lib/python3.8/sqlite3/__init__.py\", line 23, in <module>\n",
            "\u001b[1;31m    from sqlite3.dbapi2 import *\n",
            "\u001b[1;31m  File \"/Users/dylanlam/miniconda3/envs/myenv/lib/python3.8/sqlite3/dbapi2.py\", line 27, in <module>\n",
            "\u001b[1;31m    from _sqlite3 import *\n",
            "\u001b[1;31mImportError: dlopen(/Users/dylanlam/miniconda3/envs/myenv/lib/python3.8/lib-dynload/_sqlite3.cpython-38-darwin.so, 2): Symbol not found: _sqlite3_enable_load_extension\n",
            "\u001b[1;31m  Referenced from: /Users/dylanlam/miniconda3/envs/myenv/lib/python3.8/lib-dynload/_sqlite3.cpython-38-darwin.so\n",
            "\u001b[1;31m  Expected in: /usr/lib/libsqlite3.dylib\n",
            "\u001b[1;31m in /Users/dylanlam/miniconda3/envs/myenv/lib/python3.8/lib-dynload/_sqlite3.cpython-38-darwin.so. \n",
            "\u001b[1;31mView Jupyter <a href='command:jupyter.viewOutput'>log</a> for further details."
          ]
        }
      ],
      "source": [
        "alt.Chart(cars).mark_point().encode(\n",
        "    y='Origin'\n",
        ")"
      ]
    },
    {
      "cell_type": "markdown",
      "metadata": {
        "id": "0aYCQFJ0x3UB"
      },
      "source": [
        "The result is a one-dimensional visualization representing the values taken on by `Origin`, with the points in each category on top of each other.\n",
        "As above, we can view the JSON data generated for this visualization:"
      ]
    },
    {
      "cell_type": "code",
      "execution_count": null,
      "metadata": {
        "colab": {
          "base_uri": "https://localhost:8080/"
        },
        "id": "XIe4CYcpx3UB",
        "outputId": "4d9ad172-7f1b-4120-8964-d2fd8e187683"
      },
      "outputs": [
        {
          "ename": "",
          "evalue": "",
          "output_type": "error",
          "traceback": [
            "\u001b[1;31mFailed to start the Kernel. \n",
            "\u001b[1;31mTraceback (most recent call last):\n",
            "\u001b[1;31m  File \"/Users/dylanlam/miniconda3/envs/myenv/lib/python3.8/runpy.py\", line 194, in _run_module_as_main\n",
            "\u001b[1;31m    return _run_code(code, main_globals, None,\n",
            "\u001b[1;31m  File \"/Users/dylanlam/miniconda3/envs/myenv/lib/python3.8/runpy.py\", line 87, in _run_code\n",
            "\u001b[1;31m    exec(code, run_globals)\n",
            "\u001b[1;31m  File \"/Users/dylanlam/miniconda3/envs/myenv/lib/python3.8/site-packages/ipykernel_launcher.py\", line 15, in <module>\n",
            "\u001b[1;31m    from ipykernel import kernelapp as app\n",
            "\u001b[1;31m  File \"/Users/dylanlam/miniconda3/envs/myenv/lib/python3.8/site-packages/ipykernel/kernelapp.py\", line 19, in <module>\n",
            "\u001b[1;31m    from IPython.core.application import (  # type:ignore[attr-defined]\n",
            "\u001b[1;31m  File \"/Users/dylanlam/miniconda3/envs/myenv/lib/python3.8/site-packages/IPython/__init__.py\", line 53, in <module>\n",
            "\u001b[1;31m    from .terminal.embed import embed\n",
            "\u001b[1;31m  File \"/Users/dylanlam/miniconda3/envs/myenv/lib/python3.8/site-packages/IPython/terminal/embed.py\", line 15, in <module>\n",
            "\u001b[1;31m    from IPython.core.interactiveshell import DummyMod, InteractiveShell\n",
            "\u001b[1;31m  File \"/Users/dylanlam/miniconda3/envs/myenv/lib/python3.8/site-packages/IPython/core/interactiveshell.py\", line 73, in <module>\n",
            "\u001b[1;31m    from IPython.core.history import HistoryManager\n",
            "\u001b[1;31m  File \"/Users/dylanlam/miniconda3/envs/myenv/lib/python3.8/site-packages/IPython/core/history.py\", line 11, in <module>\n",
            "\u001b[1;31m    import sqlite3\n",
            "\u001b[1;31m  File \"/Users/dylanlam/miniconda3/envs/myenv/lib/python3.8/sqlite3/__init__.py\", line 23, in <module>\n",
            "\u001b[1;31m    from sqlite3.dbapi2 import *\n",
            "\u001b[1;31m  File \"/Users/dylanlam/miniconda3/envs/myenv/lib/python3.8/sqlite3/dbapi2.py\", line 27, in <module>\n",
            "\u001b[1;31m    from _sqlite3 import *\n",
            "\u001b[1;31mImportError: dlopen(/Users/dylanlam/miniconda3/envs/myenv/lib/python3.8/lib-dynload/_sqlite3.cpython-38-darwin.so, 2): Symbol not found: _sqlite3_enable_load_extension\n",
            "\u001b[1;31m  Referenced from: /Users/dylanlam/miniconda3/envs/myenv/lib/python3.8/lib-dynload/_sqlite3.cpython-38-darwin.so\n",
            "\u001b[1;31m  Expected in: /usr/lib/libsqlite3.dylib\n",
            "\u001b[1;31m in /Users/dylanlam/miniconda3/envs/myenv/lib/python3.8/lib-dynload/_sqlite3.cpython-38-darwin.so. \n",
            "\u001b[1;31mView Jupyter <a href='command:jupyter.viewOutput'>log</a> for further details."
          ]
        }
      ],
      "source": [
        "alt.Chart(cars1).mark_point().encode(\n",
        "    x='Origin'\n",
        ").to_dict()"
      ]
    },
    {
      "cell_type": "markdown",
      "metadata": {
        "id": "4P_PBYzgx3UB"
      },
      "source": [
        "The result is the same as above with the addition of the `'encoding'` key, which specifies the visualization channel (`y`), the name of the field (`Origin`), and the type of the variable (`nominal`).\n",
        "We'll discuss these data types in a moment."
      ]
    },
    {
      "cell_type": "markdown",
      "metadata": {
        "id": "HJq0BQFpx3UB"
      },
      "source": [
        "The visualization can be made more interesting by adding another channel to the encoding: let's encode the `Miles_per_Gallon` as the `x` position:"
      ]
    },
    {
      "cell_type": "code",
      "execution_count": null,
      "metadata": {
        "colab": {
          "base_uri": "https://localhost:8080/",
          "height": 123
        },
        "id": "4krcePfsx3UB",
        "outputId": "fb95a62e-d898-437b-a112-579190529298"
      },
      "outputs": [
        {
          "ename": "",
          "evalue": "",
          "output_type": "error",
          "traceback": [
            "\u001b[1;31mFailed to start the Kernel. \n",
            "\u001b[1;31mTraceback (most recent call last):\n",
            "\u001b[1;31m  File \"/Users/dylanlam/miniconda3/envs/myenv/lib/python3.8/runpy.py\", line 194, in _run_module_as_main\n",
            "\u001b[1;31m    return _run_code(code, main_globals, None,\n",
            "\u001b[1;31m  File \"/Users/dylanlam/miniconda3/envs/myenv/lib/python3.8/runpy.py\", line 87, in _run_code\n",
            "\u001b[1;31m    exec(code, run_globals)\n",
            "\u001b[1;31m  File \"/Users/dylanlam/miniconda3/envs/myenv/lib/python3.8/site-packages/ipykernel_launcher.py\", line 15, in <module>\n",
            "\u001b[1;31m    from ipykernel import kernelapp as app\n",
            "\u001b[1;31m  File \"/Users/dylanlam/miniconda3/envs/myenv/lib/python3.8/site-packages/ipykernel/kernelapp.py\", line 19, in <module>\n",
            "\u001b[1;31m    from IPython.core.application import (  # type:ignore[attr-defined]\n",
            "\u001b[1;31m  File \"/Users/dylanlam/miniconda3/envs/myenv/lib/python3.8/site-packages/IPython/__init__.py\", line 53, in <module>\n",
            "\u001b[1;31m    from .terminal.embed import embed\n",
            "\u001b[1;31m  File \"/Users/dylanlam/miniconda3/envs/myenv/lib/python3.8/site-packages/IPython/terminal/embed.py\", line 15, in <module>\n",
            "\u001b[1;31m    from IPython.core.interactiveshell import DummyMod, InteractiveShell\n",
            "\u001b[1;31m  File \"/Users/dylanlam/miniconda3/envs/myenv/lib/python3.8/site-packages/IPython/core/interactiveshell.py\", line 73, in <module>\n",
            "\u001b[1;31m    from IPython.core.history import HistoryManager\n",
            "\u001b[1;31m  File \"/Users/dylanlam/miniconda3/envs/myenv/lib/python3.8/site-packages/IPython/core/history.py\", line 11, in <module>\n",
            "\u001b[1;31m    import sqlite3\n",
            "\u001b[1;31m  File \"/Users/dylanlam/miniconda3/envs/myenv/lib/python3.8/sqlite3/__init__.py\", line 23, in <module>\n",
            "\u001b[1;31m    from sqlite3.dbapi2 import *\n",
            "\u001b[1;31m  File \"/Users/dylanlam/miniconda3/envs/myenv/lib/python3.8/sqlite3/dbapi2.py\", line 27, in <module>\n",
            "\u001b[1;31m    from _sqlite3 import *\n",
            "\u001b[1;31mImportError: dlopen(/Users/dylanlam/miniconda3/envs/myenv/lib/python3.8/lib-dynload/_sqlite3.cpython-38-darwin.so, 2): Symbol not found: _sqlite3_enable_load_extension\n",
            "\u001b[1;31m  Referenced from: /Users/dylanlam/miniconda3/envs/myenv/lib/python3.8/lib-dynload/_sqlite3.cpython-38-darwin.so\n",
            "\u001b[1;31m  Expected in: /usr/lib/libsqlite3.dylib\n",
            "\u001b[1;31m in /Users/dylanlam/miniconda3/envs/myenv/lib/python3.8/lib-dynload/_sqlite3.cpython-38-darwin.so. \n",
            "\u001b[1;31mView Jupyter <a href='command:jupyter.viewOutput'>log</a> for further details."
          ]
        }
      ],
      "source": [
        "alt.Chart(cars).mark_point().encode(\n",
        "    y='Origin',\n",
        "    x='Miles_per_Gallon'\n",
        ")"
      ]
    },
    {
      "cell_type": "markdown",
      "metadata": {
        "id": "Ay-mclcsx3UB"
      },
      "source": [
        "You can add as many encodings as you wish, with each encoding mapped to a column in the data.\n",
        "For example, here we will color the points by *Origin*, and plot *Miles_per_gallon* vs *Year*:"
      ]
    },
    {
      "cell_type": "code",
      "execution_count": null,
      "metadata": {
        "colab": {
          "base_uri": "https://localhost:8080/",
          "height": 368
        },
        "id": "awONIjBJx3UB",
        "outputId": "9364c082-c8e2-48ed-ae77-bc9479e73ab6"
      },
      "outputs": [
        {
          "ename": "",
          "evalue": "",
          "output_type": "error",
          "traceback": [
            "\u001b[1;31mFailed to start the Kernel. \n",
            "\u001b[1;31mTraceback (most recent call last):\n",
            "\u001b[1;31m  File \"/Users/dylanlam/miniconda3/envs/myenv/lib/python3.8/runpy.py\", line 194, in _run_module_as_main\n",
            "\u001b[1;31m    return _run_code(code, main_globals, None,\n",
            "\u001b[1;31m  File \"/Users/dylanlam/miniconda3/envs/myenv/lib/python3.8/runpy.py\", line 87, in _run_code\n",
            "\u001b[1;31m    exec(code, run_globals)\n",
            "\u001b[1;31m  File \"/Users/dylanlam/miniconda3/envs/myenv/lib/python3.8/site-packages/ipykernel_launcher.py\", line 15, in <module>\n",
            "\u001b[1;31m    from ipykernel import kernelapp as app\n",
            "\u001b[1;31m  File \"/Users/dylanlam/miniconda3/envs/myenv/lib/python3.8/site-packages/ipykernel/kernelapp.py\", line 19, in <module>\n",
            "\u001b[1;31m    from IPython.core.application import (  # type:ignore[attr-defined]\n",
            "\u001b[1;31m  File \"/Users/dylanlam/miniconda3/envs/myenv/lib/python3.8/site-packages/IPython/__init__.py\", line 53, in <module>\n",
            "\u001b[1;31m    from .terminal.embed import embed\n",
            "\u001b[1;31m  File \"/Users/dylanlam/miniconda3/envs/myenv/lib/python3.8/site-packages/IPython/terminal/embed.py\", line 15, in <module>\n",
            "\u001b[1;31m    from IPython.core.interactiveshell import DummyMod, InteractiveShell\n",
            "\u001b[1;31m  File \"/Users/dylanlam/miniconda3/envs/myenv/lib/python3.8/site-packages/IPython/core/interactiveshell.py\", line 73, in <module>\n",
            "\u001b[1;31m    from IPython.core.history import HistoryManager\n",
            "\u001b[1;31m  File \"/Users/dylanlam/miniconda3/envs/myenv/lib/python3.8/site-packages/IPython/core/history.py\", line 11, in <module>\n",
            "\u001b[1;31m    import sqlite3\n",
            "\u001b[1;31m  File \"/Users/dylanlam/miniconda3/envs/myenv/lib/python3.8/sqlite3/__init__.py\", line 23, in <module>\n",
            "\u001b[1;31m    from sqlite3.dbapi2 import *\n",
            "\u001b[1;31m  File \"/Users/dylanlam/miniconda3/envs/myenv/lib/python3.8/sqlite3/dbapi2.py\", line 27, in <module>\n",
            "\u001b[1;31m    from _sqlite3 import *\n",
            "\u001b[1;31mImportError: dlopen(/Users/dylanlam/miniconda3/envs/myenv/lib/python3.8/lib-dynload/_sqlite3.cpython-38-darwin.so, 2): Symbol not found: _sqlite3_enable_load_extension\n",
            "\u001b[1;31m  Referenced from: /Users/dylanlam/miniconda3/envs/myenv/lib/python3.8/lib-dynload/_sqlite3.cpython-38-darwin.so\n",
            "\u001b[1;31m  Expected in: /usr/lib/libsqlite3.dylib\n",
            "\u001b[1;31m in /Users/dylanlam/miniconda3/envs/myenv/lib/python3.8/lib-dynload/_sqlite3.cpython-38-darwin.so. \n",
            "\u001b[1;31mView Jupyter <a href='command:jupyter.viewOutput'>log</a> for further details."
          ]
        }
      ],
      "source": [
        "alt.Chart(cars).mark_point().encode(\n",
        "    color='Origin',\n",
        "    y='Miles_per_Gallon',\n",
        "    x='Year'\n",
        ")"
      ]
    },
    {
      "cell_type": "markdown",
      "metadata": {
        "id": "zHjpKH9xx3UB"
      },
      "source": [
        "#### Encoding Types"
      ]
    },
    {
      "cell_type": "markdown",
      "metadata": {
        "id": "cxlOGA6Lx3UB"
      },
      "source": [
        "One of the central ideas of Altair is that the library will **choose good defaults for your data type**.\n",
        "\n",
        "The basic data types supported by Altair are as follows:\n",
        "\n",
        "<table>\n",
        "  <tr>\n",
        "    <th>Data Type</th>\n",
        "    <th>Code</th>\n",
        "    <th>Description</th>\n",
        "  </tr>\n",
        "  <tr>\n",
        "    <td>quantitative</td>\n",
        "    <td>Q</td>\n",
        "    <td>Numerical quantity (real-valued)</td>\n",
        "  </tr>\n",
        "  <tr>\n",
        "    <td>nominal</td>\n",
        "    <td>N</td>\n",
        "    <td>Name / Unordered categorical</td>\n",
        "  </tr>\n",
        "  <tr>\n",
        "    <td>ordinal</td>\n",
        "    <td>O</td>\n",
        "    <td>Ordered categorial</td>\n",
        "  </tr>\n",
        "  <tr>\n",
        "    <td>temporal</td>\n",
        "    <td>T</td>\n",
        "    <td>Date/time</td>\n",
        "  </tr>\n",
        "</table>\n",
        "\n",
        "When you specify data as a pandas dataframe, these types are **automatically determined** by Altair.\n",
        "\n",
        "When you specify data as a URL, you must **manually specify** data types for each of your columns."
      ]
    },
    {
      "cell_type": "markdown",
      "metadata": {
        "id": "VthF3uiWx3UB"
      },
      "source": [
        "Let's look at a simple plot containing three of the columns from the cars data:"
      ]
    },
    {
      "cell_type": "code",
      "execution_count": null,
      "metadata": {
        "colab": {
          "base_uri": "https://localhost:8080/"
        },
        "id": "gZW_SeTCx3UB",
        "outputId": "6a17ca31-e2bf-405b-a880-5563d7e5404f"
      },
      "outputs": [
        {
          "ename": "",
          "evalue": "",
          "output_type": "error",
          "traceback": [
            "\u001b[1;31mFailed to start the Kernel. \n",
            "\u001b[1;31mTraceback (most recent call last):\n",
            "\u001b[1;31m  File \"/Users/dylanlam/miniconda3/envs/myenv/lib/python3.8/runpy.py\", line 194, in _run_module_as_main\n",
            "\u001b[1;31m    return _run_code(code, main_globals, None,\n",
            "\u001b[1;31m  File \"/Users/dylanlam/miniconda3/envs/myenv/lib/python3.8/runpy.py\", line 87, in _run_code\n",
            "\u001b[1;31m    exec(code, run_globals)\n",
            "\u001b[1;31m  File \"/Users/dylanlam/miniconda3/envs/myenv/lib/python3.8/site-packages/ipykernel_launcher.py\", line 15, in <module>\n",
            "\u001b[1;31m    from ipykernel import kernelapp as app\n",
            "\u001b[1;31m  File \"/Users/dylanlam/miniconda3/envs/myenv/lib/python3.8/site-packages/ipykernel/kernelapp.py\", line 19, in <module>\n",
            "\u001b[1;31m    from IPython.core.application import (  # type:ignore[attr-defined]\n",
            "\u001b[1;31m  File \"/Users/dylanlam/miniconda3/envs/myenv/lib/python3.8/site-packages/IPython/__init__.py\", line 53, in <module>\n",
            "\u001b[1;31m    from .terminal.embed import embed\n",
            "\u001b[1;31m  File \"/Users/dylanlam/miniconda3/envs/myenv/lib/python3.8/site-packages/IPython/terminal/embed.py\", line 15, in <module>\n",
            "\u001b[1;31m    from IPython.core.interactiveshell import DummyMod, InteractiveShell\n",
            "\u001b[1;31m  File \"/Users/dylanlam/miniconda3/envs/myenv/lib/python3.8/site-packages/IPython/core/interactiveshell.py\", line 73, in <module>\n",
            "\u001b[1;31m    from IPython.core.history import HistoryManager\n",
            "\u001b[1;31m  File \"/Users/dylanlam/miniconda3/envs/myenv/lib/python3.8/site-packages/IPython/core/history.py\", line 11, in <module>\n",
            "\u001b[1;31m    import sqlite3\n",
            "\u001b[1;31m  File \"/Users/dylanlam/miniconda3/envs/myenv/lib/python3.8/sqlite3/__init__.py\", line 23, in <module>\n",
            "\u001b[1;31m    from sqlite3.dbapi2 import *\n",
            "\u001b[1;31m  File \"/Users/dylanlam/miniconda3/envs/myenv/lib/python3.8/sqlite3/dbapi2.py\", line 27, in <module>\n",
            "\u001b[1;31m    from _sqlite3 import *\n",
            "\u001b[1;31mImportError: dlopen(/Users/dylanlam/miniconda3/envs/myenv/lib/python3.8/lib-dynload/_sqlite3.cpython-38-darwin.so, 2): Symbol not found: _sqlite3_enable_load_extension\n",
            "\u001b[1;31m  Referenced from: /Users/dylanlam/miniconda3/envs/myenv/lib/python3.8/lib-dynload/_sqlite3.cpython-38-darwin.so\n",
            "\u001b[1;31m  Expected in: /usr/lib/libsqlite3.dylib\n",
            "\u001b[1;31m in /Users/dylanlam/miniconda3/envs/myenv/lib/python3.8/lib-dynload/_sqlite3.cpython-38-darwin.so. \n",
            "\u001b[1;31mView Jupyter <a href='command:jupyter.viewOutput'>log</a> for further details."
          ]
        }
      ],
      "source": [
        "alt.Chart(cars).mark_tick().encode(\n",
        "    x='Miles_per_Gallon',\n",
        "    y='Origin',\n",
        "    color='Cylinders'\n",
        ")"
      ]
    },
    {
      "cell_type": "markdown",
      "metadata": {
        "id": "o97d4Lk6x3UB"
      },
      "source": [
        "Questions to ponder:\n",
        "\n",
        "- what data type best goes with ``Miles_per_Gallon``?\n",
        "- what data type best goes with ``Origin``?\n",
        "- what data type best goes with ``Cylinders``?"
      ]
    },
    {
      "cell_type": "markdown",
      "metadata": {
        "id": "NzYv3xVjx3UB"
      },
      "source": [
        "Let's add the shorthands for each of these data types to our specification, using the one-letter codes above\n",
        "(for example, change ``\"Miles_per_Gallon\"`` to ``\"Miles_per_Gallon:Q\"`` to explicitly specify that it is a quantitative type):"
      ]
    },
    {
      "cell_type": "code",
      "execution_count": null,
      "metadata": {
        "colab": {
          "base_uri": "https://localhost:8080/"
        },
        "id": "yh_K_yDvx3UC",
        "outputId": "3ee811f2-dcba-4e66-c319-6d3f1b88c497"
      },
      "outputs": [
        {
          "ename": "",
          "evalue": "",
          "output_type": "error",
          "traceback": [
            "\u001b[1;31mFailed to start the Kernel. \n",
            "\u001b[1;31mTraceback (most recent call last):\n",
            "\u001b[1;31m  File \"/Users/dylanlam/miniconda3/envs/myenv/lib/python3.8/runpy.py\", line 194, in _run_module_as_main\n",
            "\u001b[1;31m    return _run_code(code, main_globals, None,\n",
            "\u001b[1;31m  File \"/Users/dylanlam/miniconda3/envs/myenv/lib/python3.8/runpy.py\", line 87, in _run_code\n",
            "\u001b[1;31m    exec(code, run_globals)\n",
            "\u001b[1;31m  File \"/Users/dylanlam/miniconda3/envs/myenv/lib/python3.8/site-packages/ipykernel_launcher.py\", line 15, in <module>\n",
            "\u001b[1;31m    from ipykernel import kernelapp as app\n",
            "\u001b[1;31m  File \"/Users/dylanlam/miniconda3/envs/myenv/lib/python3.8/site-packages/ipykernel/kernelapp.py\", line 19, in <module>\n",
            "\u001b[1;31m    from IPython.core.application import (  # type:ignore[attr-defined]\n",
            "\u001b[1;31m  File \"/Users/dylanlam/miniconda3/envs/myenv/lib/python3.8/site-packages/IPython/__init__.py\", line 53, in <module>\n",
            "\u001b[1;31m    from .terminal.embed import embed\n",
            "\u001b[1;31m  File \"/Users/dylanlam/miniconda3/envs/myenv/lib/python3.8/site-packages/IPython/terminal/embed.py\", line 15, in <module>\n",
            "\u001b[1;31m    from IPython.core.interactiveshell import DummyMod, InteractiveShell\n",
            "\u001b[1;31m  File \"/Users/dylanlam/miniconda3/envs/myenv/lib/python3.8/site-packages/IPython/core/interactiveshell.py\", line 73, in <module>\n",
            "\u001b[1;31m    from IPython.core.history import HistoryManager\n",
            "\u001b[1;31m  File \"/Users/dylanlam/miniconda3/envs/myenv/lib/python3.8/site-packages/IPython/core/history.py\", line 11, in <module>\n",
            "\u001b[1;31m    import sqlite3\n",
            "\u001b[1;31m  File \"/Users/dylanlam/miniconda3/envs/myenv/lib/python3.8/sqlite3/__init__.py\", line 23, in <module>\n",
            "\u001b[1;31m    from sqlite3.dbapi2 import *\n",
            "\u001b[1;31m  File \"/Users/dylanlam/miniconda3/envs/myenv/lib/python3.8/sqlite3/dbapi2.py\", line 27, in <module>\n",
            "\u001b[1;31m    from _sqlite3 import *\n",
            "\u001b[1;31mImportError: dlopen(/Users/dylanlam/miniconda3/envs/myenv/lib/python3.8/lib-dynload/_sqlite3.cpython-38-darwin.so, 2): Symbol not found: _sqlite3_enable_load_extension\n",
            "\u001b[1;31m  Referenced from: /Users/dylanlam/miniconda3/envs/myenv/lib/python3.8/lib-dynload/_sqlite3.cpython-38-darwin.so\n",
            "\u001b[1;31m  Expected in: /usr/lib/libsqlite3.dylib\n",
            "\u001b[1;31m in /Users/dylanlam/miniconda3/envs/myenv/lib/python3.8/lib-dynload/_sqlite3.cpython-38-darwin.so. \n",
            "\u001b[1;31mView Jupyter <a href='command:jupyter.viewOutput'>log</a> for further details."
          ]
        }
      ],
      "source": [
        "alt.Chart(cars).mark_tick().encode(\n",
        "    x='Miles_per_Gallon:Q',\n",
        "    y='Origin:N',\n",
        "    color='Cylinders:O'\n",
        ")"
      ]
    },
    {
      "cell_type": "markdown",
      "metadata": {
        "id": "rgTzhdYtx3UC"
      },
      "source": [
        "Notice how if we change the data type for ``'Cylinders'`` to ordinal the plot changes.\n",
        "\n",
        "As you use Altair, it is useful to get into the habit of always specifying these types explicitly, because this is *mandatory* when working with data loaded from a file or a URL."
      ]
    },
    {
      "cell_type": "markdown",
      "metadata": {
        "id": "tOHorOe9x3UC"
      },
      "source": [
        "#### **Exercises**\n",
        "\n",
        "Create the following Graphs:\n",
        "\n",
        "  1. A Scatter plot of \"Weight_in_lbs\" on the x-axis, and \"Acceleration\" in the y-axis with the number of cylinders encoded in the color channel of all the cars in the dataframe. **(10 marks)**\n",
        "  2. A horizontal histogram of the country of origin ([this documentation](https://altair-viz.github.io/gallery/simple_histogram.html) might help) of all the cars in the dataframe. **(15 marks)**\n",
        "  3. A Heatmap of the binned horsepower (x) and the binned displacement (y) with the count representing color. ([this documentation](https://altair-viz.github.io/gallery/binned_heatmap.html) might help).  Use 20 bins for each dimension. **(15 marks)**"
      ]
    },
    {
      "cell_type": "code",
      "execution_count": null,
      "metadata": {
        "id": "jSd7yRPHx3UC"
      },
      "outputs": [
        {
          "ename": "",
          "evalue": "",
          "output_type": "error",
          "traceback": [
            "\u001b[1;31mFailed to start the Kernel. \n",
            "\u001b[1;31mTraceback (most recent call last):\n",
            "\u001b[1;31m  File \"/Users/dylanlam/miniconda3/envs/myenv/lib/python3.8/runpy.py\", line 194, in _run_module_as_main\n",
            "\u001b[1;31m    return _run_code(code, main_globals, None,\n",
            "\u001b[1;31m  File \"/Users/dylanlam/miniconda3/envs/myenv/lib/python3.8/runpy.py\", line 87, in _run_code\n",
            "\u001b[1;31m    exec(code, run_globals)\n",
            "\u001b[1;31m  File \"/Users/dylanlam/miniconda3/envs/myenv/lib/python3.8/site-packages/ipykernel_launcher.py\", line 15, in <module>\n",
            "\u001b[1;31m    from ipykernel import kernelapp as app\n",
            "\u001b[1;31m  File \"/Users/dylanlam/miniconda3/envs/myenv/lib/python3.8/site-packages/ipykernel/kernelapp.py\", line 19, in <module>\n",
            "\u001b[1;31m    from IPython.core.application import (  # type:ignore[attr-defined]\n",
            "\u001b[1;31m  File \"/Users/dylanlam/miniconda3/envs/myenv/lib/python3.8/site-packages/IPython/__init__.py\", line 53, in <module>\n",
            "\u001b[1;31m    from .terminal.embed import embed\n",
            "\u001b[1;31m  File \"/Users/dylanlam/miniconda3/envs/myenv/lib/python3.8/site-packages/IPython/terminal/embed.py\", line 15, in <module>\n",
            "\u001b[1;31m    from IPython.core.interactiveshell import DummyMod, InteractiveShell\n",
            "\u001b[1;31m  File \"/Users/dylanlam/miniconda3/envs/myenv/lib/python3.8/site-packages/IPython/core/interactiveshell.py\", line 73, in <module>\n",
            "\u001b[1;31m    from IPython.core.history import HistoryManager\n",
            "\u001b[1;31m  File \"/Users/dylanlam/miniconda3/envs/myenv/lib/python3.8/site-packages/IPython/core/history.py\", line 11, in <module>\n",
            "\u001b[1;31m    import sqlite3\n",
            "\u001b[1;31m  File \"/Users/dylanlam/miniconda3/envs/myenv/lib/python3.8/sqlite3/__init__.py\", line 23, in <module>\n",
            "\u001b[1;31m    from sqlite3.dbapi2 import *\n",
            "\u001b[1;31m  File \"/Users/dylanlam/miniconda3/envs/myenv/lib/python3.8/sqlite3/dbapi2.py\", line 27, in <module>\n",
            "\u001b[1;31m    from _sqlite3 import *\n",
            "\u001b[1;31mImportError: dlopen(/Users/dylanlam/miniconda3/envs/myenv/lib/python3.8/lib-dynload/_sqlite3.cpython-38-darwin.so, 2): Symbol not found: _sqlite3_enable_load_extension\n",
            "\u001b[1;31m  Referenced from: /Users/dylanlam/miniconda3/envs/myenv/lib/python3.8/lib-dynload/_sqlite3.cpython-38-darwin.so\n",
            "\u001b[1;31m  Expected in: /usr/lib/libsqlite3.dylib\n",
            "\u001b[1;31m in /Users/dylanlam/miniconda3/envs/myenv/lib/python3.8/lib-dynload/_sqlite3.cpython-38-darwin.so. \n",
            "\u001b[1;31mView Jupyter <a href='command:jupyter.viewOutput'>log</a> for further details."
          ]
        }
      ],
      "source": [
        "# Code for visualization 1"
      ]
    },
    {
      "cell_type": "code",
      "execution_count": null,
      "metadata": {
        "id": "2zP7umlix3UC"
      },
      "outputs": [
        {
          "ename": "",
          "evalue": "",
          "output_type": "error",
          "traceback": [
            "\u001b[1;31mFailed to start the Kernel. \n",
            "\u001b[1;31mTraceback (most recent call last):\n",
            "\u001b[1;31m  File \"/Users/dylanlam/miniconda3/envs/myenv/lib/python3.8/runpy.py\", line 194, in _run_module_as_main\n",
            "\u001b[1;31m    return _run_code(code, main_globals, None,\n",
            "\u001b[1;31m  File \"/Users/dylanlam/miniconda3/envs/myenv/lib/python3.8/runpy.py\", line 87, in _run_code\n",
            "\u001b[1;31m    exec(code, run_globals)\n",
            "\u001b[1;31m  File \"/Users/dylanlam/miniconda3/envs/myenv/lib/python3.8/site-packages/ipykernel_launcher.py\", line 15, in <module>\n",
            "\u001b[1;31m    from ipykernel import kernelapp as app\n",
            "\u001b[1;31m  File \"/Users/dylanlam/miniconda3/envs/myenv/lib/python3.8/site-packages/ipykernel/kernelapp.py\", line 19, in <module>\n",
            "\u001b[1;31m    from IPython.core.application import (  # type:ignore[attr-defined]\n",
            "\u001b[1;31m  File \"/Users/dylanlam/miniconda3/envs/myenv/lib/python3.8/site-packages/IPython/__init__.py\", line 53, in <module>\n",
            "\u001b[1;31m    from .terminal.embed import embed\n",
            "\u001b[1;31m  File \"/Users/dylanlam/miniconda3/envs/myenv/lib/python3.8/site-packages/IPython/terminal/embed.py\", line 15, in <module>\n",
            "\u001b[1;31m    from IPython.core.interactiveshell import DummyMod, InteractiveShell\n",
            "\u001b[1;31m  File \"/Users/dylanlam/miniconda3/envs/myenv/lib/python3.8/site-packages/IPython/core/interactiveshell.py\", line 73, in <module>\n",
            "\u001b[1;31m    from IPython.core.history import HistoryManager\n",
            "\u001b[1;31m  File \"/Users/dylanlam/miniconda3/envs/myenv/lib/python3.8/site-packages/IPython/core/history.py\", line 11, in <module>\n",
            "\u001b[1;31m    import sqlite3\n",
            "\u001b[1;31m  File \"/Users/dylanlam/miniconda3/envs/myenv/lib/python3.8/sqlite3/__init__.py\", line 23, in <module>\n",
            "\u001b[1;31m    from sqlite3.dbapi2 import *\n",
            "\u001b[1;31m  File \"/Users/dylanlam/miniconda3/envs/myenv/lib/python3.8/sqlite3/dbapi2.py\", line 27, in <module>\n",
            "\u001b[1;31m    from _sqlite3 import *\n",
            "\u001b[1;31mImportError: dlopen(/Users/dylanlam/miniconda3/envs/myenv/lib/python3.8/lib-dynload/_sqlite3.cpython-38-darwin.so, 2): Symbol not found: _sqlite3_enable_load_extension\n",
            "\u001b[1;31m  Referenced from: /Users/dylanlam/miniconda3/envs/myenv/lib/python3.8/lib-dynload/_sqlite3.cpython-38-darwin.so\n",
            "\u001b[1;31m  Expected in: /usr/lib/libsqlite3.dylib\n",
            "\u001b[1;31m in /Users/dylanlam/miniconda3/envs/myenv/lib/python3.8/lib-dynload/_sqlite3.cpython-38-darwin.so. \n",
            "\u001b[1;31mView Jupyter <a href='command:jupyter.viewOutput'>log</a> for further details."
          ]
        }
      ],
      "source": [
        "# Code for visualization 2"
      ]
    },
    {
      "cell_type": "code",
      "execution_count": null,
      "metadata": {
        "id": "JRO0bhw-x3UC"
      },
      "outputs": [
        {
          "ename": "",
          "evalue": "",
          "output_type": "error",
          "traceback": [
            "\u001b[1;31mFailed to start the Kernel. \n",
            "\u001b[1;31mTraceback (most recent call last):\n",
            "\u001b[1;31m  File \"/Users/dylanlam/miniconda3/envs/myenv/lib/python3.8/runpy.py\", line 194, in _run_module_as_main\n",
            "\u001b[1;31m    return _run_code(code, main_globals, None,\n",
            "\u001b[1;31m  File \"/Users/dylanlam/miniconda3/envs/myenv/lib/python3.8/runpy.py\", line 87, in _run_code\n",
            "\u001b[1;31m    exec(code, run_globals)\n",
            "\u001b[1;31m  File \"/Users/dylanlam/miniconda3/envs/myenv/lib/python3.8/site-packages/ipykernel_launcher.py\", line 15, in <module>\n",
            "\u001b[1;31m    from ipykernel import kernelapp as app\n",
            "\u001b[1;31m  File \"/Users/dylanlam/miniconda3/envs/myenv/lib/python3.8/site-packages/ipykernel/kernelapp.py\", line 19, in <module>\n",
            "\u001b[1;31m    from IPython.core.application import (  # type:ignore[attr-defined]\n",
            "\u001b[1;31m  File \"/Users/dylanlam/miniconda3/envs/myenv/lib/python3.8/site-packages/IPython/__init__.py\", line 53, in <module>\n",
            "\u001b[1;31m    from .terminal.embed import embed\n",
            "\u001b[1;31m  File \"/Users/dylanlam/miniconda3/envs/myenv/lib/python3.8/site-packages/IPython/terminal/embed.py\", line 15, in <module>\n",
            "\u001b[1;31m    from IPython.core.interactiveshell import DummyMod, InteractiveShell\n",
            "\u001b[1;31m  File \"/Users/dylanlam/miniconda3/envs/myenv/lib/python3.8/site-packages/IPython/core/interactiveshell.py\", line 73, in <module>\n",
            "\u001b[1;31m    from IPython.core.history import HistoryManager\n",
            "\u001b[1;31m  File \"/Users/dylanlam/miniconda3/envs/myenv/lib/python3.8/site-packages/IPython/core/history.py\", line 11, in <module>\n",
            "\u001b[1;31m    import sqlite3\n",
            "\u001b[1;31m  File \"/Users/dylanlam/miniconda3/envs/myenv/lib/python3.8/sqlite3/__init__.py\", line 23, in <module>\n",
            "\u001b[1;31m    from sqlite3.dbapi2 import *\n",
            "\u001b[1;31m  File \"/Users/dylanlam/miniconda3/envs/myenv/lib/python3.8/sqlite3/dbapi2.py\", line 27, in <module>\n",
            "\u001b[1;31m    from _sqlite3 import *\n",
            "\u001b[1;31mImportError: dlopen(/Users/dylanlam/miniconda3/envs/myenv/lib/python3.8/lib-dynload/_sqlite3.cpython-38-darwin.so, 2): Symbol not found: _sqlite3_enable_load_extension\n",
            "\u001b[1;31m  Referenced from: /Users/dylanlam/miniconda3/envs/myenv/lib/python3.8/lib-dynload/_sqlite3.cpython-38-darwin.so\n",
            "\u001b[1;31m  Expected in: /usr/lib/libsqlite3.dylib\n",
            "\u001b[1;31m in /Users/dylanlam/miniconda3/envs/myenv/lib/python3.8/lib-dynload/_sqlite3.cpython-38-darwin.so. \n",
            "\u001b[1;31mView Jupyter <a href='command:jupyter.viewOutput'>log</a> for further details."
          ]
        }
      ],
      "source": [
        "# Code for visualization 3"
      ]
    },
    {
      "cell_type": "markdown",
      "metadata": {
        "id": "YhvU0sCEx3UC"
      },
      "source": [
        "#### Compound Charts\n",
        "\n",
        "Altair provides a concise API for creating multi-panel and layered charts, and we'll mention three of them explicitly here:\n",
        "\n",
        "- Layering\n",
        "- Horizontal Concatenation\n",
        "- Vertical Concatenation\n",
        "- Repeat Charts\n",
        "\n",
        "We'll explore those briefly here."
      ]
    },
    {
      "cell_type": "markdown",
      "metadata": {
        "id": "1-AxAwk5x3UC"
      },
      "source": [
        "#### Layering\n",
        "\n",
        "Layering lets you put layer multiple marks on a single Chart. One common example is creating a plot with both points and lines representing the same data.\n",
        "\n",
        "Let's use the ``stocks`` data for this example:"
      ]
    },
    {
      "cell_type": "code",
      "execution_count": null,
      "metadata": {
        "colab": {
          "base_uri": "https://localhost:8080/"
        },
        "id": "zQg_xbtFx3UD",
        "outputId": "850f3375-0806-4415-d088-ec86a0dcc04e"
      },
      "outputs": [
        {
          "ename": "",
          "evalue": "",
          "output_type": "error",
          "traceback": [
            "\u001b[1;31mFailed to start the Kernel. \n",
            "\u001b[1;31mTraceback (most recent call last):\n",
            "\u001b[1;31m  File \"/Users/dylanlam/miniconda3/envs/myenv/lib/python3.8/runpy.py\", line 194, in _run_module_as_main\n",
            "\u001b[1;31m    return _run_code(code, main_globals, None,\n",
            "\u001b[1;31m  File \"/Users/dylanlam/miniconda3/envs/myenv/lib/python3.8/runpy.py\", line 87, in _run_code\n",
            "\u001b[1;31m    exec(code, run_globals)\n",
            "\u001b[1;31m  File \"/Users/dylanlam/miniconda3/envs/myenv/lib/python3.8/site-packages/ipykernel_launcher.py\", line 15, in <module>\n",
            "\u001b[1;31m    from ipykernel import kernelapp as app\n",
            "\u001b[1;31m  File \"/Users/dylanlam/miniconda3/envs/myenv/lib/python3.8/site-packages/ipykernel/kernelapp.py\", line 19, in <module>\n",
            "\u001b[1;31m    from IPython.core.application import (  # type:ignore[attr-defined]\n",
            "\u001b[1;31m  File \"/Users/dylanlam/miniconda3/envs/myenv/lib/python3.8/site-packages/IPython/__init__.py\", line 53, in <module>\n",
            "\u001b[1;31m    from .terminal.embed import embed\n",
            "\u001b[1;31m  File \"/Users/dylanlam/miniconda3/envs/myenv/lib/python3.8/site-packages/IPython/terminal/embed.py\", line 15, in <module>\n",
            "\u001b[1;31m    from IPython.core.interactiveshell import DummyMod, InteractiveShell\n",
            "\u001b[1;31m  File \"/Users/dylanlam/miniconda3/envs/myenv/lib/python3.8/site-packages/IPython/core/interactiveshell.py\", line 73, in <module>\n",
            "\u001b[1;31m    from IPython.core.history import HistoryManager\n",
            "\u001b[1;31m  File \"/Users/dylanlam/miniconda3/envs/myenv/lib/python3.8/site-packages/IPython/core/history.py\", line 11, in <module>\n",
            "\u001b[1;31m    import sqlite3\n",
            "\u001b[1;31m  File \"/Users/dylanlam/miniconda3/envs/myenv/lib/python3.8/sqlite3/__init__.py\", line 23, in <module>\n",
            "\u001b[1;31m    from sqlite3.dbapi2 import *\n",
            "\u001b[1;31m  File \"/Users/dylanlam/miniconda3/envs/myenv/lib/python3.8/sqlite3/dbapi2.py\", line 27, in <module>\n",
            "\u001b[1;31m    from _sqlite3 import *\n",
            "\u001b[1;31mImportError: dlopen(/Users/dylanlam/miniconda3/envs/myenv/lib/python3.8/lib-dynload/_sqlite3.cpython-38-darwin.so, 2): Symbol not found: _sqlite3_enable_load_extension\n",
            "\u001b[1;31m  Referenced from: /Users/dylanlam/miniconda3/envs/myenv/lib/python3.8/lib-dynload/_sqlite3.cpython-38-darwin.so\n",
            "\u001b[1;31m  Expected in: /usr/lib/libsqlite3.dylib\n",
            "\u001b[1;31m in /Users/dylanlam/miniconda3/envs/myenv/lib/python3.8/lib-dynload/_sqlite3.cpython-38-darwin.so. \n",
            "\u001b[1;31mView Jupyter <a href='command:jupyter.viewOutput'>log</a> for further details."
          ]
        }
      ],
      "source": [
        "from vega_datasets import data\n",
        "stocks = data.stocks()\n",
        "stocks.head()"
      ]
    },
    {
      "cell_type": "markdown",
      "metadata": {
        "id": "UfWtDyjlx3UD"
      },
      "source": [
        "Here is a simple line plot for the stocks data:"
      ]
    },
    {
      "cell_type": "code",
      "execution_count": null,
      "metadata": {
        "colab": {
          "base_uri": "https://localhost:8080/"
        },
        "id": "W-5q_00Nx3UD",
        "outputId": "fb9ae356-803e-43c4-f405-1f7b9a9f8b1e"
      },
      "outputs": [
        {
          "ename": "",
          "evalue": "",
          "output_type": "error",
          "traceback": [
            "\u001b[1;31mFailed to start the Kernel. \n",
            "\u001b[1;31mTraceback (most recent call last):\n",
            "\u001b[1;31m  File \"/Users/dylanlam/miniconda3/envs/myenv/lib/python3.8/runpy.py\", line 194, in _run_module_as_main\n",
            "\u001b[1;31m    return _run_code(code, main_globals, None,\n",
            "\u001b[1;31m  File \"/Users/dylanlam/miniconda3/envs/myenv/lib/python3.8/runpy.py\", line 87, in _run_code\n",
            "\u001b[1;31m    exec(code, run_globals)\n",
            "\u001b[1;31m  File \"/Users/dylanlam/miniconda3/envs/myenv/lib/python3.8/site-packages/ipykernel_launcher.py\", line 15, in <module>\n",
            "\u001b[1;31m    from ipykernel import kernelapp as app\n",
            "\u001b[1;31m  File \"/Users/dylanlam/miniconda3/envs/myenv/lib/python3.8/site-packages/ipykernel/kernelapp.py\", line 19, in <module>\n",
            "\u001b[1;31m    from IPython.core.application import (  # type:ignore[attr-defined]\n",
            "\u001b[1;31m  File \"/Users/dylanlam/miniconda3/envs/myenv/lib/python3.8/site-packages/IPython/__init__.py\", line 53, in <module>\n",
            "\u001b[1;31m    from .terminal.embed import embed\n",
            "\u001b[1;31m  File \"/Users/dylanlam/miniconda3/envs/myenv/lib/python3.8/site-packages/IPython/terminal/embed.py\", line 15, in <module>\n",
            "\u001b[1;31m    from IPython.core.interactiveshell import DummyMod, InteractiveShell\n",
            "\u001b[1;31m  File \"/Users/dylanlam/miniconda3/envs/myenv/lib/python3.8/site-packages/IPython/core/interactiveshell.py\", line 73, in <module>\n",
            "\u001b[1;31m    from IPython.core.history import HistoryManager\n",
            "\u001b[1;31m  File \"/Users/dylanlam/miniconda3/envs/myenv/lib/python3.8/site-packages/IPython/core/history.py\", line 11, in <module>\n",
            "\u001b[1;31m    import sqlite3\n",
            "\u001b[1;31m  File \"/Users/dylanlam/miniconda3/envs/myenv/lib/python3.8/sqlite3/__init__.py\", line 23, in <module>\n",
            "\u001b[1;31m    from sqlite3.dbapi2 import *\n",
            "\u001b[1;31m  File \"/Users/dylanlam/miniconda3/envs/myenv/lib/python3.8/sqlite3/dbapi2.py\", line 27, in <module>\n",
            "\u001b[1;31m    from _sqlite3 import *\n",
            "\u001b[1;31mImportError: dlopen(/Users/dylanlam/miniconda3/envs/myenv/lib/python3.8/lib-dynload/_sqlite3.cpython-38-darwin.so, 2): Symbol not found: _sqlite3_enable_load_extension\n",
            "\u001b[1;31m  Referenced from: /Users/dylanlam/miniconda3/envs/myenv/lib/python3.8/lib-dynload/_sqlite3.cpython-38-darwin.so\n",
            "\u001b[1;31m  Expected in: /usr/lib/libsqlite3.dylib\n",
            "\u001b[1;31m in /Users/dylanlam/miniconda3/envs/myenv/lib/python3.8/lib-dynload/_sqlite3.cpython-38-darwin.so. \n",
            "\u001b[1;31mView Jupyter <a href='command:jupyter.viewOutput'>log</a> for further details."
          ]
        }
      ],
      "source": [
        "alt.Chart(stocks).mark_line().encode(\n",
        "    x='date:T',\n",
        "    y='price:Q',\n",
        "    color='symbol:N'\n",
        ")"
      ]
    },
    {
      "cell_type": "markdown",
      "metadata": {
        "id": "iYowbEb7x3UD"
      },
      "source": [
        "and here is the same plot with a ``circle`` mark:"
      ]
    },
    {
      "cell_type": "code",
      "execution_count": null,
      "metadata": {
        "colab": {
          "base_uri": "https://localhost:8080/"
        },
        "id": "ceQZnmdgx3UD",
        "outputId": "48eb2a75-fdb6-4522-9c29-0176ee71c0fd"
      },
      "outputs": [
        {
          "ename": "",
          "evalue": "",
          "output_type": "error",
          "traceback": [
            "\u001b[1;31mFailed to start the Kernel. \n",
            "\u001b[1;31mTraceback (most recent call last):\n",
            "\u001b[1;31m  File \"/Users/dylanlam/miniconda3/envs/myenv/lib/python3.8/runpy.py\", line 194, in _run_module_as_main\n",
            "\u001b[1;31m    return _run_code(code, main_globals, None,\n",
            "\u001b[1;31m  File \"/Users/dylanlam/miniconda3/envs/myenv/lib/python3.8/runpy.py\", line 87, in _run_code\n",
            "\u001b[1;31m    exec(code, run_globals)\n",
            "\u001b[1;31m  File \"/Users/dylanlam/miniconda3/envs/myenv/lib/python3.8/site-packages/ipykernel_launcher.py\", line 15, in <module>\n",
            "\u001b[1;31m    from ipykernel import kernelapp as app\n",
            "\u001b[1;31m  File \"/Users/dylanlam/miniconda3/envs/myenv/lib/python3.8/site-packages/ipykernel/kernelapp.py\", line 19, in <module>\n",
            "\u001b[1;31m    from IPython.core.application import (  # type:ignore[attr-defined]\n",
            "\u001b[1;31m  File \"/Users/dylanlam/miniconda3/envs/myenv/lib/python3.8/site-packages/IPython/__init__.py\", line 53, in <module>\n",
            "\u001b[1;31m    from .terminal.embed import embed\n",
            "\u001b[1;31m  File \"/Users/dylanlam/miniconda3/envs/myenv/lib/python3.8/site-packages/IPython/terminal/embed.py\", line 15, in <module>\n",
            "\u001b[1;31m    from IPython.core.interactiveshell import DummyMod, InteractiveShell\n",
            "\u001b[1;31m  File \"/Users/dylanlam/miniconda3/envs/myenv/lib/python3.8/site-packages/IPython/core/interactiveshell.py\", line 73, in <module>\n",
            "\u001b[1;31m    from IPython.core.history import HistoryManager\n",
            "\u001b[1;31m  File \"/Users/dylanlam/miniconda3/envs/myenv/lib/python3.8/site-packages/IPython/core/history.py\", line 11, in <module>\n",
            "\u001b[1;31m    import sqlite3\n",
            "\u001b[1;31m  File \"/Users/dylanlam/miniconda3/envs/myenv/lib/python3.8/sqlite3/__init__.py\", line 23, in <module>\n",
            "\u001b[1;31m    from sqlite3.dbapi2 import *\n",
            "\u001b[1;31m  File \"/Users/dylanlam/miniconda3/envs/myenv/lib/python3.8/sqlite3/dbapi2.py\", line 27, in <module>\n",
            "\u001b[1;31m    from _sqlite3 import *\n",
            "\u001b[1;31mImportError: dlopen(/Users/dylanlam/miniconda3/envs/myenv/lib/python3.8/lib-dynload/_sqlite3.cpython-38-darwin.so, 2): Symbol not found: _sqlite3_enable_load_extension\n",
            "\u001b[1;31m  Referenced from: /Users/dylanlam/miniconda3/envs/myenv/lib/python3.8/lib-dynload/_sqlite3.cpython-38-darwin.so\n",
            "\u001b[1;31m  Expected in: /usr/lib/libsqlite3.dylib\n",
            "\u001b[1;31m in /Users/dylanlam/miniconda3/envs/myenv/lib/python3.8/lib-dynload/_sqlite3.cpython-38-darwin.so. \n",
            "\u001b[1;31mView Jupyter <a href='command:jupyter.viewOutput'>log</a> for further details."
          ]
        }
      ],
      "source": [
        "alt.Chart(stocks).mark_circle().encode(\n",
        "    x='date:T',\n",
        "    y='price:Q',\n",
        "    color='symbol:N'\n",
        ")"
      ]
    },
    {
      "cell_type": "markdown",
      "metadata": {
        "id": "gQg0-r_zx3UD"
      },
      "source": [
        "We can layer these two plots together using a ``+`` operator:"
      ]
    },
    {
      "cell_type": "code",
      "execution_count": null,
      "metadata": {
        "colab": {
          "base_uri": "https://localhost:8080/"
        },
        "id": "WeQ1vVlvx3UD",
        "outputId": "0afd2b22-da7c-4a36-c639-352ae95b61f6"
      },
      "outputs": [
        {
          "ename": "",
          "evalue": "",
          "output_type": "error",
          "traceback": [
            "\u001b[1;31mFailed to start the Kernel. \n",
            "\u001b[1;31mTraceback (most recent call last):\n",
            "\u001b[1;31m  File \"/Users/dylanlam/miniconda3/envs/myenv/lib/python3.8/runpy.py\", line 194, in _run_module_as_main\n",
            "\u001b[1;31m    return _run_code(code, main_globals, None,\n",
            "\u001b[1;31m  File \"/Users/dylanlam/miniconda3/envs/myenv/lib/python3.8/runpy.py\", line 87, in _run_code\n",
            "\u001b[1;31m    exec(code, run_globals)\n",
            "\u001b[1;31m  File \"/Users/dylanlam/miniconda3/envs/myenv/lib/python3.8/site-packages/ipykernel_launcher.py\", line 15, in <module>\n",
            "\u001b[1;31m    from ipykernel import kernelapp as app\n",
            "\u001b[1;31m  File \"/Users/dylanlam/miniconda3/envs/myenv/lib/python3.8/site-packages/ipykernel/kernelapp.py\", line 19, in <module>\n",
            "\u001b[1;31m    from IPython.core.application import (  # type:ignore[attr-defined]\n",
            "\u001b[1;31m  File \"/Users/dylanlam/miniconda3/envs/myenv/lib/python3.8/site-packages/IPython/__init__.py\", line 53, in <module>\n",
            "\u001b[1;31m    from .terminal.embed import embed\n",
            "\u001b[1;31m  File \"/Users/dylanlam/miniconda3/envs/myenv/lib/python3.8/site-packages/IPython/terminal/embed.py\", line 15, in <module>\n",
            "\u001b[1;31m    from IPython.core.interactiveshell import DummyMod, InteractiveShell\n",
            "\u001b[1;31m  File \"/Users/dylanlam/miniconda3/envs/myenv/lib/python3.8/site-packages/IPython/core/interactiveshell.py\", line 73, in <module>\n",
            "\u001b[1;31m    from IPython.core.history import HistoryManager\n",
            "\u001b[1;31m  File \"/Users/dylanlam/miniconda3/envs/myenv/lib/python3.8/site-packages/IPython/core/history.py\", line 11, in <module>\n",
            "\u001b[1;31m    import sqlite3\n",
            "\u001b[1;31m  File \"/Users/dylanlam/miniconda3/envs/myenv/lib/python3.8/sqlite3/__init__.py\", line 23, in <module>\n",
            "\u001b[1;31m    from sqlite3.dbapi2 import *\n",
            "\u001b[1;31m  File \"/Users/dylanlam/miniconda3/envs/myenv/lib/python3.8/sqlite3/dbapi2.py\", line 27, in <module>\n",
            "\u001b[1;31m    from _sqlite3 import *\n",
            "\u001b[1;31mImportError: dlopen(/Users/dylanlam/miniconda3/envs/myenv/lib/python3.8/lib-dynload/_sqlite3.cpython-38-darwin.so, 2): Symbol not found: _sqlite3_enable_load_extension\n",
            "\u001b[1;31m  Referenced from: /Users/dylanlam/miniconda3/envs/myenv/lib/python3.8/lib-dynload/_sqlite3.cpython-38-darwin.so\n",
            "\u001b[1;31m  Expected in: /usr/lib/libsqlite3.dylib\n",
            "\u001b[1;31m in /Users/dylanlam/miniconda3/envs/myenv/lib/python3.8/lib-dynload/_sqlite3.cpython-38-darwin.so. \n",
            "\u001b[1;31mView Jupyter <a href='command:jupyter.viewOutput'>log</a> for further details."
          ]
        }
      ],
      "source": [
        "lines = alt.Chart(stocks).mark_line().encode(\n",
        "    x='date:T',\n",
        "    y='price:Q',\n",
        "    color='symbol:N'\n",
        ")\n",
        "\n",
        "points = alt.Chart(stocks).mark_circle().encode(\n",
        "    x='date:T',\n",
        "    y='price:Q',\n",
        "    color='symbol:N'\n",
        ")\n",
        "\n",
        "lines + points"
      ]
    },
    {
      "cell_type": "markdown",
      "metadata": {
        "id": "nZwJtwSdx3UD"
      },
      "source": [
        "This + is just a shortcut to the alt.layer() function, which does the same thing:"
      ]
    },
    {
      "cell_type": "code",
      "execution_count": null,
      "metadata": {
        "colab": {
          "base_uri": "https://localhost:8080/"
        },
        "id": "Xr0xpPZqx3UD",
        "outputId": "cd858e5d-aaa1-44a6-ba0b-3290c48457eb"
      },
      "outputs": [
        {
          "ename": "",
          "evalue": "",
          "output_type": "error",
          "traceback": [
            "\u001b[1;31mFailed to start the Kernel. \n",
            "\u001b[1;31mTraceback (most recent call last):\n",
            "\u001b[1;31m  File \"/Users/dylanlam/miniconda3/envs/myenv/lib/python3.8/runpy.py\", line 194, in _run_module_as_main\n",
            "\u001b[1;31m    return _run_code(code, main_globals, None,\n",
            "\u001b[1;31m  File \"/Users/dylanlam/miniconda3/envs/myenv/lib/python3.8/runpy.py\", line 87, in _run_code\n",
            "\u001b[1;31m    exec(code, run_globals)\n",
            "\u001b[1;31m  File \"/Users/dylanlam/miniconda3/envs/myenv/lib/python3.8/site-packages/ipykernel_launcher.py\", line 15, in <module>\n",
            "\u001b[1;31m    from ipykernel import kernelapp as app\n",
            "\u001b[1;31m  File \"/Users/dylanlam/miniconda3/envs/myenv/lib/python3.8/site-packages/ipykernel/kernelapp.py\", line 19, in <module>\n",
            "\u001b[1;31m    from IPython.core.application import (  # type:ignore[attr-defined]\n",
            "\u001b[1;31m  File \"/Users/dylanlam/miniconda3/envs/myenv/lib/python3.8/site-packages/IPython/__init__.py\", line 53, in <module>\n",
            "\u001b[1;31m    from .terminal.embed import embed\n",
            "\u001b[1;31m  File \"/Users/dylanlam/miniconda3/envs/myenv/lib/python3.8/site-packages/IPython/terminal/embed.py\", line 15, in <module>\n",
            "\u001b[1;31m    from IPython.core.interactiveshell import DummyMod, InteractiveShell\n",
            "\u001b[1;31m  File \"/Users/dylanlam/miniconda3/envs/myenv/lib/python3.8/site-packages/IPython/core/interactiveshell.py\", line 73, in <module>\n",
            "\u001b[1;31m    from IPython.core.history import HistoryManager\n",
            "\u001b[1;31m  File \"/Users/dylanlam/miniconda3/envs/myenv/lib/python3.8/site-packages/IPython/core/history.py\", line 11, in <module>\n",
            "\u001b[1;31m    import sqlite3\n",
            "\u001b[1;31m  File \"/Users/dylanlam/miniconda3/envs/myenv/lib/python3.8/sqlite3/__init__.py\", line 23, in <module>\n",
            "\u001b[1;31m    from sqlite3.dbapi2 import *\n",
            "\u001b[1;31m  File \"/Users/dylanlam/miniconda3/envs/myenv/lib/python3.8/sqlite3/dbapi2.py\", line 27, in <module>\n",
            "\u001b[1;31m    from _sqlite3 import *\n",
            "\u001b[1;31mImportError: dlopen(/Users/dylanlam/miniconda3/envs/myenv/lib/python3.8/lib-dynload/_sqlite3.cpython-38-darwin.so, 2): Symbol not found: _sqlite3_enable_load_extension\n",
            "\u001b[1;31m  Referenced from: /Users/dylanlam/miniconda3/envs/myenv/lib/python3.8/lib-dynload/_sqlite3.cpython-38-darwin.so\n",
            "\u001b[1;31m  Expected in: /usr/lib/libsqlite3.dylib\n",
            "\u001b[1;31m in /Users/dylanlam/miniconda3/envs/myenv/lib/python3.8/lib-dynload/_sqlite3.cpython-38-darwin.so. \n",
            "\u001b[1;31mView Jupyter <a href='command:jupyter.viewOutput'>log</a> for further details."
          ]
        }
      ],
      "source": [
        "alt.layer(lines, points)"
      ]
    },
    {
      "cell_type": "markdown",
      "metadata": {
        "id": "xOfjpzMKx3UD"
      },
      "source": [
        "One pattern we will use often is to create a base chart with the common elements, and add together two copies with just a single change:"
      ]
    },
    {
      "cell_type": "code",
      "execution_count": null,
      "metadata": {
        "colab": {
          "base_uri": "https://localhost:8080/"
        },
        "id": "NI5-9mDpx3UD",
        "outputId": "a1a9d1a5-6f20-4844-bc08-e3f0109c5b64"
      },
      "outputs": [
        {
          "ename": "",
          "evalue": "",
          "output_type": "error",
          "traceback": [
            "\u001b[1;31mFailed to start the Kernel. \n",
            "\u001b[1;31mTraceback (most recent call last):\n",
            "\u001b[1;31m  File \"/Users/dylanlam/miniconda3/envs/myenv/lib/python3.8/runpy.py\", line 194, in _run_module_as_main\n",
            "\u001b[1;31m    return _run_code(code, main_globals, None,\n",
            "\u001b[1;31m  File \"/Users/dylanlam/miniconda3/envs/myenv/lib/python3.8/runpy.py\", line 87, in _run_code\n",
            "\u001b[1;31m    exec(code, run_globals)\n",
            "\u001b[1;31m  File \"/Users/dylanlam/miniconda3/envs/myenv/lib/python3.8/site-packages/ipykernel_launcher.py\", line 15, in <module>\n",
            "\u001b[1;31m    from ipykernel import kernelapp as app\n",
            "\u001b[1;31m  File \"/Users/dylanlam/miniconda3/envs/myenv/lib/python3.8/site-packages/ipykernel/kernelapp.py\", line 19, in <module>\n",
            "\u001b[1;31m    from IPython.core.application import (  # type:ignore[attr-defined]\n",
            "\u001b[1;31m  File \"/Users/dylanlam/miniconda3/envs/myenv/lib/python3.8/site-packages/IPython/__init__.py\", line 53, in <module>\n",
            "\u001b[1;31m    from .terminal.embed import embed\n",
            "\u001b[1;31m  File \"/Users/dylanlam/miniconda3/envs/myenv/lib/python3.8/site-packages/IPython/terminal/embed.py\", line 15, in <module>\n",
            "\u001b[1;31m    from IPython.core.interactiveshell import DummyMod, InteractiveShell\n",
            "\u001b[1;31m  File \"/Users/dylanlam/miniconda3/envs/myenv/lib/python3.8/site-packages/IPython/core/interactiveshell.py\", line 73, in <module>\n",
            "\u001b[1;31m    from IPython.core.history import HistoryManager\n",
            "\u001b[1;31m  File \"/Users/dylanlam/miniconda3/envs/myenv/lib/python3.8/site-packages/IPython/core/history.py\", line 11, in <module>\n",
            "\u001b[1;31m    import sqlite3\n",
            "\u001b[1;31m  File \"/Users/dylanlam/miniconda3/envs/myenv/lib/python3.8/sqlite3/__init__.py\", line 23, in <module>\n",
            "\u001b[1;31m    from sqlite3.dbapi2 import *\n",
            "\u001b[1;31m  File \"/Users/dylanlam/miniconda3/envs/myenv/lib/python3.8/sqlite3/dbapi2.py\", line 27, in <module>\n",
            "\u001b[1;31m    from _sqlite3 import *\n",
            "\u001b[1;31mImportError: dlopen(/Users/dylanlam/miniconda3/envs/myenv/lib/python3.8/lib-dynload/_sqlite3.cpython-38-darwin.so, 2): Symbol not found: _sqlite3_enable_load_extension\n",
            "\u001b[1;31m  Referenced from: /Users/dylanlam/miniconda3/envs/myenv/lib/python3.8/lib-dynload/_sqlite3.cpython-38-darwin.so\n",
            "\u001b[1;31m  Expected in: /usr/lib/libsqlite3.dylib\n",
            "\u001b[1;31m in /Users/dylanlam/miniconda3/envs/myenv/lib/python3.8/lib-dynload/_sqlite3.cpython-38-darwin.so. \n",
            "\u001b[1;31mView Jupyter <a href='command:jupyter.viewOutput'>log</a> for further details."
          ]
        }
      ],
      "source": [
        "base = alt.Chart(stocks).encode(\n",
        "    x='date:T',\n",
        "    y='price:Q',\n",
        "    color='symbol:N'\n",
        ")\n",
        "\n",
        "base.mark_line() + base.mark_circle()"
      ]
    },
    {
      "cell_type": "markdown",
      "metadata": {
        "id": "b_UlnkcEx3UD"
      },
      "source": [
        "#### Horizontal Concatenation\n",
        "\n",
        "Just as we can layer charts on top of each other, we can concatenate horizontally using ``alt.hconcat``, or equivalently the ``|`` operator:"
      ]
    },
    {
      "cell_type": "code",
      "execution_count": null,
      "metadata": {
        "colab": {
          "base_uri": "https://localhost:8080/"
        },
        "id": "IZkDlWj2x3UD",
        "outputId": "106f0e49-048a-4969-c121-f8f954d8964e"
      },
      "outputs": [
        {
          "ename": "",
          "evalue": "",
          "output_type": "error",
          "traceback": [
            "\u001b[1;31mFailed to start the Kernel. \n",
            "\u001b[1;31mTraceback (most recent call last):\n",
            "\u001b[1;31m  File \"/Users/dylanlam/miniconda3/envs/myenv/lib/python3.8/runpy.py\", line 194, in _run_module_as_main\n",
            "\u001b[1;31m    return _run_code(code, main_globals, None,\n",
            "\u001b[1;31m  File \"/Users/dylanlam/miniconda3/envs/myenv/lib/python3.8/runpy.py\", line 87, in _run_code\n",
            "\u001b[1;31m    exec(code, run_globals)\n",
            "\u001b[1;31m  File \"/Users/dylanlam/miniconda3/envs/myenv/lib/python3.8/site-packages/ipykernel_launcher.py\", line 15, in <module>\n",
            "\u001b[1;31m    from ipykernel import kernelapp as app\n",
            "\u001b[1;31m  File \"/Users/dylanlam/miniconda3/envs/myenv/lib/python3.8/site-packages/ipykernel/kernelapp.py\", line 19, in <module>\n",
            "\u001b[1;31m    from IPython.core.application import (  # type:ignore[attr-defined]\n",
            "\u001b[1;31m  File \"/Users/dylanlam/miniconda3/envs/myenv/lib/python3.8/site-packages/IPython/__init__.py\", line 53, in <module>\n",
            "\u001b[1;31m    from .terminal.embed import embed\n",
            "\u001b[1;31m  File \"/Users/dylanlam/miniconda3/envs/myenv/lib/python3.8/site-packages/IPython/terminal/embed.py\", line 15, in <module>\n",
            "\u001b[1;31m    from IPython.core.interactiveshell import DummyMod, InteractiveShell\n",
            "\u001b[1;31m  File \"/Users/dylanlam/miniconda3/envs/myenv/lib/python3.8/site-packages/IPython/core/interactiveshell.py\", line 73, in <module>\n",
            "\u001b[1;31m    from IPython.core.history import HistoryManager\n",
            "\u001b[1;31m  File \"/Users/dylanlam/miniconda3/envs/myenv/lib/python3.8/site-packages/IPython/core/history.py\", line 11, in <module>\n",
            "\u001b[1;31m    import sqlite3\n",
            "\u001b[1;31m  File \"/Users/dylanlam/miniconda3/envs/myenv/lib/python3.8/sqlite3/__init__.py\", line 23, in <module>\n",
            "\u001b[1;31m    from sqlite3.dbapi2 import *\n",
            "\u001b[1;31m  File \"/Users/dylanlam/miniconda3/envs/myenv/lib/python3.8/sqlite3/dbapi2.py\", line 27, in <module>\n",
            "\u001b[1;31m    from _sqlite3 import *\n",
            "\u001b[1;31mImportError: dlopen(/Users/dylanlam/miniconda3/envs/myenv/lib/python3.8/lib-dynload/_sqlite3.cpython-38-darwin.so, 2): Symbol not found: _sqlite3_enable_load_extension\n",
            "\u001b[1;31m  Referenced from: /Users/dylanlam/miniconda3/envs/myenv/lib/python3.8/lib-dynload/_sqlite3.cpython-38-darwin.so\n",
            "\u001b[1;31m  Expected in: /usr/lib/libsqlite3.dylib\n",
            "\u001b[1;31m in /Users/dylanlam/miniconda3/envs/myenv/lib/python3.8/lib-dynload/_sqlite3.cpython-38-darwin.so. \n",
            "\u001b[1;31mView Jupyter <a href='command:jupyter.viewOutput'>log</a> for further details."
          ]
        }
      ],
      "source": [
        "base.mark_line() | base.mark_circle()"
      ]
    },
    {
      "cell_type": "code",
      "execution_count": null,
      "metadata": {
        "colab": {
          "base_uri": "https://localhost:8080/"
        },
        "id": "VfpkH0c1x3UD",
        "outputId": "3447b0c7-1911-4388-d990-5e15e4f95ff5"
      },
      "outputs": [
        {
          "ename": "",
          "evalue": "",
          "output_type": "error",
          "traceback": [
            "\u001b[1;31mFailed to start the Kernel. \n",
            "\u001b[1;31mTraceback (most recent call last):\n",
            "\u001b[1;31m  File \"/Users/dylanlam/miniconda3/envs/myenv/lib/python3.8/runpy.py\", line 194, in _run_module_as_main\n",
            "\u001b[1;31m    return _run_code(code, main_globals, None,\n",
            "\u001b[1;31m  File \"/Users/dylanlam/miniconda3/envs/myenv/lib/python3.8/runpy.py\", line 87, in _run_code\n",
            "\u001b[1;31m    exec(code, run_globals)\n",
            "\u001b[1;31m  File \"/Users/dylanlam/miniconda3/envs/myenv/lib/python3.8/site-packages/ipykernel_launcher.py\", line 15, in <module>\n",
            "\u001b[1;31m    from ipykernel import kernelapp as app\n",
            "\u001b[1;31m  File \"/Users/dylanlam/miniconda3/envs/myenv/lib/python3.8/site-packages/ipykernel/kernelapp.py\", line 19, in <module>\n",
            "\u001b[1;31m    from IPython.core.application import (  # type:ignore[attr-defined]\n",
            "\u001b[1;31m  File \"/Users/dylanlam/miniconda3/envs/myenv/lib/python3.8/site-packages/IPython/__init__.py\", line 53, in <module>\n",
            "\u001b[1;31m    from .terminal.embed import embed\n",
            "\u001b[1;31m  File \"/Users/dylanlam/miniconda3/envs/myenv/lib/python3.8/site-packages/IPython/terminal/embed.py\", line 15, in <module>\n",
            "\u001b[1;31m    from IPython.core.interactiveshell import DummyMod, InteractiveShell\n",
            "\u001b[1;31m  File \"/Users/dylanlam/miniconda3/envs/myenv/lib/python3.8/site-packages/IPython/core/interactiveshell.py\", line 73, in <module>\n",
            "\u001b[1;31m    from IPython.core.history import HistoryManager\n",
            "\u001b[1;31m  File \"/Users/dylanlam/miniconda3/envs/myenv/lib/python3.8/site-packages/IPython/core/history.py\", line 11, in <module>\n",
            "\u001b[1;31m    import sqlite3\n",
            "\u001b[1;31m  File \"/Users/dylanlam/miniconda3/envs/myenv/lib/python3.8/sqlite3/__init__.py\", line 23, in <module>\n",
            "\u001b[1;31m    from sqlite3.dbapi2 import *\n",
            "\u001b[1;31m  File \"/Users/dylanlam/miniconda3/envs/myenv/lib/python3.8/sqlite3/dbapi2.py\", line 27, in <module>\n",
            "\u001b[1;31m    from _sqlite3 import *\n",
            "\u001b[1;31mImportError: dlopen(/Users/dylanlam/miniconda3/envs/myenv/lib/python3.8/lib-dynload/_sqlite3.cpython-38-darwin.so, 2): Symbol not found: _sqlite3_enable_load_extension\n",
            "\u001b[1;31m  Referenced from: /Users/dylanlam/miniconda3/envs/myenv/lib/python3.8/lib-dynload/_sqlite3.cpython-38-darwin.so\n",
            "\u001b[1;31m  Expected in: /usr/lib/libsqlite3.dylib\n",
            "\u001b[1;31m in /Users/dylanlam/miniconda3/envs/myenv/lib/python3.8/lib-dynload/_sqlite3.cpython-38-darwin.so. \n",
            "\u001b[1;31mView Jupyter <a href='command:jupyter.viewOutput'>log</a> for further details."
          ]
        }
      ],
      "source": [
        "alt.hconcat(base.mark_line(),\n",
        "            base.mark_circle())"
      ]
    },
    {
      "cell_type": "markdown",
      "metadata": {
        "id": "ACLrALXJx3UD"
      },
      "source": [
        "This can be most useful for creating multi-panel views; for example, here is the iris dataset:"
      ]
    },
    {
      "cell_type": "code",
      "execution_count": null,
      "metadata": {
        "colab": {
          "base_uri": "https://localhost:8080/"
        },
        "id": "EGC1NJt3x3UD",
        "outputId": "058c861e-b61d-4291-ad00-1210679ce17b"
      },
      "outputs": [
        {
          "ename": "",
          "evalue": "",
          "output_type": "error",
          "traceback": [
            "\u001b[1;31mFailed to start the Kernel. \n",
            "\u001b[1;31mTraceback (most recent call last):\n",
            "\u001b[1;31m  File \"/Users/dylanlam/miniconda3/envs/myenv/lib/python3.8/runpy.py\", line 194, in _run_module_as_main\n",
            "\u001b[1;31m    return _run_code(code, main_globals, None,\n",
            "\u001b[1;31m  File \"/Users/dylanlam/miniconda3/envs/myenv/lib/python3.8/runpy.py\", line 87, in _run_code\n",
            "\u001b[1;31m    exec(code, run_globals)\n",
            "\u001b[1;31m  File \"/Users/dylanlam/miniconda3/envs/myenv/lib/python3.8/site-packages/ipykernel_launcher.py\", line 15, in <module>\n",
            "\u001b[1;31m    from ipykernel import kernelapp as app\n",
            "\u001b[1;31m  File \"/Users/dylanlam/miniconda3/envs/myenv/lib/python3.8/site-packages/ipykernel/kernelapp.py\", line 19, in <module>\n",
            "\u001b[1;31m    from IPython.core.application import (  # type:ignore[attr-defined]\n",
            "\u001b[1;31m  File \"/Users/dylanlam/miniconda3/envs/myenv/lib/python3.8/site-packages/IPython/__init__.py\", line 53, in <module>\n",
            "\u001b[1;31m    from .terminal.embed import embed\n",
            "\u001b[1;31m  File \"/Users/dylanlam/miniconda3/envs/myenv/lib/python3.8/site-packages/IPython/terminal/embed.py\", line 15, in <module>\n",
            "\u001b[1;31m    from IPython.core.interactiveshell import DummyMod, InteractiveShell\n",
            "\u001b[1;31m  File \"/Users/dylanlam/miniconda3/envs/myenv/lib/python3.8/site-packages/IPython/core/interactiveshell.py\", line 73, in <module>\n",
            "\u001b[1;31m    from IPython.core.history import HistoryManager\n",
            "\u001b[1;31m  File \"/Users/dylanlam/miniconda3/envs/myenv/lib/python3.8/site-packages/IPython/core/history.py\", line 11, in <module>\n",
            "\u001b[1;31m    import sqlite3\n",
            "\u001b[1;31m  File \"/Users/dylanlam/miniconda3/envs/myenv/lib/python3.8/sqlite3/__init__.py\", line 23, in <module>\n",
            "\u001b[1;31m    from sqlite3.dbapi2 import *\n",
            "\u001b[1;31m  File \"/Users/dylanlam/miniconda3/envs/myenv/lib/python3.8/sqlite3/dbapi2.py\", line 27, in <module>\n",
            "\u001b[1;31m    from _sqlite3 import *\n",
            "\u001b[1;31mImportError: dlopen(/Users/dylanlam/miniconda3/envs/myenv/lib/python3.8/lib-dynload/_sqlite3.cpython-38-darwin.so, 2): Symbol not found: _sqlite3_enable_load_extension\n",
            "\u001b[1;31m  Referenced from: /Users/dylanlam/miniconda3/envs/myenv/lib/python3.8/lib-dynload/_sqlite3.cpython-38-darwin.so\n",
            "\u001b[1;31m  Expected in: /usr/lib/libsqlite3.dylib\n",
            "\u001b[1;31m in /Users/dylanlam/miniconda3/envs/myenv/lib/python3.8/lib-dynload/_sqlite3.cpython-38-darwin.so. \n",
            "\u001b[1;31mView Jupyter <a href='command:jupyter.viewOutput'>log</a> for further details."
          ]
        }
      ],
      "source": [
        "iris = data.iris()\n",
        "iris.head()"
      ]
    },
    {
      "cell_type": "code",
      "execution_count": null,
      "metadata": {
        "colab": {
          "base_uri": "https://localhost:8080/"
        },
        "id": "7m5F3XcRx3UE",
        "outputId": "6508a6b6-ea52-4777-ce59-5c11ec630aad"
      },
      "outputs": [
        {
          "ename": "",
          "evalue": "",
          "output_type": "error",
          "traceback": [
            "\u001b[1;31mFailed to start the Kernel. \n",
            "\u001b[1;31mTraceback (most recent call last):\n",
            "\u001b[1;31m  File \"/Users/dylanlam/miniconda3/envs/myenv/lib/python3.8/runpy.py\", line 194, in _run_module_as_main\n",
            "\u001b[1;31m    return _run_code(code, main_globals, None,\n",
            "\u001b[1;31m  File \"/Users/dylanlam/miniconda3/envs/myenv/lib/python3.8/runpy.py\", line 87, in _run_code\n",
            "\u001b[1;31m    exec(code, run_globals)\n",
            "\u001b[1;31m  File \"/Users/dylanlam/miniconda3/envs/myenv/lib/python3.8/site-packages/ipykernel_launcher.py\", line 15, in <module>\n",
            "\u001b[1;31m    from ipykernel import kernelapp as app\n",
            "\u001b[1;31m  File \"/Users/dylanlam/miniconda3/envs/myenv/lib/python3.8/site-packages/ipykernel/kernelapp.py\", line 19, in <module>\n",
            "\u001b[1;31m    from IPython.core.application import (  # type:ignore[attr-defined]\n",
            "\u001b[1;31m  File \"/Users/dylanlam/miniconda3/envs/myenv/lib/python3.8/site-packages/IPython/__init__.py\", line 53, in <module>\n",
            "\u001b[1;31m    from .terminal.embed import embed\n",
            "\u001b[1;31m  File \"/Users/dylanlam/miniconda3/envs/myenv/lib/python3.8/site-packages/IPython/terminal/embed.py\", line 15, in <module>\n",
            "\u001b[1;31m    from IPython.core.interactiveshell import DummyMod, InteractiveShell\n",
            "\u001b[1;31m  File \"/Users/dylanlam/miniconda3/envs/myenv/lib/python3.8/site-packages/IPython/core/interactiveshell.py\", line 73, in <module>\n",
            "\u001b[1;31m    from IPython.core.history import HistoryManager\n",
            "\u001b[1;31m  File \"/Users/dylanlam/miniconda3/envs/myenv/lib/python3.8/site-packages/IPython/core/history.py\", line 11, in <module>\n",
            "\u001b[1;31m    import sqlite3\n",
            "\u001b[1;31m  File \"/Users/dylanlam/miniconda3/envs/myenv/lib/python3.8/sqlite3/__init__.py\", line 23, in <module>\n",
            "\u001b[1;31m    from sqlite3.dbapi2 import *\n",
            "\u001b[1;31m  File \"/Users/dylanlam/miniconda3/envs/myenv/lib/python3.8/sqlite3/dbapi2.py\", line 27, in <module>\n",
            "\u001b[1;31m    from _sqlite3 import *\n",
            "\u001b[1;31mImportError: dlopen(/Users/dylanlam/miniconda3/envs/myenv/lib/python3.8/lib-dynload/_sqlite3.cpython-38-darwin.so, 2): Symbol not found: _sqlite3_enable_load_extension\n",
            "\u001b[1;31m  Referenced from: /Users/dylanlam/miniconda3/envs/myenv/lib/python3.8/lib-dynload/_sqlite3.cpython-38-darwin.so\n",
            "\u001b[1;31m  Expected in: /usr/lib/libsqlite3.dylib\n",
            "\u001b[1;31m in /Users/dylanlam/miniconda3/envs/myenv/lib/python3.8/lib-dynload/_sqlite3.cpython-38-darwin.so. \n",
            "\u001b[1;31mView Jupyter <a href='command:jupyter.viewOutput'>log</a> for further details."
          ]
        }
      ],
      "source": [
        "base = alt.Chart(iris).mark_point().encode(\n",
        "    x='petalWidth',\n",
        "    y='petalLength',\n",
        "    color='species'\n",
        ")\n",
        "\n",
        "base | base.encode(x='sepalWidth')"
      ]
    },
    {
      "cell_type": "markdown",
      "metadata": {
        "id": "dcYyzebsx3UE"
      },
      "source": [
        "#### Vertical Concatenation\n",
        "\n",
        "Vertical concatenation looks a lot like horizontal concatenation, but using either the ``alt.hconcat()`` function, or the ``&`` operator:"
      ]
    },
    {
      "cell_type": "code",
      "execution_count": null,
      "metadata": {
        "colab": {
          "base_uri": "https://localhost:8080/"
        },
        "id": "-pcuGUvMx3UE",
        "outputId": "5830771a-0de9-4fc0-eae0-9e0c7448c18c"
      },
      "outputs": [
        {
          "ename": "",
          "evalue": "",
          "output_type": "error",
          "traceback": [
            "\u001b[1;31mFailed to start the Kernel. \n",
            "\u001b[1;31mTraceback (most recent call last):\n",
            "\u001b[1;31m  File \"/Users/dylanlam/miniconda3/envs/myenv/lib/python3.8/runpy.py\", line 194, in _run_module_as_main\n",
            "\u001b[1;31m    return _run_code(code, main_globals, None,\n",
            "\u001b[1;31m  File \"/Users/dylanlam/miniconda3/envs/myenv/lib/python3.8/runpy.py\", line 87, in _run_code\n",
            "\u001b[1;31m    exec(code, run_globals)\n",
            "\u001b[1;31m  File \"/Users/dylanlam/miniconda3/envs/myenv/lib/python3.8/site-packages/ipykernel_launcher.py\", line 15, in <module>\n",
            "\u001b[1;31m    from ipykernel import kernelapp as app\n",
            "\u001b[1;31m  File \"/Users/dylanlam/miniconda3/envs/myenv/lib/python3.8/site-packages/ipykernel/kernelapp.py\", line 19, in <module>\n",
            "\u001b[1;31m    from IPython.core.application import (  # type:ignore[attr-defined]\n",
            "\u001b[1;31m  File \"/Users/dylanlam/miniconda3/envs/myenv/lib/python3.8/site-packages/IPython/__init__.py\", line 53, in <module>\n",
            "\u001b[1;31m    from .terminal.embed import embed\n",
            "\u001b[1;31m  File \"/Users/dylanlam/miniconda3/envs/myenv/lib/python3.8/site-packages/IPython/terminal/embed.py\", line 15, in <module>\n",
            "\u001b[1;31m    from IPython.core.interactiveshell import DummyMod, InteractiveShell\n",
            "\u001b[1;31m  File \"/Users/dylanlam/miniconda3/envs/myenv/lib/python3.8/site-packages/IPython/core/interactiveshell.py\", line 73, in <module>\n",
            "\u001b[1;31m    from IPython.core.history import HistoryManager\n",
            "\u001b[1;31m  File \"/Users/dylanlam/miniconda3/envs/myenv/lib/python3.8/site-packages/IPython/core/history.py\", line 11, in <module>\n",
            "\u001b[1;31m    import sqlite3\n",
            "\u001b[1;31m  File \"/Users/dylanlam/miniconda3/envs/myenv/lib/python3.8/sqlite3/__init__.py\", line 23, in <module>\n",
            "\u001b[1;31m    from sqlite3.dbapi2 import *\n",
            "\u001b[1;31m  File \"/Users/dylanlam/miniconda3/envs/myenv/lib/python3.8/sqlite3/dbapi2.py\", line 27, in <module>\n",
            "\u001b[1;31m    from _sqlite3 import *\n",
            "\u001b[1;31mImportError: dlopen(/Users/dylanlam/miniconda3/envs/myenv/lib/python3.8/lib-dynload/_sqlite3.cpython-38-darwin.so, 2): Symbol not found: _sqlite3_enable_load_extension\n",
            "\u001b[1;31m  Referenced from: /Users/dylanlam/miniconda3/envs/myenv/lib/python3.8/lib-dynload/_sqlite3.cpython-38-darwin.so\n",
            "\u001b[1;31m  Expected in: /usr/lib/libsqlite3.dylib\n",
            "\u001b[1;31m in /Users/dylanlam/miniconda3/envs/myenv/lib/python3.8/lib-dynload/_sqlite3.cpython-38-darwin.so. \n",
            "\u001b[1;31mView Jupyter <a href='command:jupyter.viewOutput'>log</a> for further details."
          ]
        }
      ],
      "source": [
        "base & base.encode(y='sepalWidth')"
      ]
    },
    {
      "cell_type": "markdown",
      "metadata": {
        "id": "XAqeZh1vx3UE"
      },
      "source": [
        "#### Repeat Chart - Small Multiples (SPLOM)\n",
        "\n",
        "Because it is such a common pattern to horizontally and vertically concatenate charts while changing one encoding, Altair offers a shortcut for this, using the ``repeat()`` operator."
      ]
    },
    {
      "cell_type": "code",
      "execution_count": null,
      "metadata": {
        "colab": {
          "base_uri": "https://localhost:8080/"
        },
        "id": "hQ8-DjkZx3UE",
        "outputId": "562c3716-0630-4bdb-a663-7acbc7107ecb"
      },
      "outputs": [
        {
          "ename": "",
          "evalue": "",
          "output_type": "error",
          "traceback": [
            "\u001b[1;31mFailed to start the Kernel. \n",
            "\u001b[1;31mTraceback (most recent call last):\n",
            "\u001b[1;31m  File \"/Users/dylanlam/miniconda3/envs/myenv/lib/python3.8/runpy.py\", line 194, in _run_module_as_main\n",
            "\u001b[1;31m    return _run_code(code, main_globals, None,\n",
            "\u001b[1;31m  File \"/Users/dylanlam/miniconda3/envs/myenv/lib/python3.8/runpy.py\", line 87, in _run_code\n",
            "\u001b[1;31m    exec(code, run_globals)\n",
            "\u001b[1;31m  File \"/Users/dylanlam/miniconda3/envs/myenv/lib/python3.8/site-packages/ipykernel_launcher.py\", line 15, in <module>\n",
            "\u001b[1;31m    from ipykernel import kernelapp as app\n",
            "\u001b[1;31m  File \"/Users/dylanlam/miniconda3/envs/myenv/lib/python3.8/site-packages/ipykernel/kernelapp.py\", line 19, in <module>\n",
            "\u001b[1;31m    from IPython.core.application import (  # type:ignore[attr-defined]\n",
            "\u001b[1;31m  File \"/Users/dylanlam/miniconda3/envs/myenv/lib/python3.8/site-packages/IPython/__init__.py\", line 53, in <module>\n",
            "\u001b[1;31m    from .terminal.embed import embed\n",
            "\u001b[1;31m  File \"/Users/dylanlam/miniconda3/envs/myenv/lib/python3.8/site-packages/IPython/terminal/embed.py\", line 15, in <module>\n",
            "\u001b[1;31m    from IPython.core.interactiveshell import DummyMod, InteractiveShell\n",
            "\u001b[1;31m  File \"/Users/dylanlam/miniconda3/envs/myenv/lib/python3.8/site-packages/IPython/core/interactiveshell.py\", line 73, in <module>\n",
            "\u001b[1;31m    from IPython.core.history import HistoryManager\n",
            "\u001b[1;31m  File \"/Users/dylanlam/miniconda3/envs/myenv/lib/python3.8/site-packages/IPython/core/history.py\", line 11, in <module>\n",
            "\u001b[1;31m    import sqlite3\n",
            "\u001b[1;31m  File \"/Users/dylanlam/miniconda3/envs/myenv/lib/python3.8/sqlite3/__init__.py\", line 23, in <module>\n",
            "\u001b[1;31m    from sqlite3.dbapi2 import *\n",
            "\u001b[1;31m  File \"/Users/dylanlam/miniconda3/envs/myenv/lib/python3.8/sqlite3/dbapi2.py\", line 27, in <module>\n",
            "\u001b[1;31m    from _sqlite3 import *\n",
            "\u001b[1;31mImportError: dlopen(/Users/dylanlam/miniconda3/envs/myenv/lib/python3.8/lib-dynload/_sqlite3.cpython-38-darwin.so, 2): Symbol not found: _sqlite3_enable_load_extension\n",
            "\u001b[1;31m  Referenced from: /Users/dylanlam/miniconda3/envs/myenv/lib/python3.8/lib-dynload/_sqlite3.cpython-38-darwin.so\n",
            "\u001b[1;31m  Expected in: /usr/lib/libsqlite3.dylib\n",
            "\u001b[1;31m in /Users/dylanlam/miniconda3/envs/myenv/lib/python3.8/lib-dynload/_sqlite3.cpython-38-darwin.so. \n",
            "\u001b[1;31mView Jupyter <a href='command:jupyter.viewOutput'>log</a> for further details."
          ]
        }
      ],
      "source": [
        "import altair as alt\n",
        "from vega_datasets import data\n",
        "\n",
        "iris = data.iris()\n",
        "\n",
        "fields = ['petalLength', 'petalWidth', 'sepalLength', 'sepalWidth']\n",
        "\n",
        "alt.Chart(iris).mark_point().encode(\n",
        "    alt.X(alt.repeat(\"column\"), type='quantitative'),\n",
        "    alt.Y(alt.repeat(\"row\"), type='quantitative'),\n",
        "    color='species:N'\n",
        ").properties(\n",
        "    width=200,\n",
        "    height=200\n",
        ").repeat(\n",
        "    row=['petalLength', 'petalWidth'],\n",
        "    column=['sepalLength', 'sepalWidth']\n",
        ").interactive()\n"
      ]
    },
    {
      "cell_type": "markdown",
      "metadata": {
        "id": "3Fl3Wxyrx3UE"
      },
      "source": [
        "#### Small Multiples - US Population: Wrapped Facet\n",
        "\n",
        "This chart visualizes the age distribution of the US population over time, using a wrapped faceting of the data by decade."
      ]
    },
    {
      "cell_type": "code",
      "execution_count": null,
      "metadata": {
        "colab": {
          "base_uri": "https://localhost:8080/"
        },
        "id": "xmZe-WGlx3UE",
        "outputId": "675c16e8-cbce-40c0-fbb5-a3b1a14828a2"
      },
      "outputs": [
        {
          "ename": "",
          "evalue": "",
          "output_type": "error",
          "traceback": [
            "\u001b[1;31mFailed to start the Kernel. \n",
            "\u001b[1;31mTraceback (most recent call last):\n",
            "\u001b[1;31m  File \"/Users/dylanlam/miniconda3/envs/myenv/lib/python3.8/runpy.py\", line 194, in _run_module_as_main\n",
            "\u001b[1;31m    return _run_code(code, main_globals, None,\n",
            "\u001b[1;31m  File \"/Users/dylanlam/miniconda3/envs/myenv/lib/python3.8/runpy.py\", line 87, in _run_code\n",
            "\u001b[1;31m    exec(code, run_globals)\n",
            "\u001b[1;31m  File \"/Users/dylanlam/miniconda3/envs/myenv/lib/python3.8/site-packages/ipykernel_launcher.py\", line 15, in <module>\n",
            "\u001b[1;31m    from ipykernel import kernelapp as app\n",
            "\u001b[1;31m  File \"/Users/dylanlam/miniconda3/envs/myenv/lib/python3.8/site-packages/ipykernel/kernelapp.py\", line 19, in <module>\n",
            "\u001b[1;31m    from IPython.core.application import (  # type:ignore[attr-defined]\n",
            "\u001b[1;31m  File \"/Users/dylanlam/miniconda3/envs/myenv/lib/python3.8/site-packages/IPython/__init__.py\", line 53, in <module>\n",
            "\u001b[1;31m    from .terminal.embed import embed\n",
            "\u001b[1;31m  File \"/Users/dylanlam/miniconda3/envs/myenv/lib/python3.8/site-packages/IPython/terminal/embed.py\", line 15, in <module>\n",
            "\u001b[1;31m    from IPython.core.interactiveshell import DummyMod, InteractiveShell\n",
            "\u001b[1;31m  File \"/Users/dylanlam/miniconda3/envs/myenv/lib/python3.8/site-packages/IPython/core/interactiveshell.py\", line 73, in <module>\n",
            "\u001b[1;31m    from IPython.core.history import HistoryManager\n",
            "\u001b[1;31m  File \"/Users/dylanlam/miniconda3/envs/myenv/lib/python3.8/site-packages/IPython/core/history.py\", line 11, in <module>\n",
            "\u001b[1;31m    import sqlite3\n",
            "\u001b[1;31m  File \"/Users/dylanlam/miniconda3/envs/myenv/lib/python3.8/sqlite3/__init__.py\", line 23, in <module>\n",
            "\u001b[1;31m    from sqlite3.dbapi2 import *\n",
            "\u001b[1;31m  File \"/Users/dylanlam/miniconda3/envs/myenv/lib/python3.8/sqlite3/dbapi2.py\", line 27, in <module>\n",
            "\u001b[1;31m    from _sqlite3 import *\n",
            "\u001b[1;31mImportError: dlopen(/Users/dylanlam/miniconda3/envs/myenv/lib/python3.8/lib-dynload/_sqlite3.cpython-38-darwin.so, 2): Symbol not found: _sqlite3_enable_load_extension\n",
            "\u001b[1;31m  Referenced from: /Users/dylanlam/miniconda3/envs/myenv/lib/python3.8/lib-dynload/_sqlite3.cpython-38-darwin.so\n",
            "\u001b[1;31m  Expected in: /usr/lib/libsqlite3.dylib\n",
            "\u001b[1;31m in /Users/dylanlam/miniconda3/envs/myenv/lib/python3.8/lib-dynload/_sqlite3.cpython-38-darwin.so. \n",
            "\u001b[1;31mView Jupyter <a href='command:jupyter.viewOutput'>log</a> for further details."
          ]
        }
      ],
      "source": [
        "population = data.population.url\n",
        "\n",
        "alt.Chart(population).mark_area().encode(\n",
        "    x='age:O',\n",
        "    y=alt.Y(\n",
        "        'sum(people):Q',\n",
        "        title='Population',\n",
        "        axis=alt.Axis(format='~s')\n",
        "    ),\n",
        "    facet=alt.Facet('year:O', columns=5),\n",
        ").properties(\n",
        "    title='US Age Distribution By Year',\n",
        "    width=90,\n",
        "    height=80\n",
        ")"
      ]
    },
    {
      "cell_type": "markdown",
      "metadata": {
        "id": "yhbutsdZx3UE"
      },
      "source": [
        "#### **Exercise**\n",
        "\n",
        "  4. Create horizontally juxtaposed bar charts using the population data.  The left bar chart should show the age and number of people in 1950 that are women (`sex` == 1) as a function of age, and the right bar chart should show the number of people in 1950 that are men (`sex` == 2) as a function of age. Make the left bar chart be the color '#F4D03F' and the right bar chart to be the color '#7D3C98'.  Filter the data using the slicing techniques in pandas.\n",
        "**(15 marks)**\n",
        "  \n",
        "  5. Create a layered line graph that shows the number of women in 1950 as a function of age and the number of men in 1950 as a function of age. Use the same colors as the first problem.  It's ok for now if you don't have a legend (legends in layered altair charts are complicated).  Again, use the pandas slicing to filter the data prior to creating the chart. **(15 marks)**"
      ]
    },
    {
      "cell_type": "code",
      "execution_count": null,
      "metadata": {
        "id": "cIMXAsCQx3UE"
      },
      "outputs": [
        {
          "ename": "",
          "evalue": "",
          "output_type": "error",
          "traceback": [
            "\u001b[1;31mFailed to start the Kernel. \n",
            "\u001b[1;31mTraceback (most recent call last):\n",
            "\u001b[1;31m  File \"/Users/dylanlam/miniconda3/envs/myenv/lib/python3.8/runpy.py\", line 194, in _run_module_as_main\n",
            "\u001b[1;31m    return _run_code(code, main_globals, None,\n",
            "\u001b[1;31m  File \"/Users/dylanlam/miniconda3/envs/myenv/lib/python3.8/runpy.py\", line 87, in _run_code\n",
            "\u001b[1;31m    exec(code, run_globals)\n",
            "\u001b[1;31m  File \"/Users/dylanlam/miniconda3/envs/myenv/lib/python3.8/site-packages/ipykernel_launcher.py\", line 15, in <module>\n",
            "\u001b[1;31m    from ipykernel import kernelapp as app\n",
            "\u001b[1;31m  File \"/Users/dylanlam/miniconda3/envs/myenv/lib/python3.8/site-packages/ipykernel/kernelapp.py\", line 19, in <module>\n",
            "\u001b[1;31m    from IPython.core.application import (  # type:ignore[attr-defined]\n",
            "\u001b[1;31m  File \"/Users/dylanlam/miniconda3/envs/myenv/lib/python3.8/site-packages/IPython/__init__.py\", line 53, in <module>\n",
            "\u001b[1;31m    from .terminal.embed import embed\n",
            "\u001b[1;31m  File \"/Users/dylanlam/miniconda3/envs/myenv/lib/python3.8/site-packages/IPython/terminal/embed.py\", line 15, in <module>\n",
            "\u001b[1;31m    from IPython.core.interactiveshell import DummyMod, InteractiveShell\n",
            "\u001b[1;31m  File \"/Users/dylanlam/miniconda3/envs/myenv/lib/python3.8/site-packages/IPython/core/interactiveshell.py\", line 73, in <module>\n",
            "\u001b[1;31m    from IPython.core.history import HistoryManager\n",
            "\u001b[1;31m  File \"/Users/dylanlam/miniconda3/envs/myenv/lib/python3.8/site-packages/IPython/core/history.py\", line 11, in <module>\n",
            "\u001b[1;31m    import sqlite3\n",
            "\u001b[1;31m  File \"/Users/dylanlam/miniconda3/envs/myenv/lib/python3.8/sqlite3/__init__.py\", line 23, in <module>\n",
            "\u001b[1;31m    from sqlite3.dbapi2 import *\n",
            "\u001b[1;31m  File \"/Users/dylanlam/miniconda3/envs/myenv/lib/python3.8/sqlite3/dbapi2.py\", line 27, in <module>\n",
            "\u001b[1;31m    from _sqlite3 import *\n",
            "\u001b[1;31mImportError: dlopen(/Users/dylanlam/miniconda3/envs/myenv/lib/python3.8/lib-dynload/_sqlite3.cpython-38-darwin.so, 2): Symbol not found: _sqlite3_enable_load_extension\n",
            "\u001b[1;31m  Referenced from: /Users/dylanlam/miniconda3/envs/myenv/lib/python3.8/lib-dynload/_sqlite3.cpython-38-darwin.so\n",
            "\u001b[1;31m  Expected in: /usr/lib/libsqlite3.dylib\n",
            "\u001b[1;31m in /Users/dylanlam/miniconda3/envs/myenv/lib/python3.8/lib-dynload/_sqlite3.cpython-38-darwin.so. \n",
            "\u001b[1;31mView Jupyter <a href='command:jupyter.viewOutput'>log</a> for further details."
          ]
        }
      ],
      "source": [
        "# your code here for horizontally juxtaposed bar charts"
      ]
    },
    {
      "cell_type": "code",
      "execution_count": null,
      "metadata": {
        "id": "7OA88-R6x3UE"
      },
      "outputs": [
        {
          "ename": "",
          "evalue": "",
          "output_type": "error",
          "traceback": [
            "\u001b[1;31mFailed to start the Kernel. \n",
            "\u001b[1;31mTraceback (most recent call last):\n",
            "\u001b[1;31m  File \"/Users/dylanlam/miniconda3/envs/myenv/lib/python3.8/runpy.py\", line 194, in _run_module_as_main\n",
            "\u001b[1;31m    return _run_code(code, main_globals, None,\n",
            "\u001b[1;31m  File \"/Users/dylanlam/miniconda3/envs/myenv/lib/python3.8/runpy.py\", line 87, in _run_code\n",
            "\u001b[1;31m    exec(code, run_globals)\n",
            "\u001b[1;31m  File \"/Users/dylanlam/miniconda3/envs/myenv/lib/python3.8/site-packages/ipykernel_launcher.py\", line 15, in <module>\n",
            "\u001b[1;31m    from ipykernel import kernelapp as app\n",
            "\u001b[1;31m  File \"/Users/dylanlam/miniconda3/envs/myenv/lib/python3.8/site-packages/ipykernel/kernelapp.py\", line 19, in <module>\n",
            "\u001b[1;31m    from IPython.core.application import (  # type:ignore[attr-defined]\n",
            "\u001b[1;31m  File \"/Users/dylanlam/miniconda3/envs/myenv/lib/python3.8/site-packages/IPython/__init__.py\", line 53, in <module>\n",
            "\u001b[1;31m    from .terminal.embed import embed\n",
            "\u001b[1;31m  File \"/Users/dylanlam/miniconda3/envs/myenv/lib/python3.8/site-packages/IPython/terminal/embed.py\", line 15, in <module>\n",
            "\u001b[1;31m    from IPython.core.interactiveshell import DummyMod, InteractiveShell\n",
            "\u001b[1;31m  File \"/Users/dylanlam/miniconda3/envs/myenv/lib/python3.8/site-packages/IPython/core/interactiveshell.py\", line 73, in <module>\n",
            "\u001b[1;31m    from IPython.core.history import HistoryManager\n",
            "\u001b[1;31m  File \"/Users/dylanlam/miniconda3/envs/myenv/lib/python3.8/site-packages/IPython/core/history.py\", line 11, in <module>\n",
            "\u001b[1;31m    import sqlite3\n",
            "\u001b[1;31m  File \"/Users/dylanlam/miniconda3/envs/myenv/lib/python3.8/sqlite3/__init__.py\", line 23, in <module>\n",
            "\u001b[1;31m    from sqlite3.dbapi2 import *\n",
            "\u001b[1;31m  File \"/Users/dylanlam/miniconda3/envs/myenv/lib/python3.8/sqlite3/dbapi2.py\", line 27, in <module>\n",
            "\u001b[1;31m    from _sqlite3 import *\n",
            "\u001b[1;31mImportError: dlopen(/Users/dylanlam/miniconda3/envs/myenv/lib/python3.8/lib-dynload/_sqlite3.cpython-38-darwin.so, 2): Symbol not found: _sqlite3_enable_load_extension\n",
            "\u001b[1;31m  Referenced from: /Users/dylanlam/miniconda3/envs/myenv/lib/python3.8/lib-dynload/_sqlite3.cpython-38-darwin.so\n",
            "\u001b[1;31m  Expected in: /usr/lib/libsqlite3.dylib\n",
            "\u001b[1;31m in /Users/dylanlam/miniconda3/envs/myenv/lib/python3.8/lib-dynload/_sqlite3.cpython-38-darwin.so. \n",
            "\u001b[1;31mView Jupyter <a href='command:jupyter.viewOutput'>log</a> for further details."
          ]
        }
      ],
      "source": [
        "# your code here for layered line graph"
      ]
    },
    {
      "cell_type": "markdown",
      "metadata": {
        "id": "e57EabpJx3UE"
      },
      "source": [
        "#### Interactivity and Selections\n",
        "\n",
        "Altair's interactivity and grammar of selections are one of its unique features among available plotting libraries.\n",
        "In this section, we will walk through the variety of selection types that are available, and begin to practice creating interactive charts and dashboards.\n",
        "\n",
        "There are three basic types of selections available:\n",
        "\n",
        "- Interval Selection: ``alt.selection_interval()``\n",
        "- Single Selection: ``alt.selection_single()``\n",
        "- Multi Selection: ``alt.selection_multi()``\n",
        "\n",
        "And we will cover four basic things that you can do with these selections\n",
        "\n",
        "- Conditional encodings\n",
        "- Scales\n",
        "- Filters\n",
        "- Domains"
      ]
    },
    {
      "cell_type": "code",
      "execution_count": null,
      "metadata": {
        "id": "Ne2irYgWx3UE"
      },
      "outputs": [
        {
          "ename": "",
          "evalue": "",
          "output_type": "error",
          "traceback": [
            "\u001b[1;31mFailed to start the Kernel. \n",
            "\u001b[1;31mTraceback (most recent call last):\n",
            "\u001b[1;31m  File \"/Users/dylanlam/miniconda3/envs/myenv/lib/python3.8/runpy.py\", line 194, in _run_module_as_main\n",
            "\u001b[1;31m    return _run_code(code, main_globals, None,\n",
            "\u001b[1;31m  File \"/Users/dylanlam/miniconda3/envs/myenv/lib/python3.8/runpy.py\", line 87, in _run_code\n",
            "\u001b[1;31m    exec(code, run_globals)\n",
            "\u001b[1;31m  File \"/Users/dylanlam/miniconda3/envs/myenv/lib/python3.8/site-packages/ipykernel_launcher.py\", line 15, in <module>\n",
            "\u001b[1;31m    from ipykernel import kernelapp as app\n",
            "\u001b[1;31m  File \"/Users/dylanlam/miniconda3/envs/myenv/lib/python3.8/site-packages/ipykernel/kernelapp.py\", line 19, in <module>\n",
            "\u001b[1;31m    from IPython.core.application import (  # type:ignore[attr-defined]\n",
            "\u001b[1;31m  File \"/Users/dylanlam/miniconda3/envs/myenv/lib/python3.8/site-packages/IPython/__init__.py\", line 53, in <module>\n",
            "\u001b[1;31m    from .terminal.embed import embed\n",
            "\u001b[1;31m  File \"/Users/dylanlam/miniconda3/envs/myenv/lib/python3.8/site-packages/IPython/terminal/embed.py\", line 15, in <module>\n",
            "\u001b[1;31m    from IPython.core.interactiveshell import DummyMod, InteractiveShell\n",
            "\u001b[1;31m  File \"/Users/dylanlam/miniconda3/envs/myenv/lib/python3.8/site-packages/IPython/core/interactiveshell.py\", line 73, in <module>\n",
            "\u001b[1;31m    from IPython.core.history import HistoryManager\n",
            "\u001b[1;31m  File \"/Users/dylanlam/miniconda3/envs/myenv/lib/python3.8/site-packages/IPython/core/history.py\", line 11, in <module>\n",
            "\u001b[1;31m    import sqlite3\n",
            "\u001b[1;31m  File \"/Users/dylanlam/miniconda3/envs/myenv/lib/python3.8/sqlite3/__init__.py\", line 23, in <module>\n",
            "\u001b[1;31m    from sqlite3.dbapi2 import *\n",
            "\u001b[1;31m  File \"/Users/dylanlam/miniconda3/envs/myenv/lib/python3.8/sqlite3/dbapi2.py\", line 27, in <module>\n",
            "\u001b[1;31m    from _sqlite3 import *\n",
            "\u001b[1;31mImportError: dlopen(/Users/dylanlam/miniconda3/envs/myenv/lib/python3.8/lib-dynload/_sqlite3.cpython-38-darwin.so, 2): Symbol not found: _sqlite3_enable_load_extension\n",
            "\u001b[1;31m  Referenced from: /Users/dylanlam/miniconda3/envs/myenv/lib/python3.8/lib-dynload/_sqlite3.cpython-38-darwin.so\n",
            "\u001b[1;31m  Expected in: /usr/lib/libsqlite3.dylib\n",
            "\u001b[1;31m in /Users/dylanlam/miniconda3/envs/myenv/lib/python3.8/lib-dynload/_sqlite3.cpython-38-darwin.so. \n",
            "\u001b[1;31mView Jupyter <a href='command:jupyter.viewOutput'>log</a> for further details."
          ]
        }
      ],
      "source": [
        "import altair as alt\n",
        "from vega_datasets import data"
      ]
    },
    {
      "cell_type": "markdown",
      "metadata": {
        "id": "WrVwbq9mx3UE"
      },
      "source": [
        "#### Basic Interactions: Panning, Zooming, Tooltips\n",
        "\n",
        "The basic interactions that Altair makes available are panning, zooming, and tooltips.\n",
        "This can be done in your chart without any use of the selection interface, using the\n",
        "``interactive()`` shortcut method and the ``tooltip`` encoding.\n",
        "\n",
        "For example, with our standard cars dataset, we can do the following:"
      ]
    },
    {
      "cell_type": "code",
      "execution_count": null,
      "metadata": {
        "colab": {
          "base_uri": "https://localhost:8080/"
        },
        "id": "kulorXaAx3UE",
        "outputId": "d9f2fbe4-fc2f-482a-e03c-b15fd241e6ff"
      },
      "outputs": [
        {
          "ename": "",
          "evalue": "",
          "output_type": "error",
          "traceback": [
            "\u001b[1;31mFailed to start the Kernel. \n",
            "\u001b[1;31mTraceback (most recent call last):\n",
            "\u001b[1;31m  File \"/Users/dylanlam/miniconda3/envs/myenv/lib/python3.8/runpy.py\", line 194, in _run_module_as_main\n",
            "\u001b[1;31m    return _run_code(code, main_globals, None,\n",
            "\u001b[1;31m  File \"/Users/dylanlam/miniconda3/envs/myenv/lib/python3.8/runpy.py\", line 87, in _run_code\n",
            "\u001b[1;31m    exec(code, run_globals)\n",
            "\u001b[1;31m  File \"/Users/dylanlam/miniconda3/envs/myenv/lib/python3.8/site-packages/ipykernel_launcher.py\", line 15, in <module>\n",
            "\u001b[1;31m    from ipykernel import kernelapp as app\n",
            "\u001b[1;31m  File \"/Users/dylanlam/miniconda3/envs/myenv/lib/python3.8/site-packages/ipykernel/kernelapp.py\", line 19, in <module>\n",
            "\u001b[1;31m    from IPython.core.application import (  # type:ignore[attr-defined]\n",
            "\u001b[1;31m  File \"/Users/dylanlam/miniconda3/envs/myenv/lib/python3.8/site-packages/IPython/__init__.py\", line 53, in <module>\n",
            "\u001b[1;31m    from .terminal.embed import embed\n",
            "\u001b[1;31m  File \"/Users/dylanlam/miniconda3/envs/myenv/lib/python3.8/site-packages/IPython/terminal/embed.py\", line 15, in <module>\n",
            "\u001b[1;31m    from IPython.core.interactiveshell import DummyMod, InteractiveShell\n",
            "\u001b[1;31m  File \"/Users/dylanlam/miniconda3/envs/myenv/lib/python3.8/site-packages/IPython/core/interactiveshell.py\", line 73, in <module>\n",
            "\u001b[1;31m    from IPython.core.history import HistoryManager\n",
            "\u001b[1;31m  File \"/Users/dylanlam/miniconda3/envs/myenv/lib/python3.8/site-packages/IPython/core/history.py\", line 11, in <module>\n",
            "\u001b[1;31m    import sqlite3\n",
            "\u001b[1;31m  File \"/Users/dylanlam/miniconda3/envs/myenv/lib/python3.8/sqlite3/__init__.py\", line 23, in <module>\n",
            "\u001b[1;31m    from sqlite3.dbapi2 import *\n",
            "\u001b[1;31m  File \"/Users/dylanlam/miniconda3/envs/myenv/lib/python3.8/sqlite3/dbapi2.py\", line 27, in <module>\n",
            "\u001b[1;31m    from _sqlite3 import *\n",
            "\u001b[1;31mImportError: dlopen(/Users/dylanlam/miniconda3/envs/myenv/lib/python3.8/lib-dynload/_sqlite3.cpython-38-darwin.so, 2): Symbol not found: _sqlite3_enable_load_extension\n",
            "\u001b[1;31m  Referenced from: /Users/dylanlam/miniconda3/envs/myenv/lib/python3.8/lib-dynload/_sqlite3.cpython-38-darwin.so\n",
            "\u001b[1;31m  Expected in: /usr/lib/libsqlite3.dylib\n",
            "\u001b[1;31m in /Users/dylanlam/miniconda3/envs/myenv/lib/python3.8/lib-dynload/_sqlite3.cpython-38-darwin.so. \n",
            "\u001b[1;31mView Jupyter <a href='command:jupyter.viewOutput'>log</a> for further details."
          ]
        }
      ],
      "source": [
        "cars = data.cars()\n",
        "cars.head()"
      ]
    },
    {
      "cell_type": "code",
      "execution_count": null,
      "metadata": {
        "colab": {
          "base_uri": "https://localhost:8080/"
        },
        "id": "_Hj0c3QRx3UE",
        "outputId": "449eca08-20c9-4301-dc0e-3a2fa7ee1a65"
      },
      "outputs": [
        {
          "ename": "",
          "evalue": "",
          "output_type": "error",
          "traceback": [
            "\u001b[1;31mFailed to start the Kernel. \n",
            "\u001b[1;31mTraceback (most recent call last):\n",
            "\u001b[1;31m  File \"/Users/dylanlam/miniconda3/envs/myenv/lib/python3.8/runpy.py\", line 194, in _run_module_as_main\n",
            "\u001b[1;31m    return _run_code(code, main_globals, None,\n",
            "\u001b[1;31m  File \"/Users/dylanlam/miniconda3/envs/myenv/lib/python3.8/runpy.py\", line 87, in _run_code\n",
            "\u001b[1;31m    exec(code, run_globals)\n",
            "\u001b[1;31m  File \"/Users/dylanlam/miniconda3/envs/myenv/lib/python3.8/site-packages/ipykernel_launcher.py\", line 15, in <module>\n",
            "\u001b[1;31m    from ipykernel import kernelapp as app\n",
            "\u001b[1;31m  File \"/Users/dylanlam/miniconda3/envs/myenv/lib/python3.8/site-packages/ipykernel/kernelapp.py\", line 19, in <module>\n",
            "\u001b[1;31m    from IPython.core.application import (  # type:ignore[attr-defined]\n",
            "\u001b[1;31m  File \"/Users/dylanlam/miniconda3/envs/myenv/lib/python3.8/site-packages/IPython/__init__.py\", line 53, in <module>\n",
            "\u001b[1;31m    from .terminal.embed import embed\n",
            "\u001b[1;31m  File \"/Users/dylanlam/miniconda3/envs/myenv/lib/python3.8/site-packages/IPython/terminal/embed.py\", line 15, in <module>\n",
            "\u001b[1;31m    from IPython.core.interactiveshell import DummyMod, InteractiveShell\n",
            "\u001b[1;31m  File \"/Users/dylanlam/miniconda3/envs/myenv/lib/python3.8/site-packages/IPython/core/interactiveshell.py\", line 73, in <module>\n",
            "\u001b[1;31m    from IPython.core.history import HistoryManager\n",
            "\u001b[1;31m  File \"/Users/dylanlam/miniconda3/envs/myenv/lib/python3.8/site-packages/IPython/core/history.py\", line 11, in <module>\n",
            "\u001b[1;31m    import sqlite3\n",
            "\u001b[1;31m  File \"/Users/dylanlam/miniconda3/envs/myenv/lib/python3.8/sqlite3/__init__.py\", line 23, in <module>\n",
            "\u001b[1;31m    from sqlite3.dbapi2 import *\n",
            "\u001b[1;31m  File \"/Users/dylanlam/miniconda3/envs/myenv/lib/python3.8/sqlite3/dbapi2.py\", line 27, in <module>\n",
            "\u001b[1;31m    from _sqlite3 import *\n",
            "\u001b[1;31mImportError: dlopen(/Users/dylanlam/miniconda3/envs/myenv/lib/python3.8/lib-dynload/_sqlite3.cpython-38-darwin.so, 2): Symbol not found: _sqlite3_enable_load_extension\n",
            "\u001b[1;31m  Referenced from: /Users/dylanlam/miniconda3/envs/myenv/lib/python3.8/lib-dynload/_sqlite3.cpython-38-darwin.so\n",
            "\u001b[1;31m  Expected in: /usr/lib/libsqlite3.dylib\n",
            "\u001b[1;31m in /Users/dylanlam/miniconda3/envs/myenv/lib/python3.8/lib-dynload/_sqlite3.cpython-38-darwin.so. \n",
            "\u001b[1;31mView Jupyter <a href='command:jupyter.viewOutput'>log</a> for further details."
          ]
        }
      ],
      "source": [
        "alt.Chart(cars).mark_point().encode(\n",
        "    x='Horsepower:Q',\n",
        "    y='Miles_per_Gallon:Q',\n",
        "    color='Origin',\n",
        "    tooltip='Name'\n",
        ").interactive()"
      ]
    },
    {
      "cell_type": "markdown",
      "metadata": {
        "id": "wHCTb_iNx3UE"
      },
      "source": [
        "At this point, hovering over a point will bring up a tooltip with the name of the car model, and clicking/dragging/scrolling will pan and zoom on the plot."
      ]
    },
    {
      "cell_type": "markdown",
      "metadata": {
        "id": "4U_Duu6Ox3UF"
      },
      "source": [
        "#### More Sophisticated Interaction: Selections"
      ]
    },
    {
      "cell_type": "markdown",
      "metadata": {
        "id": "NbHB2AXex3UF"
      },
      "source": [
        "#### Basic Selection Example: Interval\n",
        "\n",
        "As an example of a selection, let's add an interval selection to a chart.\n",
        "\n",
        "We'll start with our cannonical scatter plot:"
      ]
    },
    {
      "cell_type": "code",
      "execution_count": null,
      "metadata": {
        "colab": {
          "base_uri": "https://localhost:8080/",
          "height": 206
        },
        "id": "-UFbQUZPx3UF",
        "outputId": "82afcfd0-47cc-4eb8-f572-729d2782fbab"
      },
      "outputs": [
        {
          "ename": "",
          "evalue": "",
          "output_type": "error",
          "traceback": [
            "\u001b[1;31mFailed to start the Kernel. \n",
            "\u001b[1;31mTraceback (most recent call last):\n",
            "\u001b[1;31m  File \"/Users/dylanlam/miniconda3/envs/myenv/lib/python3.8/runpy.py\", line 194, in _run_module_as_main\n",
            "\u001b[1;31m    return _run_code(code, main_globals, None,\n",
            "\u001b[1;31m  File \"/Users/dylanlam/miniconda3/envs/myenv/lib/python3.8/runpy.py\", line 87, in _run_code\n",
            "\u001b[1;31m    exec(code, run_globals)\n",
            "\u001b[1;31m  File \"/Users/dylanlam/miniconda3/envs/myenv/lib/python3.8/site-packages/ipykernel_launcher.py\", line 15, in <module>\n",
            "\u001b[1;31m    from ipykernel import kernelapp as app\n",
            "\u001b[1;31m  File \"/Users/dylanlam/miniconda3/envs/myenv/lib/python3.8/site-packages/ipykernel/kernelapp.py\", line 19, in <module>\n",
            "\u001b[1;31m    from IPython.core.application import (  # type:ignore[attr-defined]\n",
            "\u001b[1;31m  File \"/Users/dylanlam/miniconda3/envs/myenv/lib/python3.8/site-packages/IPython/__init__.py\", line 53, in <module>\n",
            "\u001b[1;31m    from .terminal.embed import embed\n",
            "\u001b[1;31m  File \"/Users/dylanlam/miniconda3/envs/myenv/lib/python3.8/site-packages/IPython/terminal/embed.py\", line 15, in <module>\n",
            "\u001b[1;31m    from IPython.core.interactiveshell import DummyMod, InteractiveShell\n",
            "\u001b[1;31m  File \"/Users/dylanlam/miniconda3/envs/myenv/lib/python3.8/site-packages/IPython/core/interactiveshell.py\", line 73, in <module>\n",
            "\u001b[1;31m    from IPython.core.history import HistoryManager\n",
            "\u001b[1;31m  File \"/Users/dylanlam/miniconda3/envs/myenv/lib/python3.8/site-packages/IPython/core/history.py\", line 11, in <module>\n",
            "\u001b[1;31m    import sqlite3\n",
            "\u001b[1;31m  File \"/Users/dylanlam/miniconda3/envs/myenv/lib/python3.8/sqlite3/__init__.py\", line 23, in <module>\n",
            "\u001b[1;31m    from sqlite3.dbapi2 import *\n",
            "\u001b[1;31m  File \"/Users/dylanlam/miniconda3/envs/myenv/lib/python3.8/sqlite3/dbapi2.py\", line 27, in <module>\n",
            "\u001b[1;31m    from _sqlite3 import *\n",
            "\u001b[1;31mImportError: dlopen(/Users/dylanlam/miniconda3/envs/myenv/lib/python3.8/lib-dynload/_sqlite3.cpython-38-darwin.so, 2): Symbol not found: _sqlite3_enable_load_extension\n",
            "\u001b[1;31m  Referenced from: /Users/dylanlam/miniconda3/envs/myenv/lib/python3.8/lib-dynload/_sqlite3.cpython-38-darwin.so\n",
            "\u001b[1;31m  Expected in: /usr/lib/libsqlite3.dylib\n",
            "\u001b[1;31m in /Users/dylanlam/miniconda3/envs/myenv/lib/python3.8/lib-dynload/_sqlite3.cpython-38-darwin.so. \n",
            "\u001b[1;31mView Jupyter <a href='command:jupyter.viewOutput'>log</a> for further details."
          ]
        }
      ],
      "source": [
        "cars = data.cars()\n",
        "cars.head()"
      ]
    },
    {
      "cell_type": "code",
      "execution_count": null,
      "metadata": {
        "colab": {
          "base_uri": "https://localhost:8080/",
          "height": 368
        },
        "id": "qbjogaAWx3UF",
        "outputId": "3e72fae9-4eef-450c-efde-d8e2ad2504ef"
      },
      "outputs": [
        {
          "ename": "",
          "evalue": "",
          "output_type": "error",
          "traceback": [
            "\u001b[1;31mFailed to start the Kernel. \n",
            "\u001b[1;31mTraceback (most recent call last):\n",
            "\u001b[1;31m  File \"/Users/dylanlam/miniconda3/envs/myenv/lib/python3.8/runpy.py\", line 194, in _run_module_as_main\n",
            "\u001b[1;31m    return _run_code(code, main_globals, None,\n",
            "\u001b[1;31m  File \"/Users/dylanlam/miniconda3/envs/myenv/lib/python3.8/runpy.py\", line 87, in _run_code\n",
            "\u001b[1;31m    exec(code, run_globals)\n",
            "\u001b[1;31m  File \"/Users/dylanlam/miniconda3/envs/myenv/lib/python3.8/site-packages/ipykernel_launcher.py\", line 15, in <module>\n",
            "\u001b[1;31m    from ipykernel import kernelapp as app\n",
            "\u001b[1;31m  File \"/Users/dylanlam/miniconda3/envs/myenv/lib/python3.8/site-packages/ipykernel/kernelapp.py\", line 19, in <module>\n",
            "\u001b[1;31m    from IPython.core.application import (  # type:ignore[attr-defined]\n",
            "\u001b[1;31m  File \"/Users/dylanlam/miniconda3/envs/myenv/lib/python3.8/site-packages/IPython/__init__.py\", line 53, in <module>\n",
            "\u001b[1;31m    from .terminal.embed import embed\n",
            "\u001b[1;31m  File \"/Users/dylanlam/miniconda3/envs/myenv/lib/python3.8/site-packages/IPython/terminal/embed.py\", line 15, in <module>\n",
            "\u001b[1;31m    from IPython.core.interactiveshell import DummyMod, InteractiveShell\n",
            "\u001b[1;31m  File \"/Users/dylanlam/miniconda3/envs/myenv/lib/python3.8/site-packages/IPython/core/interactiveshell.py\", line 73, in <module>\n",
            "\u001b[1;31m    from IPython.core.history import HistoryManager\n",
            "\u001b[1;31m  File \"/Users/dylanlam/miniconda3/envs/myenv/lib/python3.8/site-packages/IPython/core/history.py\", line 11, in <module>\n",
            "\u001b[1;31m    import sqlite3\n",
            "\u001b[1;31m  File \"/Users/dylanlam/miniconda3/envs/myenv/lib/python3.8/sqlite3/__init__.py\", line 23, in <module>\n",
            "\u001b[1;31m    from sqlite3.dbapi2 import *\n",
            "\u001b[1;31m  File \"/Users/dylanlam/miniconda3/envs/myenv/lib/python3.8/sqlite3/dbapi2.py\", line 27, in <module>\n",
            "\u001b[1;31m    from _sqlite3 import *\n",
            "\u001b[1;31mImportError: dlopen(/Users/dylanlam/miniconda3/envs/myenv/lib/python3.8/lib-dynload/_sqlite3.cpython-38-darwin.so, 2): Symbol not found: _sqlite3_enable_load_extension\n",
            "\u001b[1;31m  Referenced from: /Users/dylanlam/miniconda3/envs/myenv/lib/python3.8/lib-dynload/_sqlite3.cpython-38-darwin.so\n",
            "\u001b[1;31m  Expected in: /usr/lib/libsqlite3.dylib\n",
            "\u001b[1;31m in /Users/dylanlam/miniconda3/envs/myenv/lib/python3.8/lib-dynload/_sqlite3.cpython-38-darwin.so. \n",
            "\u001b[1;31mView Jupyter <a href='command:jupyter.viewOutput'>log</a> for further details."
          ]
        }
      ],
      "source": [
        "alt.Chart(cars).mark_point().encode(\n",
        "    x='Horsepower:Q',\n",
        "    y='Miles_per_Gallon:Q',\n",
        "    color='Origin'\n",
        ")"
      ]
    },
    {
      "cell_type": "markdown",
      "metadata": {
        "id": "PQkA6770x3UF"
      },
      "source": [
        "To add selection behavior to a chart, we create the selection object and use the `add_selection` method:"
      ]
    },
    {
      "cell_type": "code",
      "execution_count": null,
      "metadata": {
        "colab": {
          "base_uri": "https://localhost:8080/",
          "height": 368
        },
        "id": "sVeopH9ex3UF",
        "outputId": "d13658fe-5ad1-47e6-c6e7-d6b1ac5269aa"
      },
      "outputs": [
        {
          "ename": "",
          "evalue": "",
          "output_type": "error",
          "traceback": [
            "\u001b[1;31mFailed to start the Kernel. \n",
            "\u001b[1;31mTraceback (most recent call last):\n",
            "\u001b[1;31m  File \"/Users/dylanlam/miniconda3/envs/myenv/lib/python3.8/runpy.py\", line 194, in _run_module_as_main\n",
            "\u001b[1;31m    return _run_code(code, main_globals, None,\n",
            "\u001b[1;31m  File \"/Users/dylanlam/miniconda3/envs/myenv/lib/python3.8/runpy.py\", line 87, in _run_code\n",
            "\u001b[1;31m    exec(code, run_globals)\n",
            "\u001b[1;31m  File \"/Users/dylanlam/miniconda3/envs/myenv/lib/python3.8/site-packages/ipykernel_launcher.py\", line 15, in <module>\n",
            "\u001b[1;31m    from ipykernel import kernelapp as app\n",
            "\u001b[1;31m  File \"/Users/dylanlam/miniconda3/envs/myenv/lib/python3.8/site-packages/ipykernel/kernelapp.py\", line 19, in <module>\n",
            "\u001b[1;31m    from IPython.core.application import (  # type:ignore[attr-defined]\n",
            "\u001b[1;31m  File \"/Users/dylanlam/miniconda3/envs/myenv/lib/python3.8/site-packages/IPython/__init__.py\", line 53, in <module>\n",
            "\u001b[1;31m    from .terminal.embed import embed\n",
            "\u001b[1;31m  File \"/Users/dylanlam/miniconda3/envs/myenv/lib/python3.8/site-packages/IPython/terminal/embed.py\", line 15, in <module>\n",
            "\u001b[1;31m    from IPython.core.interactiveshell import DummyMod, InteractiveShell\n",
            "\u001b[1;31m  File \"/Users/dylanlam/miniconda3/envs/myenv/lib/python3.8/site-packages/IPython/core/interactiveshell.py\", line 73, in <module>\n",
            "\u001b[1;31m    from IPython.core.history import HistoryManager\n",
            "\u001b[1;31m  File \"/Users/dylanlam/miniconda3/envs/myenv/lib/python3.8/site-packages/IPython/core/history.py\", line 11, in <module>\n",
            "\u001b[1;31m    import sqlite3\n",
            "\u001b[1;31m  File \"/Users/dylanlam/miniconda3/envs/myenv/lib/python3.8/sqlite3/__init__.py\", line 23, in <module>\n",
            "\u001b[1;31m    from sqlite3.dbapi2 import *\n",
            "\u001b[1;31m  File \"/Users/dylanlam/miniconda3/envs/myenv/lib/python3.8/sqlite3/dbapi2.py\", line 27, in <module>\n",
            "\u001b[1;31m    from _sqlite3 import *\n",
            "\u001b[1;31mImportError: dlopen(/Users/dylanlam/miniconda3/envs/myenv/lib/python3.8/lib-dynload/_sqlite3.cpython-38-darwin.so, 2): Symbol not found: _sqlite3_enable_load_extension\n",
            "\u001b[1;31m  Referenced from: /Users/dylanlam/miniconda3/envs/myenv/lib/python3.8/lib-dynload/_sqlite3.cpython-38-darwin.so\n",
            "\u001b[1;31m  Expected in: /usr/lib/libsqlite3.dylib\n",
            "\u001b[1;31m in /Users/dylanlam/miniconda3/envs/myenv/lib/python3.8/lib-dynload/_sqlite3.cpython-38-darwin.so. \n",
            "\u001b[1;31mView Jupyter <a href='command:jupyter.viewOutput'>log</a> for further details."
          ]
        }
      ],
      "source": [
        "interval = alt.selection_interval()\n",
        "\n",
        "alt.Chart(cars).mark_point().encode(\n",
        "    x='Horsepower:Q',\n",
        "    y='Miles_per_Gallon:Q',\n",
        "    color='Origin'\n",
        ").add_params(\n",
        "    interval\n",
        ")"
      ]
    },
    {
      "cell_type": "markdown",
      "metadata": {
        "id": "ZFNEGOBhx3UF"
      },
      "source": [
        "This adds an interaction to the plot that lets us select points on the plot; perhaps the most common use of a selection is to highlight points by conditioning their color on the result of the selection.\n",
        "\n",
        "This can be done with ``alt.condition``:"
      ]
    },
    {
      "cell_type": "code",
      "execution_count": null,
      "metadata": {
        "colab": {
          "base_uri": "https://localhost:8080/",
          "height": 368
        },
        "id": "Xre13aLCx3UF",
        "outputId": "4508e516-2490-4dac-ce03-8866870b4ce8"
      },
      "outputs": [
        {
          "ename": "",
          "evalue": "",
          "output_type": "error",
          "traceback": [
            "\u001b[1;31mFailed to start the Kernel. \n",
            "\u001b[1;31mTraceback (most recent call last):\n",
            "\u001b[1;31m  File \"/Users/dylanlam/miniconda3/envs/myenv/lib/python3.8/runpy.py\", line 194, in _run_module_as_main\n",
            "\u001b[1;31m    return _run_code(code, main_globals, None,\n",
            "\u001b[1;31m  File \"/Users/dylanlam/miniconda3/envs/myenv/lib/python3.8/runpy.py\", line 87, in _run_code\n",
            "\u001b[1;31m    exec(code, run_globals)\n",
            "\u001b[1;31m  File \"/Users/dylanlam/miniconda3/envs/myenv/lib/python3.8/site-packages/ipykernel_launcher.py\", line 15, in <module>\n",
            "\u001b[1;31m    from ipykernel import kernelapp as app\n",
            "\u001b[1;31m  File \"/Users/dylanlam/miniconda3/envs/myenv/lib/python3.8/site-packages/ipykernel/kernelapp.py\", line 19, in <module>\n",
            "\u001b[1;31m    from IPython.core.application import (  # type:ignore[attr-defined]\n",
            "\u001b[1;31m  File \"/Users/dylanlam/miniconda3/envs/myenv/lib/python3.8/site-packages/IPython/__init__.py\", line 53, in <module>\n",
            "\u001b[1;31m    from .terminal.embed import embed\n",
            "\u001b[1;31m  File \"/Users/dylanlam/miniconda3/envs/myenv/lib/python3.8/site-packages/IPython/terminal/embed.py\", line 15, in <module>\n",
            "\u001b[1;31m    from IPython.core.interactiveshell import DummyMod, InteractiveShell\n",
            "\u001b[1;31m  File \"/Users/dylanlam/miniconda3/envs/myenv/lib/python3.8/site-packages/IPython/core/interactiveshell.py\", line 73, in <module>\n",
            "\u001b[1;31m    from IPython.core.history import HistoryManager\n",
            "\u001b[1;31m  File \"/Users/dylanlam/miniconda3/envs/myenv/lib/python3.8/site-packages/IPython/core/history.py\", line 11, in <module>\n",
            "\u001b[1;31m    import sqlite3\n",
            "\u001b[1;31m  File \"/Users/dylanlam/miniconda3/envs/myenv/lib/python3.8/sqlite3/__init__.py\", line 23, in <module>\n",
            "\u001b[1;31m    from sqlite3.dbapi2 import *\n",
            "\u001b[1;31m  File \"/Users/dylanlam/miniconda3/envs/myenv/lib/python3.8/sqlite3/dbapi2.py\", line 27, in <module>\n",
            "\u001b[1;31m    from _sqlite3 import *\n",
            "\u001b[1;31mImportError: dlopen(/Users/dylanlam/miniconda3/envs/myenv/lib/python3.8/lib-dynload/_sqlite3.cpython-38-darwin.so, 2): Symbol not found: _sqlite3_enable_load_extension\n",
            "\u001b[1;31m  Referenced from: /Users/dylanlam/miniconda3/envs/myenv/lib/python3.8/lib-dynload/_sqlite3.cpython-38-darwin.so\n",
            "\u001b[1;31m  Expected in: /usr/lib/libsqlite3.dylib\n",
            "\u001b[1;31m in /Users/dylanlam/miniconda3/envs/myenv/lib/python3.8/lib-dynload/_sqlite3.cpython-38-darwin.so. \n",
            "\u001b[1;31mView Jupyter <a href='command:jupyter.viewOutput'>log</a> for further details."
          ]
        }
      ],
      "source": [
        "interval = alt.selection_interval()\n",
        "\n",
        "alt.Chart(cars).mark_point().encode(\n",
        "    x='Horsepower:Q',\n",
        "    y='Miles_per_Gallon:Q',\n",
        "    color=alt.condition(interval, 'Origin', alt.value('lightgray'))\n",
        ").add_params (\n",
        "    interval\n",
        ")"
      ]
    },
    {
      "cell_type": "markdown",
      "metadata": {
        "id": "C9yDMQ5Tx3UF"
      },
      "source": [
        "The ``alt.condition`` function takes three arguments: a selection object, a value to be applied to points within the selection, and a value to be applied to points outside the selection.\n",
        "Here we use ``alt.value('lightgray')`` to make certain that the color is treated as an actual color, rather than the name of a data column."
      ]
    },
    {
      "cell_type": "markdown",
      "metadata": {
        "id": "x9_7Gvwbx3UF"
      },
      "source": [
        "#### Customizing the Interval selection\n",
        "\n",
        "The ``alt.selection_interval()`` function takes a number of additional arguments; for example, by specifying ``encodings``, we can control whether the selection covers x, y, or both:"
      ]
    },
    {
      "cell_type": "code",
      "execution_count": null,
      "metadata": {
        "colab": {
          "base_uri": "https://localhost:8080/"
        },
        "id": "DvHUUviPx3UF",
        "outputId": "2a729744-3dd9-468a-c037-8bddab147d56"
      },
      "outputs": [
        {
          "ename": "",
          "evalue": "",
          "output_type": "error",
          "traceback": [
            "\u001b[1;31mFailed to start the Kernel. \n",
            "\u001b[1;31mTraceback (most recent call last):\n",
            "\u001b[1;31m  File \"/Users/dylanlam/miniconda3/envs/myenv/lib/python3.8/runpy.py\", line 194, in _run_module_as_main\n",
            "\u001b[1;31m    return _run_code(code, main_globals, None,\n",
            "\u001b[1;31m  File \"/Users/dylanlam/miniconda3/envs/myenv/lib/python3.8/runpy.py\", line 87, in _run_code\n",
            "\u001b[1;31m    exec(code, run_globals)\n",
            "\u001b[1;31m  File \"/Users/dylanlam/miniconda3/envs/myenv/lib/python3.8/site-packages/ipykernel_launcher.py\", line 15, in <module>\n",
            "\u001b[1;31m    from ipykernel import kernelapp as app\n",
            "\u001b[1;31m  File \"/Users/dylanlam/miniconda3/envs/myenv/lib/python3.8/site-packages/ipykernel/kernelapp.py\", line 19, in <module>\n",
            "\u001b[1;31m    from IPython.core.application import (  # type:ignore[attr-defined]\n",
            "\u001b[1;31m  File \"/Users/dylanlam/miniconda3/envs/myenv/lib/python3.8/site-packages/IPython/__init__.py\", line 53, in <module>\n",
            "\u001b[1;31m    from .terminal.embed import embed\n",
            "\u001b[1;31m  File \"/Users/dylanlam/miniconda3/envs/myenv/lib/python3.8/site-packages/IPython/terminal/embed.py\", line 15, in <module>\n",
            "\u001b[1;31m    from IPython.core.interactiveshell import DummyMod, InteractiveShell\n",
            "\u001b[1;31m  File \"/Users/dylanlam/miniconda3/envs/myenv/lib/python3.8/site-packages/IPython/core/interactiveshell.py\", line 73, in <module>\n",
            "\u001b[1;31m    from IPython.core.history import HistoryManager\n",
            "\u001b[1;31m  File \"/Users/dylanlam/miniconda3/envs/myenv/lib/python3.8/site-packages/IPython/core/history.py\", line 11, in <module>\n",
            "\u001b[1;31m    import sqlite3\n",
            "\u001b[1;31m  File \"/Users/dylanlam/miniconda3/envs/myenv/lib/python3.8/sqlite3/__init__.py\", line 23, in <module>\n",
            "\u001b[1;31m    from sqlite3.dbapi2 import *\n",
            "\u001b[1;31m  File \"/Users/dylanlam/miniconda3/envs/myenv/lib/python3.8/sqlite3/dbapi2.py\", line 27, in <module>\n",
            "\u001b[1;31m    from _sqlite3 import *\n",
            "\u001b[1;31mImportError: dlopen(/Users/dylanlam/miniconda3/envs/myenv/lib/python3.8/lib-dynload/_sqlite3.cpython-38-darwin.so, 2): Symbol not found: _sqlite3_enable_load_extension\n",
            "\u001b[1;31m  Referenced from: /Users/dylanlam/miniconda3/envs/myenv/lib/python3.8/lib-dynload/_sqlite3.cpython-38-darwin.so\n",
            "\u001b[1;31m  Expected in: /usr/lib/libsqlite3.dylib\n",
            "\u001b[1;31m in /Users/dylanlam/miniconda3/envs/myenv/lib/python3.8/lib-dynload/_sqlite3.cpython-38-darwin.so. \n",
            "\u001b[1;31mView Jupyter <a href='command:jupyter.viewOutput'>log</a> for further details."
          ]
        }
      ],
      "source": [
        "interval = alt.selection_interval(encodings=['x'])\n",
        "\n",
        "alt.Chart(cars).mark_point().encode(\n",
        "    x='Horsepower:Q',\n",
        "    y='Miles_per_Gallon:Q',\n",
        "    color=alt.condition(interval, 'Origin', alt.value('lightgray'))\n",
        ").add_params(\n",
        "    interval\n",
        ")"
      ]
    },
    {
      "cell_type": "code",
      "execution_count": null,
      "metadata": {
        "colab": {
          "base_uri": "https://localhost:8080/"
        },
        "id": "BdQYM9WHx3UF",
        "outputId": "15f7c288-f001-4f87-a55c-7308b5ee971b"
      },
      "outputs": [
        {
          "ename": "",
          "evalue": "",
          "output_type": "error",
          "traceback": [
            "\u001b[1;31mFailed to start the Kernel. \n",
            "\u001b[1;31mTraceback (most recent call last):\n",
            "\u001b[1;31m  File \"/Users/dylanlam/miniconda3/envs/myenv/lib/python3.8/runpy.py\", line 194, in _run_module_as_main\n",
            "\u001b[1;31m    return _run_code(code, main_globals, None,\n",
            "\u001b[1;31m  File \"/Users/dylanlam/miniconda3/envs/myenv/lib/python3.8/runpy.py\", line 87, in _run_code\n",
            "\u001b[1;31m    exec(code, run_globals)\n",
            "\u001b[1;31m  File \"/Users/dylanlam/miniconda3/envs/myenv/lib/python3.8/site-packages/ipykernel_launcher.py\", line 15, in <module>\n",
            "\u001b[1;31m    from ipykernel import kernelapp as app\n",
            "\u001b[1;31m  File \"/Users/dylanlam/miniconda3/envs/myenv/lib/python3.8/site-packages/ipykernel/kernelapp.py\", line 19, in <module>\n",
            "\u001b[1;31m    from IPython.core.application import (  # type:ignore[attr-defined]\n",
            "\u001b[1;31m  File \"/Users/dylanlam/miniconda3/envs/myenv/lib/python3.8/site-packages/IPython/__init__.py\", line 53, in <module>\n",
            "\u001b[1;31m    from .terminal.embed import embed\n",
            "\u001b[1;31m  File \"/Users/dylanlam/miniconda3/envs/myenv/lib/python3.8/site-packages/IPython/terminal/embed.py\", line 15, in <module>\n",
            "\u001b[1;31m    from IPython.core.interactiveshell import DummyMod, InteractiveShell\n",
            "\u001b[1;31m  File \"/Users/dylanlam/miniconda3/envs/myenv/lib/python3.8/site-packages/IPython/core/interactiveshell.py\", line 73, in <module>\n",
            "\u001b[1;31m    from IPython.core.history import HistoryManager\n",
            "\u001b[1;31m  File \"/Users/dylanlam/miniconda3/envs/myenv/lib/python3.8/site-packages/IPython/core/history.py\", line 11, in <module>\n",
            "\u001b[1;31m    import sqlite3\n",
            "\u001b[1;31m  File \"/Users/dylanlam/miniconda3/envs/myenv/lib/python3.8/sqlite3/__init__.py\", line 23, in <module>\n",
            "\u001b[1;31m    from sqlite3.dbapi2 import *\n",
            "\u001b[1;31m  File \"/Users/dylanlam/miniconda3/envs/myenv/lib/python3.8/sqlite3/dbapi2.py\", line 27, in <module>\n",
            "\u001b[1;31m    from _sqlite3 import *\n",
            "\u001b[1;31mImportError: dlopen(/Users/dylanlam/miniconda3/envs/myenv/lib/python3.8/lib-dynload/_sqlite3.cpython-38-darwin.so, 2): Symbol not found: _sqlite3_enable_load_extension\n",
            "\u001b[1;31m  Referenced from: /Users/dylanlam/miniconda3/envs/myenv/lib/python3.8/lib-dynload/_sqlite3.cpython-38-darwin.so\n",
            "\u001b[1;31m  Expected in: /usr/lib/libsqlite3.dylib\n",
            "\u001b[1;31m in /Users/dylanlam/miniconda3/envs/myenv/lib/python3.8/lib-dynload/_sqlite3.cpython-38-darwin.so. \n",
            "\u001b[1;31mView Jupyter <a href='command:jupyter.viewOutput'>log</a> for further details."
          ]
        }
      ],
      "source": [
        "interval = alt.selection_interval(encodings=['y'])\n",
        "\n",
        "alt.Chart(cars).mark_point().encode(\n",
        "    x='Horsepower:Q',\n",
        "    y='Miles_per_Gallon:Q',\n",
        "    color=alt.condition(interval, 'Origin', alt.value('lightgray'))\n",
        ").add_params(\n",
        "    interval\n",
        ")"
      ]
    },
    {
      "cell_type": "markdown",
      "metadata": {
        "id": "oHHdqY6Ex3UG"
      },
      "source": [
        "The ``empty`` argument lets us control whether empty selections contain *all* values, or *none* of the values;\n",
        "with ``empty='none'`` points are grayed-out by default:"
      ]
    },
    {
      "cell_type": "code",
      "execution_count": null,
      "metadata": {
        "colab": {
          "base_uri": "https://localhost:8080/"
        },
        "id": "WGH9SiOYx3UG",
        "outputId": "a7e20ff3-6c9f-4baf-95b6-0cf85df0e618"
      },
      "outputs": [
        {
          "ename": "",
          "evalue": "",
          "output_type": "error",
          "traceback": [
            "\u001b[1;31mFailed to start the Kernel. \n",
            "\u001b[1;31mTraceback (most recent call last):\n",
            "\u001b[1;31m  File \"/Users/dylanlam/miniconda3/envs/myenv/lib/python3.8/runpy.py\", line 194, in _run_module_as_main\n",
            "\u001b[1;31m    return _run_code(code, main_globals, None,\n",
            "\u001b[1;31m  File \"/Users/dylanlam/miniconda3/envs/myenv/lib/python3.8/runpy.py\", line 87, in _run_code\n",
            "\u001b[1;31m    exec(code, run_globals)\n",
            "\u001b[1;31m  File \"/Users/dylanlam/miniconda3/envs/myenv/lib/python3.8/site-packages/ipykernel_launcher.py\", line 15, in <module>\n",
            "\u001b[1;31m    from ipykernel import kernelapp as app\n",
            "\u001b[1;31m  File \"/Users/dylanlam/miniconda3/envs/myenv/lib/python3.8/site-packages/ipykernel/kernelapp.py\", line 19, in <module>\n",
            "\u001b[1;31m    from IPython.core.application import (  # type:ignore[attr-defined]\n",
            "\u001b[1;31m  File \"/Users/dylanlam/miniconda3/envs/myenv/lib/python3.8/site-packages/IPython/__init__.py\", line 53, in <module>\n",
            "\u001b[1;31m    from .terminal.embed import embed\n",
            "\u001b[1;31m  File \"/Users/dylanlam/miniconda3/envs/myenv/lib/python3.8/site-packages/IPython/terminal/embed.py\", line 15, in <module>\n",
            "\u001b[1;31m    from IPython.core.interactiveshell import DummyMod, InteractiveShell\n",
            "\u001b[1;31m  File \"/Users/dylanlam/miniconda3/envs/myenv/lib/python3.8/site-packages/IPython/core/interactiveshell.py\", line 73, in <module>\n",
            "\u001b[1;31m    from IPython.core.history import HistoryManager\n",
            "\u001b[1;31m  File \"/Users/dylanlam/miniconda3/envs/myenv/lib/python3.8/site-packages/IPython/core/history.py\", line 11, in <module>\n",
            "\u001b[1;31m    import sqlite3\n",
            "\u001b[1;31m  File \"/Users/dylanlam/miniconda3/envs/myenv/lib/python3.8/sqlite3/__init__.py\", line 23, in <module>\n",
            "\u001b[1;31m    from sqlite3.dbapi2 import *\n",
            "\u001b[1;31m  File \"/Users/dylanlam/miniconda3/envs/myenv/lib/python3.8/sqlite3/dbapi2.py\", line 27, in <module>\n",
            "\u001b[1;31m    from _sqlite3 import *\n",
            "\u001b[1;31mImportError: dlopen(/Users/dylanlam/miniconda3/envs/myenv/lib/python3.8/lib-dynload/_sqlite3.cpython-38-darwin.so, 2): Symbol not found: _sqlite3_enable_load_extension\n",
            "\u001b[1;31m  Referenced from: /Users/dylanlam/miniconda3/envs/myenv/lib/python3.8/lib-dynload/_sqlite3.cpython-38-darwin.so\n",
            "\u001b[1;31m  Expected in: /usr/lib/libsqlite3.dylib\n",
            "\u001b[1;31m in /Users/dylanlam/miniconda3/envs/myenv/lib/python3.8/lib-dynload/_sqlite3.cpython-38-darwin.so. \n",
            "\u001b[1;31mView Jupyter <a href='command:jupyter.viewOutput'>log</a> for further details."
          ]
        }
      ],
      "source": [
        "interval = alt.selection_interval(empty = False)\n",
        "\n",
        "alt.Chart(cars).mark_point().encode(\n",
        "    x='Horsepower:Q',\n",
        "    y='Miles_per_Gallon:Q',\n",
        "    color=alt.condition(interval, 'Origin', alt.value('lightgray'))\n",
        ").add_params(\n",
        "    interval\n",
        ")"
      ]
    },
    {
      "cell_type": "markdown",
      "metadata": {
        "id": "51am7BmHx3UG"
      },
      "source": [
        "#### Single Selections\n",
        "\n",
        "The ``alt.selection_point()`` function allows the user to click on single chart objects to select them, one at a time.\n",
        "We'll make the points a bit bigger so they are easier to click:"
      ]
    },
    {
      "cell_type": "code",
      "execution_count": null,
      "metadata": {
        "colab": {
          "base_uri": "https://localhost:8080/"
        },
        "id": "dkecAH2ux3UG",
        "outputId": "43455df2-533d-420c-f6d1-fe06d432ddd5"
      },
      "outputs": [
        {
          "ename": "",
          "evalue": "",
          "output_type": "error",
          "traceback": [
            "\u001b[1;31mFailed to start the Kernel. \n",
            "\u001b[1;31mTraceback (most recent call last):\n",
            "\u001b[1;31m  File \"/Users/dylanlam/miniconda3/envs/myenv/lib/python3.8/runpy.py\", line 194, in _run_module_as_main\n",
            "\u001b[1;31m    return _run_code(code, main_globals, None,\n",
            "\u001b[1;31m  File \"/Users/dylanlam/miniconda3/envs/myenv/lib/python3.8/runpy.py\", line 87, in _run_code\n",
            "\u001b[1;31m    exec(code, run_globals)\n",
            "\u001b[1;31m  File \"/Users/dylanlam/miniconda3/envs/myenv/lib/python3.8/site-packages/ipykernel_launcher.py\", line 15, in <module>\n",
            "\u001b[1;31m    from ipykernel import kernelapp as app\n",
            "\u001b[1;31m  File \"/Users/dylanlam/miniconda3/envs/myenv/lib/python3.8/site-packages/ipykernel/kernelapp.py\", line 19, in <module>\n",
            "\u001b[1;31m    from IPython.core.application import (  # type:ignore[attr-defined]\n",
            "\u001b[1;31m  File \"/Users/dylanlam/miniconda3/envs/myenv/lib/python3.8/site-packages/IPython/__init__.py\", line 53, in <module>\n",
            "\u001b[1;31m    from .terminal.embed import embed\n",
            "\u001b[1;31m  File \"/Users/dylanlam/miniconda3/envs/myenv/lib/python3.8/site-packages/IPython/terminal/embed.py\", line 15, in <module>\n",
            "\u001b[1;31m    from IPython.core.interactiveshell import DummyMod, InteractiveShell\n",
            "\u001b[1;31m  File \"/Users/dylanlam/miniconda3/envs/myenv/lib/python3.8/site-packages/IPython/core/interactiveshell.py\", line 73, in <module>\n",
            "\u001b[1;31m    from IPython.core.history import HistoryManager\n",
            "\u001b[1;31m  File \"/Users/dylanlam/miniconda3/envs/myenv/lib/python3.8/site-packages/IPython/core/history.py\", line 11, in <module>\n",
            "\u001b[1;31m    import sqlite3\n",
            "\u001b[1;31m  File \"/Users/dylanlam/miniconda3/envs/myenv/lib/python3.8/sqlite3/__init__.py\", line 23, in <module>\n",
            "\u001b[1;31m    from sqlite3.dbapi2 import *\n",
            "\u001b[1;31m  File \"/Users/dylanlam/miniconda3/envs/myenv/lib/python3.8/sqlite3/dbapi2.py\", line 27, in <module>\n",
            "\u001b[1;31m    from _sqlite3 import *\n",
            "\u001b[1;31mImportError: dlopen(/Users/dylanlam/miniconda3/envs/myenv/lib/python3.8/lib-dynload/_sqlite3.cpython-38-darwin.so, 2): Symbol not found: _sqlite3_enable_load_extension\n",
            "\u001b[1;31m  Referenced from: /Users/dylanlam/miniconda3/envs/myenv/lib/python3.8/lib-dynload/_sqlite3.cpython-38-darwin.so\n",
            "\u001b[1;31m  Expected in: /usr/lib/libsqlite3.dylib\n",
            "\u001b[1;31m in /Users/dylanlam/miniconda3/envs/myenv/lib/python3.8/lib-dynload/_sqlite3.cpython-38-darwin.so. \n",
            "\u001b[1;31mView Jupyter <a href='command:jupyter.viewOutput'>log</a> for further details."
          ]
        }
      ],
      "source": [
        "single = alt.selection_point()\n",
        "\n",
        "alt.Chart(cars).mark_circle(size=100).encode(\n",
        "    x='Horsepower:Q',\n",
        "    y='Miles_per_Gallon:Q',\n",
        "    color=alt.condition(single, 'Origin', alt.value('lightgray'))\n",
        ").add_params(\n",
        "    single\n",
        ")"
      ]
    },
    {
      "cell_type": "markdown",
      "metadata": {
        "id": "BryZ-Harx3UG"
      },
      "source": [
        "The single selection allows other behavior as well; for example, we can set ``nearest=True`` and ``on='mouseover'`` to update the highlight to the nearest point as we move the mouse:"
      ]
    },
    {
      "cell_type": "code",
      "execution_count": null,
      "metadata": {
        "colab": {
          "base_uri": "https://localhost:8080/"
        },
        "id": "lgrO6QITx3UG",
        "outputId": "6b7b8da6-d181-430a-8881-40cfafea5c8d"
      },
      "outputs": [
        {
          "ename": "",
          "evalue": "",
          "output_type": "error",
          "traceback": [
            "\u001b[1;31mFailed to start the Kernel. \n",
            "\u001b[1;31mTraceback (most recent call last):\n",
            "\u001b[1;31m  File \"/Users/dylanlam/miniconda3/envs/myenv/lib/python3.8/runpy.py\", line 194, in _run_module_as_main\n",
            "\u001b[1;31m    return _run_code(code, main_globals, None,\n",
            "\u001b[1;31m  File \"/Users/dylanlam/miniconda3/envs/myenv/lib/python3.8/runpy.py\", line 87, in _run_code\n",
            "\u001b[1;31m    exec(code, run_globals)\n",
            "\u001b[1;31m  File \"/Users/dylanlam/miniconda3/envs/myenv/lib/python3.8/site-packages/ipykernel_launcher.py\", line 15, in <module>\n",
            "\u001b[1;31m    from ipykernel import kernelapp as app\n",
            "\u001b[1;31m  File \"/Users/dylanlam/miniconda3/envs/myenv/lib/python3.8/site-packages/ipykernel/kernelapp.py\", line 19, in <module>\n",
            "\u001b[1;31m    from IPython.core.application import (  # type:ignore[attr-defined]\n",
            "\u001b[1;31m  File \"/Users/dylanlam/miniconda3/envs/myenv/lib/python3.8/site-packages/IPython/__init__.py\", line 53, in <module>\n",
            "\u001b[1;31m    from .terminal.embed import embed\n",
            "\u001b[1;31m  File \"/Users/dylanlam/miniconda3/envs/myenv/lib/python3.8/site-packages/IPython/terminal/embed.py\", line 15, in <module>\n",
            "\u001b[1;31m    from IPython.core.interactiveshell import DummyMod, InteractiveShell\n",
            "\u001b[1;31m  File \"/Users/dylanlam/miniconda3/envs/myenv/lib/python3.8/site-packages/IPython/core/interactiveshell.py\", line 73, in <module>\n",
            "\u001b[1;31m    from IPython.core.history import HistoryManager\n",
            "\u001b[1;31m  File \"/Users/dylanlam/miniconda3/envs/myenv/lib/python3.8/site-packages/IPython/core/history.py\", line 11, in <module>\n",
            "\u001b[1;31m    import sqlite3\n",
            "\u001b[1;31m  File \"/Users/dylanlam/miniconda3/envs/myenv/lib/python3.8/sqlite3/__init__.py\", line 23, in <module>\n",
            "\u001b[1;31m    from sqlite3.dbapi2 import *\n",
            "\u001b[1;31m  File \"/Users/dylanlam/miniconda3/envs/myenv/lib/python3.8/sqlite3/dbapi2.py\", line 27, in <module>\n",
            "\u001b[1;31m    from _sqlite3 import *\n",
            "\u001b[1;31mImportError: dlopen(/Users/dylanlam/miniconda3/envs/myenv/lib/python3.8/lib-dynload/_sqlite3.cpython-38-darwin.so, 2): Symbol not found: _sqlite3_enable_load_extension\n",
            "\u001b[1;31m  Referenced from: /Users/dylanlam/miniconda3/envs/myenv/lib/python3.8/lib-dynload/_sqlite3.cpython-38-darwin.so\n",
            "\u001b[1;31m  Expected in: /usr/lib/libsqlite3.dylib\n",
            "\u001b[1;31m in /Users/dylanlam/miniconda3/envs/myenv/lib/python3.8/lib-dynload/_sqlite3.cpython-38-darwin.so. \n",
            "\u001b[1;31mView Jupyter <a href='command:jupyter.viewOutput'>log</a> for further details."
          ]
        }
      ],
      "source": [
        "single = alt.selection_point(on='mouseover', nearest=True)\n",
        "\n",
        "alt.Chart(cars).mark_circle(size=100).encode(\n",
        "    x='Horsepower:Q',\n",
        "    y='Miles_per_Gallon:Q',\n",
        "    color=alt.condition(single, 'Origin', alt.value('lightgray'))\n",
        ").add_params(\n",
        "    single\n",
        ")"
      ]
    },
    {
      "cell_type": "markdown",
      "metadata": {
        "id": "SnKvSpv1x3UG"
      },
      "source": [
        "#### Multi Selection\n",
        "\n",
        "Use ``alt.selection_point()`` function to select multiple points at once, while holding the shift key:"
      ]
    },
    {
      "cell_type": "code",
      "execution_count": null,
      "metadata": {
        "colab": {
          "base_uri": "https://localhost:8080/"
        },
        "id": "Kd9yC-Pfx3UG",
        "outputId": "23705b88-522d-4639-9b79-b90227351bdd"
      },
      "outputs": [
        {
          "ename": "",
          "evalue": "",
          "output_type": "error",
          "traceback": [
            "\u001b[1;31mFailed to start the Kernel. \n",
            "\u001b[1;31mTraceback (most recent call last):\n",
            "\u001b[1;31m  File \"/Users/dylanlam/miniconda3/envs/myenv/lib/python3.8/runpy.py\", line 194, in _run_module_as_main\n",
            "\u001b[1;31m    return _run_code(code, main_globals, None,\n",
            "\u001b[1;31m  File \"/Users/dylanlam/miniconda3/envs/myenv/lib/python3.8/runpy.py\", line 87, in _run_code\n",
            "\u001b[1;31m    exec(code, run_globals)\n",
            "\u001b[1;31m  File \"/Users/dylanlam/miniconda3/envs/myenv/lib/python3.8/site-packages/ipykernel_launcher.py\", line 15, in <module>\n",
            "\u001b[1;31m    from ipykernel import kernelapp as app\n",
            "\u001b[1;31m  File \"/Users/dylanlam/miniconda3/envs/myenv/lib/python3.8/site-packages/ipykernel/kernelapp.py\", line 19, in <module>\n",
            "\u001b[1;31m    from IPython.core.application import (  # type:ignore[attr-defined]\n",
            "\u001b[1;31m  File \"/Users/dylanlam/miniconda3/envs/myenv/lib/python3.8/site-packages/IPython/__init__.py\", line 53, in <module>\n",
            "\u001b[1;31m    from .terminal.embed import embed\n",
            "\u001b[1;31m  File \"/Users/dylanlam/miniconda3/envs/myenv/lib/python3.8/site-packages/IPython/terminal/embed.py\", line 15, in <module>\n",
            "\u001b[1;31m    from IPython.core.interactiveshell import DummyMod, InteractiveShell\n",
            "\u001b[1;31m  File \"/Users/dylanlam/miniconda3/envs/myenv/lib/python3.8/site-packages/IPython/core/interactiveshell.py\", line 73, in <module>\n",
            "\u001b[1;31m    from IPython.core.history import HistoryManager\n",
            "\u001b[1;31m  File \"/Users/dylanlam/miniconda3/envs/myenv/lib/python3.8/site-packages/IPython/core/history.py\", line 11, in <module>\n",
            "\u001b[1;31m    import sqlite3\n",
            "\u001b[1;31m  File \"/Users/dylanlam/miniconda3/envs/myenv/lib/python3.8/sqlite3/__init__.py\", line 23, in <module>\n",
            "\u001b[1;31m    from sqlite3.dbapi2 import *\n",
            "\u001b[1;31m  File \"/Users/dylanlam/miniconda3/envs/myenv/lib/python3.8/sqlite3/dbapi2.py\", line 27, in <module>\n",
            "\u001b[1;31m    from _sqlite3 import *\n",
            "\u001b[1;31mImportError: dlopen(/Users/dylanlam/miniconda3/envs/myenv/lib/python3.8/lib-dynload/_sqlite3.cpython-38-darwin.so, 2): Symbol not found: _sqlite3_enable_load_extension\n",
            "\u001b[1;31m  Referenced from: /Users/dylanlam/miniconda3/envs/myenv/lib/python3.8/lib-dynload/_sqlite3.cpython-38-darwin.so\n",
            "\u001b[1;31m  Expected in: /usr/lib/libsqlite3.dylib\n",
            "\u001b[1;31m in /Users/dylanlam/miniconda3/envs/myenv/lib/python3.8/lib-dynload/_sqlite3.cpython-38-darwin.so. \n",
            "\u001b[1;31mView Jupyter <a href='command:jupyter.viewOutput'>log</a> for further details."
          ]
        }
      ],
      "source": [
        "multi = alt.selection_point()\n",
        "\n",
        "alt.Chart(cars).mark_circle(size=100).encode(\n",
        "    x='Horsepower:Q',\n",
        "    y='Miles_per_Gallon:Q',\n",
        "    color=alt.condition(multi, 'Origin', alt.value('lightgray'))\n",
        ").add_params(\n",
        "    multi\n",
        ")"
      ]
    },
    {
      "cell_type": "markdown",
      "metadata": {
        "id": "TbChhtN5x3UG"
      },
      "source": [
        "Options like ``on`` and ``nearest`` also work for multi selections:"
      ]
    },
    {
      "cell_type": "code",
      "execution_count": null,
      "metadata": {
        "colab": {
          "base_uri": "https://localhost:8080/"
        },
        "id": "inJd5AM_x3UG",
        "outputId": "6e307922-1c91-4368-a396-a2e05c80ac94"
      },
      "outputs": [
        {
          "ename": "",
          "evalue": "",
          "output_type": "error",
          "traceback": [
            "\u001b[1;31mFailed to start the Kernel. \n",
            "\u001b[1;31mTraceback (most recent call last):\n",
            "\u001b[1;31m  File \"/Users/dylanlam/miniconda3/envs/myenv/lib/python3.8/runpy.py\", line 194, in _run_module_as_main\n",
            "\u001b[1;31m    return _run_code(code, main_globals, None,\n",
            "\u001b[1;31m  File \"/Users/dylanlam/miniconda3/envs/myenv/lib/python3.8/runpy.py\", line 87, in _run_code\n",
            "\u001b[1;31m    exec(code, run_globals)\n",
            "\u001b[1;31m  File \"/Users/dylanlam/miniconda3/envs/myenv/lib/python3.8/site-packages/ipykernel_launcher.py\", line 15, in <module>\n",
            "\u001b[1;31m    from ipykernel import kernelapp as app\n",
            "\u001b[1;31m  File \"/Users/dylanlam/miniconda3/envs/myenv/lib/python3.8/site-packages/ipykernel/kernelapp.py\", line 19, in <module>\n",
            "\u001b[1;31m    from IPython.core.application import (  # type:ignore[attr-defined]\n",
            "\u001b[1;31m  File \"/Users/dylanlam/miniconda3/envs/myenv/lib/python3.8/site-packages/IPython/__init__.py\", line 53, in <module>\n",
            "\u001b[1;31m    from .terminal.embed import embed\n",
            "\u001b[1;31m  File \"/Users/dylanlam/miniconda3/envs/myenv/lib/python3.8/site-packages/IPython/terminal/embed.py\", line 15, in <module>\n",
            "\u001b[1;31m    from IPython.core.interactiveshell import DummyMod, InteractiveShell\n",
            "\u001b[1;31m  File \"/Users/dylanlam/miniconda3/envs/myenv/lib/python3.8/site-packages/IPython/core/interactiveshell.py\", line 73, in <module>\n",
            "\u001b[1;31m    from IPython.core.history import HistoryManager\n",
            "\u001b[1;31m  File \"/Users/dylanlam/miniconda3/envs/myenv/lib/python3.8/site-packages/IPython/core/history.py\", line 11, in <module>\n",
            "\u001b[1;31m    import sqlite3\n",
            "\u001b[1;31m  File \"/Users/dylanlam/miniconda3/envs/myenv/lib/python3.8/sqlite3/__init__.py\", line 23, in <module>\n",
            "\u001b[1;31m    from sqlite3.dbapi2 import *\n",
            "\u001b[1;31m  File \"/Users/dylanlam/miniconda3/envs/myenv/lib/python3.8/sqlite3/dbapi2.py\", line 27, in <module>\n",
            "\u001b[1;31m    from _sqlite3 import *\n",
            "\u001b[1;31mImportError: dlopen(/Users/dylanlam/miniconda3/envs/myenv/lib/python3.8/lib-dynload/_sqlite3.cpython-38-darwin.so, 2): Symbol not found: _sqlite3_enable_load_extension\n",
            "\u001b[1;31m  Referenced from: /Users/dylanlam/miniconda3/envs/myenv/lib/python3.8/lib-dynload/_sqlite3.cpython-38-darwin.so\n",
            "\u001b[1;31m  Expected in: /usr/lib/libsqlite3.dylib\n",
            "\u001b[1;31m in /Users/dylanlam/miniconda3/envs/myenv/lib/python3.8/lib-dynload/_sqlite3.cpython-38-darwin.so. \n",
            "\u001b[1;31mView Jupyter <a href='command:jupyter.viewOutput'>log</a> for further details."
          ]
        }
      ],
      "source": [
        "multi = alt.selection_point(on='mouseover', nearest=True)\n",
        "\n",
        "alt.Chart(cars).mark_circle(size=100).encode(\n",
        "    x='Horsepower:Q',\n",
        "    y='Miles_per_Gallon:Q',\n",
        "    color=alt.condition(multi, 'Origin', alt.value('lightgray'))\n",
        ").add_params(\n",
        "    multi\n",
        ")"
      ]
    },
    {
      "cell_type": "markdown",
      "metadata": {
        "id": "c6eExbLmx3UG"
      },
      "source": [
        "#### Selection Binding\n",
        "\n",
        "Above we have seen how ``alt.condition`` can be used to bind the selection to different aspects of the chart.\n",
        "Let's look at a few other ways that a selection can be used:"
      ]
    },
    {
      "cell_type": "markdown",
      "metadata": {
        "id": "sui2urMBx3UG"
      },
      "source": [
        "#### Binding Scales\n",
        "For an interval selection, another thing you can do with the selection is bind the selection region to the chart scales:"
      ]
    },
    {
      "cell_type": "code",
      "execution_count": null,
      "metadata": {
        "colab": {
          "base_uri": "https://localhost:8080/"
        },
        "id": "cD6bvYDFx3UG",
        "outputId": "3b1cf852-906b-46c1-cbb5-18438ba7a464"
      },
      "outputs": [
        {
          "ename": "",
          "evalue": "",
          "output_type": "error",
          "traceback": [
            "\u001b[1;31mFailed to start the Kernel. \n",
            "\u001b[1;31mTraceback (most recent call last):\n",
            "\u001b[1;31m  File \"/Users/dylanlam/miniconda3/envs/myenv/lib/python3.8/runpy.py\", line 194, in _run_module_as_main\n",
            "\u001b[1;31m    return _run_code(code, main_globals, None,\n",
            "\u001b[1;31m  File \"/Users/dylanlam/miniconda3/envs/myenv/lib/python3.8/runpy.py\", line 87, in _run_code\n",
            "\u001b[1;31m    exec(code, run_globals)\n",
            "\u001b[1;31m  File \"/Users/dylanlam/miniconda3/envs/myenv/lib/python3.8/site-packages/ipykernel_launcher.py\", line 15, in <module>\n",
            "\u001b[1;31m    from ipykernel import kernelapp as app\n",
            "\u001b[1;31m  File \"/Users/dylanlam/miniconda3/envs/myenv/lib/python3.8/site-packages/ipykernel/kernelapp.py\", line 19, in <module>\n",
            "\u001b[1;31m    from IPython.core.application import (  # type:ignore[attr-defined]\n",
            "\u001b[1;31m  File \"/Users/dylanlam/miniconda3/envs/myenv/lib/python3.8/site-packages/IPython/__init__.py\", line 53, in <module>\n",
            "\u001b[1;31m    from .terminal.embed import embed\n",
            "\u001b[1;31m  File \"/Users/dylanlam/miniconda3/envs/myenv/lib/python3.8/site-packages/IPython/terminal/embed.py\", line 15, in <module>\n",
            "\u001b[1;31m    from IPython.core.interactiveshell import DummyMod, InteractiveShell\n",
            "\u001b[1;31m  File \"/Users/dylanlam/miniconda3/envs/myenv/lib/python3.8/site-packages/IPython/core/interactiveshell.py\", line 73, in <module>\n",
            "\u001b[1;31m    from IPython.core.history import HistoryManager\n",
            "\u001b[1;31m  File \"/Users/dylanlam/miniconda3/envs/myenv/lib/python3.8/site-packages/IPython/core/history.py\", line 11, in <module>\n",
            "\u001b[1;31m    import sqlite3\n",
            "\u001b[1;31m  File \"/Users/dylanlam/miniconda3/envs/myenv/lib/python3.8/sqlite3/__init__.py\", line 23, in <module>\n",
            "\u001b[1;31m    from sqlite3.dbapi2 import *\n",
            "\u001b[1;31m  File \"/Users/dylanlam/miniconda3/envs/myenv/lib/python3.8/sqlite3/dbapi2.py\", line 27, in <module>\n",
            "\u001b[1;31m    from _sqlite3 import *\n",
            "\u001b[1;31mImportError: dlopen(/Users/dylanlam/miniconda3/envs/myenv/lib/python3.8/lib-dynload/_sqlite3.cpython-38-darwin.so, 2): Symbol not found: _sqlite3_enable_load_extension\n",
            "\u001b[1;31m  Referenced from: /Users/dylanlam/miniconda3/envs/myenv/lib/python3.8/lib-dynload/_sqlite3.cpython-38-darwin.so\n",
            "\u001b[1;31m  Expected in: /usr/lib/libsqlite3.dylib\n",
            "\u001b[1;31m in /Users/dylanlam/miniconda3/envs/myenv/lib/python3.8/lib-dynload/_sqlite3.cpython-38-darwin.so. \n",
            "\u001b[1;31mView Jupyter <a href='command:jupyter.viewOutput'>log</a> for further details."
          ]
        }
      ],
      "source": [
        "bind = alt.selection_interval(bind='scales')\n",
        "\n",
        "alt.Chart(cars).mark_circle(size=100).encode(\n",
        "    x='Horsepower:Q',\n",
        "    y='Miles_per_Gallon:Q',\n",
        "    color='Origin:N'\n",
        ").add_params(\n",
        "    bind\n",
        ")"
      ]
    },
    {
      "cell_type": "markdown",
      "metadata": {
        "id": "aB3BUIHJx3UG"
      },
      "source": [
        "This is essentially what the ``chart.interactive()`` method does under the hood."
      ]
    },
    {
      "cell_type": "markdown",
      "metadata": {
        "id": "eML4XztZx3UG"
      },
      "source": [
        "#### Binding Scales to Other Domains\n",
        "\n",
        "It is also possible to bind scales to other domains, which can be useful in creating"
      ]
    },
    {
      "cell_type": "code",
      "execution_count": null,
      "metadata": {
        "colab": {
          "base_uri": "https://localhost:8080/"
        },
        "id": "FESJOENix3UG",
        "outputId": "785b9f57-c27e-4a6e-88dc-ef8687e84d42"
      },
      "outputs": [
        {
          "ename": "",
          "evalue": "",
          "output_type": "error",
          "traceback": [
            "\u001b[1;31mFailed to start the Kernel. \n",
            "\u001b[1;31mTraceback (most recent call last):\n",
            "\u001b[1;31m  File \"/Users/dylanlam/miniconda3/envs/myenv/lib/python3.8/runpy.py\", line 194, in _run_module_as_main\n",
            "\u001b[1;31m    return _run_code(code, main_globals, None,\n",
            "\u001b[1;31m  File \"/Users/dylanlam/miniconda3/envs/myenv/lib/python3.8/runpy.py\", line 87, in _run_code\n",
            "\u001b[1;31m    exec(code, run_globals)\n",
            "\u001b[1;31m  File \"/Users/dylanlam/miniconda3/envs/myenv/lib/python3.8/site-packages/ipykernel_launcher.py\", line 15, in <module>\n",
            "\u001b[1;31m    from ipykernel import kernelapp as app\n",
            "\u001b[1;31m  File \"/Users/dylanlam/miniconda3/envs/myenv/lib/python3.8/site-packages/ipykernel/kernelapp.py\", line 19, in <module>\n",
            "\u001b[1;31m    from IPython.core.application import (  # type:ignore[attr-defined]\n",
            "\u001b[1;31m  File \"/Users/dylanlam/miniconda3/envs/myenv/lib/python3.8/site-packages/IPython/__init__.py\", line 53, in <module>\n",
            "\u001b[1;31m    from .terminal.embed import embed\n",
            "\u001b[1;31m  File \"/Users/dylanlam/miniconda3/envs/myenv/lib/python3.8/site-packages/IPython/terminal/embed.py\", line 15, in <module>\n",
            "\u001b[1;31m    from IPython.core.interactiveshell import DummyMod, InteractiveShell\n",
            "\u001b[1;31m  File \"/Users/dylanlam/miniconda3/envs/myenv/lib/python3.8/site-packages/IPython/core/interactiveshell.py\", line 73, in <module>\n",
            "\u001b[1;31m    from IPython.core.history import HistoryManager\n",
            "\u001b[1;31m  File \"/Users/dylanlam/miniconda3/envs/myenv/lib/python3.8/site-packages/IPython/core/history.py\", line 11, in <module>\n",
            "\u001b[1;31m    import sqlite3\n",
            "\u001b[1;31m  File \"/Users/dylanlam/miniconda3/envs/myenv/lib/python3.8/sqlite3/__init__.py\", line 23, in <module>\n",
            "\u001b[1;31m    from sqlite3.dbapi2 import *\n",
            "\u001b[1;31m  File \"/Users/dylanlam/miniconda3/envs/myenv/lib/python3.8/sqlite3/dbapi2.py\", line 27, in <module>\n",
            "\u001b[1;31m    from _sqlite3 import *\n",
            "\u001b[1;31mImportError: dlopen(/Users/dylanlam/miniconda3/envs/myenv/lib/python3.8/lib-dynload/_sqlite3.cpython-38-darwin.so, 2): Symbol not found: _sqlite3_enable_load_extension\n",
            "\u001b[1;31m  Referenced from: /Users/dylanlam/miniconda3/envs/myenv/lib/python3.8/lib-dynload/_sqlite3.cpython-38-darwin.so\n",
            "\u001b[1;31m  Expected in: /usr/lib/libsqlite3.dylib\n",
            "\u001b[1;31m in /Users/dylanlam/miniconda3/envs/myenv/lib/python3.8/lib-dynload/_sqlite3.cpython-38-darwin.so. \n",
            "\u001b[1;31mView Jupyter <a href='command:jupyter.viewOutput'>log</a> for further details."
          ]
        }
      ],
      "source": [
        "weather = data.seattle_weather()\n",
        "weather.head()"
      ]
    },
    {
      "cell_type": "code",
      "execution_count": null,
      "metadata": {
        "colab": {
          "base_uri": "https://localhost:8080/"
        },
        "id": "RDbslQSbx3UH",
        "outputId": "9a548c92-ac8c-426f-c6a4-29896b991009"
      },
      "outputs": [
        {
          "ename": "",
          "evalue": "",
          "output_type": "error",
          "traceback": [
            "\u001b[1;31mFailed to start the Kernel. \n",
            "\u001b[1;31mTraceback (most recent call last):\n",
            "\u001b[1;31m  File \"/Users/dylanlam/miniconda3/envs/myenv/lib/python3.8/runpy.py\", line 194, in _run_module_as_main\n",
            "\u001b[1;31m    return _run_code(code, main_globals, None,\n",
            "\u001b[1;31m  File \"/Users/dylanlam/miniconda3/envs/myenv/lib/python3.8/runpy.py\", line 87, in _run_code\n",
            "\u001b[1;31m    exec(code, run_globals)\n",
            "\u001b[1;31m  File \"/Users/dylanlam/miniconda3/envs/myenv/lib/python3.8/site-packages/ipykernel_launcher.py\", line 15, in <module>\n",
            "\u001b[1;31m    from ipykernel import kernelapp as app\n",
            "\u001b[1;31m  File \"/Users/dylanlam/miniconda3/envs/myenv/lib/python3.8/site-packages/ipykernel/kernelapp.py\", line 19, in <module>\n",
            "\u001b[1;31m    from IPython.core.application import (  # type:ignore[attr-defined]\n",
            "\u001b[1;31m  File \"/Users/dylanlam/miniconda3/envs/myenv/lib/python3.8/site-packages/IPython/__init__.py\", line 53, in <module>\n",
            "\u001b[1;31m    from .terminal.embed import embed\n",
            "\u001b[1;31m  File \"/Users/dylanlam/miniconda3/envs/myenv/lib/python3.8/site-packages/IPython/terminal/embed.py\", line 15, in <module>\n",
            "\u001b[1;31m    from IPython.core.interactiveshell import DummyMod, InteractiveShell\n",
            "\u001b[1;31m  File \"/Users/dylanlam/miniconda3/envs/myenv/lib/python3.8/site-packages/IPython/core/interactiveshell.py\", line 73, in <module>\n",
            "\u001b[1;31m    from IPython.core.history import HistoryManager\n",
            "\u001b[1;31m  File \"/Users/dylanlam/miniconda3/envs/myenv/lib/python3.8/site-packages/IPython/core/history.py\", line 11, in <module>\n",
            "\u001b[1;31m    import sqlite3\n",
            "\u001b[1;31m  File \"/Users/dylanlam/miniconda3/envs/myenv/lib/python3.8/sqlite3/__init__.py\", line 23, in <module>\n",
            "\u001b[1;31m    from sqlite3.dbapi2 import *\n",
            "\u001b[1;31m  File \"/Users/dylanlam/miniconda3/envs/myenv/lib/python3.8/sqlite3/dbapi2.py\", line 27, in <module>\n",
            "\u001b[1;31m    from _sqlite3 import *\n",
            "\u001b[1;31mImportError: dlopen(/Users/dylanlam/miniconda3/envs/myenv/lib/python3.8/lib-dynload/_sqlite3.cpython-38-darwin.so, 2): Symbol not found: _sqlite3_enable_load_extension\n",
            "\u001b[1;31m  Referenced from: /Users/dylanlam/miniconda3/envs/myenv/lib/python3.8/lib-dynload/_sqlite3.cpython-38-darwin.so\n",
            "\u001b[1;31m  Expected in: /usr/lib/libsqlite3.dylib\n",
            "\u001b[1;31m in /Users/dylanlam/miniconda3/envs/myenv/lib/python3.8/lib-dynload/_sqlite3.cpython-38-darwin.so. \n",
            "\u001b[1;31mView Jupyter <a href='command:jupyter.viewOutput'>log</a> for further details."
          ]
        }
      ],
      "source": [
        "base = alt.Chart(weather).mark_rule().encode(\n",
        "    x='date:T',\n",
        "    y='temp_min:Q',\n",
        "    y2='temp_max:Q',\n",
        "    color='weather:N'\n",
        ")\n",
        "\n",
        "base"
      ]
    },
    {
      "cell_type": "code",
      "execution_count": null,
      "metadata": {
        "colab": {
          "base_uri": "https://localhost:8080/"
        },
        "id": "LTuQF0gsx3UH",
        "outputId": "e92ab4ae-0c17-4af9-d90f-10afa93a5255"
      },
      "outputs": [
        {
          "ename": "",
          "evalue": "",
          "output_type": "error",
          "traceback": [
            "\u001b[1;31mFailed to start the Kernel. \n",
            "\u001b[1;31mTraceback (most recent call last):\n",
            "\u001b[1;31m  File \"/Users/dylanlam/miniconda3/envs/myenv/lib/python3.8/runpy.py\", line 194, in _run_module_as_main\n",
            "\u001b[1;31m    return _run_code(code, main_globals, None,\n",
            "\u001b[1;31m  File \"/Users/dylanlam/miniconda3/envs/myenv/lib/python3.8/runpy.py\", line 87, in _run_code\n",
            "\u001b[1;31m    exec(code, run_globals)\n",
            "\u001b[1;31m  File \"/Users/dylanlam/miniconda3/envs/myenv/lib/python3.8/site-packages/ipykernel_launcher.py\", line 15, in <module>\n",
            "\u001b[1;31m    from ipykernel import kernelapp as app\n",
            "\u001b[1;31m  File \"/Users/dylanlam/miniconda3/envs/myenv/lib/python3.8/site-packages/ipykernel/kernelapp.py\", line 19, in <module>\n",
            "\u001b[1;31m    from IPython.core.application import (  # type:ignore[attr-defined]\n",
            "\u001b[1;31m  File \"/Users/dylanlam/miniconda3/envs/myenv/lib/python3.8/site-packages/IPython/__init__.py\", line 53, in <module>\n",
            "\u001b[1;31m    from .terminal.embed import embed\n",
            "\u001b[1;31m  File \"/Users/dylanlam/miniconda3/envs/myenv/lib/python3.8/site-packages/IPython/terminal/embed.py\", line 15, in <module>\n",
            "\u001b[1;31m    from IPython.core.interactiveshell import DummyMod, InteractiveShell\n",
            "\u001b[1;31m  File \"/Users/dylanlam/miniconda3/envs/myenv/lib/python3.8/site-packages/IPython/core/interactiveshell.py\", line 73, in <module>\n",
            "\u001b[1;31m    from IPython.core.history import HistoryManager\n",
            "\u001b[1;31m  File \"/Users/dylanlam/miniconda3/envs/myenv/lib/python3.8/site-packages/IPython/core/history.py\", line 11, in <module>\n",
            "\u001b[1;31m    import sqlite3\n",
            "\u001b[1;31m  File \"/Users/dylanlam/miniconda3/envs/myenv/lib/python3.8/sqlite3/__init__.py\", line 23, in <module>\n",
            "\u001b[1;31m    from sqlite3.dbapi2 import *\n",
            "\u001b[1;31m  File \"/Users/dylanlam/miniconda3/envs/myenv/lib/python3.8/sqlite3/dbapi2.py\", line 27, in <module>\n",
            "\u001b[1;31m    from _sqlite3 import *\n",
            "\u001b[1;31mImportError: dlopen(/Users/dylanlam/miniconda3/envs/myenv/lib/python3.8/lib-dynload/_sqlite3.cpython-38-darwin.so, 2): Symbol not found: _sqlite3_enable_load_extension\n",
            "\u001b[1;31m  Referenced from: /Users/dylanlam/miniconda3/envs/myenv/lib/python3.8/lib-dynload/_sqlite3.cpython-38-darwin.so\n",
            "\u001b[1;31m  Expected in: /usr/lib/libsqlite3.dylib\n",
            "\u001b[1;31m in /Users/dylanlam/miniconda3/envs/myenv/lib/python3.8/lib-dynload/_sqlite3.cpython-38-darwin.so. \n",
            "\u001b[1;31mView Jupyter <a href='command:jupyter.viewOutput'>log</a> for further details."
          ]
        }
      ],
      "source": [
        "chart = base.properties(\n",
        "    width=800,\n",
        "    height=300\n",
        ")\n",
        "\n",
        "view = chart.properties(\n",
        "    width=800,\n",
        "    height=50\n",
        ")\n",
        "\n",
        "chart & view"
      ]
    },
    {
      "cell_type": "markdown",
      "metadata": {
        "id": "qkVHBvH5x3UH"
      },
      "source": [
        "Let us add an interval selection to the bottom chart that will control the domain of the top chart:"
      ]
    },
    {
      "cell_type": "code",
      "execution_count": null,
      "metadata": {
        "colab": {
          "base_uri": "https://localhost:8080/"
        },
        "id": "DJJJ-HA4x3UH",
        "outputId": "e2509cea-a5cd-46b8-926c-0f85c9cb1fe9"
      },
      "outputs": [
        {
          "ename": "",
          "evalue": "",
          "output_type": "error",
          "traceback": [
            "\u001b[1;31mFailed to start the Kernel. \n",
            "\u001b[1;31mTraceback (most recent call last):\n",
            "\u001b[1;31m  File \"/Users/dylanlam/miniconda3/envs/myenv/lib/python3.8/runpy.py\", line 194, in _run_module_as_main\n",
            "\u001b[1;31m    return _run_code(code, main_globals, None,\n",
            "\u001b[1;31m  File \"/Users/dylanlam/miniconda3/envs/myenv/lib/python3.8/runpy.py\", line 87, in _run_code\n",
            "\u001b[1;31m    exec(code, run_globals)\n",
            "\u001b[1;31m  File \"/Users/dylanlam/miniconda3/envs/myenv/lib/python3.8/site-packages/ipykernel_launcher.py\", line 15, in <module>\n",
            "\u001b[1;31m    from ipykernel import kernelapp as app\n",
            "\u001b[1;31m  File \"/Users/dylanlam/miniconda3/envs/myenv/lib/python3.8/site-packages/ipykernel/kernelapp.py\", line 19, in <module>\n",
            "\u001b[1;31m    from IPython.core.application import (  # type:ignore[attr-defined]\n",
            "\u001b[1;31m  File \"/Users/dylanlam/miniconda3/envs/myenv/lib/python3.8/site-packages/IPython/__init__.py\", line 53, in <module>\n",
            "\u001b[1;31m    from .terminal.embed import embed\n",
            "\u001b[1;31m  File \"/Users/dylanlam/miniconda3/envs/myenv/lib/python3.8/site-packages/IPython/terminal/embed.py\", line 15, in <module>\n",
            "\u001b[1;31m    from IPython.core.interactiveshell import DummyMod, InteractiveShell\n",
            "\u001b[1;31m  File \"/Users/dylanlam/miniconda3/envs/myenv/lib/python3.8/site-packages/IPython/core/interactiveshell.py\", line 73, in <module>\n",
            "\u001b[1;31m    from IPython.core.history import HistoryManager\n",
            "\u001b[1;31m  File \"/Users/dylanlam/miniconda3/envs/myenv/lib/python3.8/site-packages/IPython/core/history.py\", line 11, in <module>\n",
            "\u001b[1;31m    import sqlite3\n",
            "\u001b[1;31m  File \"/Users/dylanlam/miniconda3/envs/myenv/lib/python3.8/sqlite3/__init__.py\", line 23, in <module>\n",
            "\u001b[1;31m    from sqlite3.dbapi2 import *\n",
            "\u001b[1;31m  File \"/Users/dylanlam/miniconda3/envs/myenv/lib/python3.8/sqlite3/dbapi2.py\", line 27, in <module>\n",
            "\u001b[1;31m    from _sqlite3 import *\n",
            "\u001b[1;31mImportError: dlopen(/Users/dylanlam/miniconda3/envs/myenv/lib/python3.8/lib-dynload/_sqlite3.cpython-38-darwin.so, 2): Symbol not found: _sqlite3_enable_load_extension\n",
            "\u001b[1;31m  Referenced from: /Users/dylanlam/miniconda3/envs/myenv/lib/python3.8/lib-dynload/_sqlite3.cpython-38-darwin.so\n",
            "\u001b[1;31m  Expected in: /usr/lib/libsqlite3.dylib\n",
            "\u001b[1;31m in /Users/dylanlam/miniconda3/envs/myenv/lib/python3.8/lib-dynload/_sqlite3.cpython-38-darwin.so. \n",
            "\u001b[1;31mView Jupyter <a href='command:jupyter.viewOutput'>log</a> for further details."
          ]
        }
      ],
      "source": [
        "interval = alt.selection_interval(encodings=['x'])\n",
        "\n",
        "base = alt.Chart(weather).mark_rule(size=2).encode(\n",
        "    x='date:T',\n",
        "    y='temp_min:Q',\n",
        "    y2='temp_max:Q',\n",
        "    color='weather:N'\n",
        ")\n",
        "\n",
        "chart = base.encode(\n",
        "    x=alt.X('date:T', scale=alt.Scale(domain=interval))\n",
        ").properties(\n",
        "    width=800,\n",
        "    height=300\n",
        ")\n",
        "\n",
        "view = base.add_params(\n",
        "    interval\n",
        ").properties(\n",
        "    width=800,\n",
        "    height=50,\n",
        ")\n",
        "\n",
        "chart & view"
      ]
    },
    {
      "cell_type": "markdown",
      "metadata": {
        "id": "XAdld1mYx3UH"
      },
      "source": [
        "#### Filtering by Selection / Brushing and Linking\n",
        "\n",
        "In multi-panel charts, we can use the result of the selection to filter other views of the data.\n",
        "For example, here is a scatter-plot along with a histogram"
      ]
    },
    {
      "cell_type": "code",
      "execution_count": null,
      "metadata": {
        "colab": {
          "base_uri": "https://localhost:8080/"
        },
        "id": "sQPEIc_dx3UH",
        "outputId": "ca026e78-6ea2-402b-8068-5be67bb6d85e"
      },
      "outputs": [
        {
          "ename": "",
          "evalue": "",
          "output_type": "error",
          "traceback": [
            "\u001b[1;31mFailed to start the Kernel. \n",
            "\u001b[1;31mTraceback (most recent call last):\n",
            "\u001b[1;31m  File \"/Users/dylanlam/miniconda3/envs/myenv/lib/python3.8/runpy.py\", line 194, in _run_module_as_main\n",
            "\u001b[1;31m    return _run_code(code, main_globals, None,\n",
            "\u001b[1;31m  File \"/Users/dylanlam/miniconda3/envs/myenv/lib/python3.8/runpy.py\", line 87, in _run_code\n",
            "\u001b[1;31m    exec(code, run_globals)\n",
            "\u001b[1;31m  File \"/Users/dylanlam/miniconda3/envs/myenv/lib/python3.8/site-packages/ipykernel_launcher.py\", line 15, in <module>\n",
            "\u001b[1;31m    from ipykernel import kernelapp as app\n",
            "\u001b[1;31m  File \"/Users/dylanlam/miniconda3/envs/myenv/lib/python3.8/site-packages/ipykernel/kernelapp.py\", line 19, in <module>\n",
            "\u001b[1;31m    from IPython.core.application import (  # type:ignore[attr-defined]\n",
            "\u001b[1;31m  File \"/Users/dylanlam/miniconda3/envs/myenv/lib/python3.8/site-packages/IPython/__init__.py\", line 53, in <module>\n",
            "\u001b[1;31m    from .terminal.embed import embed\n",
            "\u001b[1;31m  File \"/Users/dylanlam/miniconda3/envs/myenv/lib/python3.8/site-packages/IPython/terminal/embed.py\", line 15, in <module>\n",
            "\u001b[1;31m    from IPython.core.interactiveshell import DummyMod, InteractiveShell\n",
            "\u001b[1;31m  File \"/Users/dylanlam/miniconda3/envs/myenv/lib/python3.8/site-packages/IPython/core/interactiveshell.py\", line 73, in <module>\n",
            "\u001b[1;31m    from IPython.core.history import HistoryManager\n",
            "\u001b[1;31m  File \"/Users/dylanlam/miniconda3/envs/myenv/lib/python3.8/site-packages/IPython/core/history.py\", line 11, in <module>\n",
            "\u001b[1;31m    import sqlite3\n",
            "\u001b[1;31m  File \"/Users/dylanlam/miniconda3/envs/myenv/lib/python3.8/sqlite3/__init__.py\", line 23, in <module>\n",
            "\u001b[1;31m    from sqlite3.dbapi2 import *\n",
            "\u001b[1;31m  File \"/Users/dylanlam/miniconda3/envs/myenv/lib/python3.8/sqlite3/dbapi2.py\", line 27, in <module>\n",
            "\u001b[1;31m    from _sqlite3 import *\n",
            "\u001b[1;31mImportError: dlopen(/Users/dylanlam/miniconda3/envs/myenv/lib/python3.8/lib-dynload/_sqlite3.cpython-38-darwin.so, 2): Symbol not found: _sqlite3_enable_load_extension\n",
            "\u001b[1;31m  Referenced from: /Users/dylanlam/miniconda3/envs/myenv/lib/python3.8/lib-dynload/_sqlite3.cpython-38-darwin.so\n",
            "\u001b[1;31m  Expected in: /usr/lib/libsqlite3.dylib\n",
            "\u001b[1;31m in /Users/dylanlam/miniconda3/envs/myenv/lib/python3.8/lib-dynload/_sqlite3.cpython-38-darwin.so. \n",
            "\u001b[1;31mView Jupyter <a href='command:jupyter.viewOutput'>log</a> for further details."
          ]
        }
      ],
      "source": [
        "interval = alt.selection_interval()\n",
        "\n",
        "scatter = alt.Chart(cars).mark_point().encode(\n",
        "    x='Horsepower:Q',\n",
        "    y='Miles_per_Gallon:Q',\n",
        "    color=alt.condition(interval, 'Origin:N', alt.value('lightgray'))\n",
        ").add_params(\n",
        "    interval\n",
        ")\n",
        "\n",
        "hist = alt.Chart(cars).mark_bar().encode(\n",
        "    x='count()',\n",
        "    y='Origin',\n",
        "    color='Origin'\n",
        ").transform_filter(\n",
        "    interval\n",
        ")\n",
        "\n",
        "scatter & hist"
      ]
    },
    {
      "cell_type": "markdown",
      "metadata": {
        "id": "AW50Sgmlx3UH"
      },
      "source": [
        "Similarly, you can use a Multi selection to go the other way (allow clicking on the bar chart to filter the contents of the scatter plot.\n",
        "We'll add this to the previous chart:"
      ]
    },
    {
      "cell_type": "code",
      "execution_count": null,
      "metadata": {
        "colab": {
          "base_uri": "https://localhost:8080/"
        },
        "id": "3_3t5pqBx3UH",
        "outputId": "3d1e5ce9-d1fc-417d-b76f-8ebf990347ad"
      },
      "outputs": [
        {
          "ename": "",
          "evalue": "",
          "output_type": "error",
          "traceback": [
            "\u001b[1;31mFailed to start the Kernel. \n",
            "\u001b[1;31mTraceback (most recent call last):\n",
            "\u001b[1;31m  File \"/Users/dylanlam/miniconda3/envs/myenv/lib/python3.8/runpy.py\", line 194, in _run_module_as_main\n",
            "\u001b[1;31m    return _run_code(code, main_globals, None,\n",
            "\u001b[1;31m  File \"/Users/dylanlam/miniconda3/envs/myenv/lib/python3.8/runpy.py\", line 87, in _run_code\n",
            "\u001b[1;31m    exec(code, run_globals)\n",
            "\u001b[1;31m  File \"/Users/dylanlam/miniconda3/envs/myenv/lib/python3.8/site-packages/ipykernel_launcher.py\", line 15, in <module>\n",
            "\u001b[1;31m    from ipykernel import kernelapp as app\n",
            "\u001b[1;31m  File \"/Users/dylanlam/miniconda3/envs/myenv/lib/python3.8/site-packages/ipykernel/kernelapp.py\", line 19, in <module>\n",
            "\u001b[1;31m    from IPython.core.application import (  # type:ignore[attr-defined]\n",
            "\u001b[1;31m  File \"/Users/dylanlam/miniconda3/envs/myenv/lib/python3.8/site-packages/IPython/__init__.py\", line 53, in <module>\n",
            "\u001b[1;31m    from .terminal.embed import embed\n",
            "\u001b[1;31m  File \"/Users/dylanlam/miniconda3/envs/myenv/lib/python3.8/site-packages/IPython/terminal/embed.py\", line 15, in <module>\n",
            "\u001b[1;31m    from IPython.core.interactiveshell import DummyMod, InteractiveShell\n",
            "\u001b[1;31m  File \"/Users/dylanlam/miniconda3/envs/myenv/lib/python3.8/site-packages/IPython/core/interactiveshell.py\", line 73, in <module>\n",
            "\u001b[1;31m    from IPython.core.history import HistoryManager\n",
            "\u001b[1;31m  File \"/Users/dylanlam/miniconda3/envs/myenv/lib/python3.8/site-packages/IPython/core/history.py\", line 11, in <module>\n",
            "\u001b[1;31m    import sqlite3\n",
            "\u001b[1;31m  File \"/Users/dylanlam/miniconda3/envs/myenv/lib/python3.8/sqlite3/__init__.py\", line 23, in <module>\n",
            "\u001b[1;31m    from sqlite3.dbapi2 import *\n",
            "\u001b[1;31m  File \"/Users/dylanlam/miniconda3/envs/myenv/lib/python3.8/sqlite3/dbapi2.py\", line 27, in <module>\n",
            "\u001b[1;31m    from _sqlite3 import *\n",
            "\u001b[1;31mImportError: dlopen(/Users/dylanlam/miniconda3/envs/myenv/lib/python3.8/lib-dynload/_sqlite3.cpython-38-darwin.so, 2): Symbol not found: _sqlite3_enable_load_extension\n",
            "\u001b[1;31m  Referenced from: /Users/dylanlam/miniconda3/envs/myenv/lib/python3.8/lib-dynload/_sqlite3.cpython-38-darwin.so\n",
            "\u001b[1;31m  Expected in: /usr/lib/libsqlite3.dylib\n",
            "\u001b[1;31m in /Users/dylanlam/miniconda3/envs/myenv/lib/python3.8/lib-dynload/_sqlite3.cpython-38-darwin.so. \n",
            "\u001b[1;31mView Jupyter <a href='command:jupyter.viewOutput'>log</a> for further details."
          ]
        }
      ],
      "source": [
        "click = alt.selection_point(encodings=['color'])\n",
        "\n",
        "scatter = alt.Chart(cars).mark_point().encode(\n",
        "    x='Horsepower:Q',\n",
        "    y='Miles_per_Gallon:Q',\n",
        "    color='Origin:N'\n",
        ").transform_filter(\n",
        "    click\n",
        ")\n",
        "\n",
        "hist = alt.Chart(cars).mark_bar().encode(\n",
        "    x='count()',\n",
        "    y='Origin',\n",
        "    color=alt.condition(click, 'Origin', alt.value('lightgray'))\n",
        ").add_params(\n",
        "    click\n",
        ")\n",
        "\n",
        "scatter & hist"
      ]
    },
    {
      "cell_type": "markdown",
      "metadata": {
        "id": "Lep7Gm20x3UH"
      },
      "source": [
        "#### Selections Summary\n",
        "\n",
        "- Selection Types:\n",
        "\n",
        "  - ``selection_interval()``\n",
        "  - ``selection_single()``\n",
        "  - ``selection_multi()``\n",
        "  \n",
        "- Bindings\n",
        "\n",
        "  - bind scales: drag & scroll to interact with plot\n",
        "  - bind scales on another chart\n",
        "  - conditional encodings (e.g. color, size)\n",
        "  - filter data"
      ]
    },
    {
      "cell_type": "markdown",
      "metadata": {
        "id": "Vf0UlMmAx3UH"
      },
      "source": [
        "#### **Exercise**\n",
        "\n",
        "Here you have a chance to try this yourself! Use the interactive examples above to create:\n",
        "\n",
        "6. Using the cars data, create a scatter-plot of horsepower vs miles per gallon where the *size* of the points becomes larger as you hover over them. **(15 marks)**\n",
        "\n",
        "\n",
        "7. Using the cars data, create a two-panel histogram (miles per gallon counts in one panel, horsepower counts in the other) where you can drag your mouse to select data in the left panel to filter the data in the second panel. **(15 marks)**\n"
      ]
    },
    {
      "cell_type": "code",
      "execution_count": null,
      "metadata": {
        "id": "Gf-hF1sfx3UH"
      },
      "outputs": [
        {
          "ename": "",
          "evalue": "",
          "output_type": "error",
          "traceback": [
            "\u001b[1;31mFailed to start the Kernel. \n",
            "\u001b[1;31mTraceback (most recent call last):\n",
            "\u001b[1;31m  File \"/Users/dylanlam/miniconda3/envs/myenv/lib/python3.8/runpy.py\", line 194, in _run_module_as_main\n",
            "\u001b[1;31m    return _run_code(code, main_globals, None,\n",
            "\u001b[1;31m  File \"/Users/dylanlam/miniconda3/envs/myenv/lib/python3.8/runpy.py\", line 87, in _run_code\n",
            "\u001b[1;31m    exec(code, run_globals)\n",
            "\u001b[1;31m  File \"/Users/dylanlam/miniconda3/envs/myenv/lib/python3.8/site-packages/ipykernel_launcher.py\", line 15, in <module>\n",
            "\u001b[1;31m    from ipykernel import kernelapp as app\n",
            "\u001b[1;31m  File \"/Users/dylanlam/miniconda3/envs/myenv/lib/python3.8/site-packages/ipykernel/kernelapp.py\", line 19, in <module>\n",
            "\u001b[1;31m    from IPython.core.application import (  # type:ignore[attr-defined]\n",
            "\u001b[1;31m  File \"/Users/dylanlam/miniconda3/envs/myenv/lib/python3.8/site-packages/IPython/__init__.py\", line 53, in <module>\n",
            "\u001b[1;31m    from .terminal.embed import embed\n",
            "\u001b[1;31m  File \"/Users/dylanlam/miniconda3/envs/myenv/lib/python3.8/site-packages/IPython/terminal/embed.py\", line 15, in <module>\n",
            "\u001b[1;31m    from IPython.core.interactiveshell import DummyMod, InteractiveShell\n",
            "\u001b[1;31m  File \"/Users/dylanlam/miniconda3/envs/myenv/lib/python3.8/site-packages/IPython/core/interactiveshell.py\", line 73, in <module>\n",
            "\u001b[1;31m    from IPython.core.history import HistoryManager\n",
            "\u001b[1;31m  File \"/Users/dylanlam/miniconda3/envs/myenv/lib/python3.8/site-packages/IPython/core/history.py\", line 11, in <module>\n",
            "\u001b[1;31m    import sqlite3\n",
            "\u001b[1;31m  File \"/Users/dylanlam/miniconda3/envs/myenv/lib/python3.8/sqlite3/__init__.py\", line 23, in <module>\n",
            "\u001b[1;31m    from sqlite3.dbapi2 import *\n",
            "\u001b[1;31m  File \"/Users/dylanlam/miniconda3/envs/myenv/lib/python3.8/sqlite3/dbapi2.py\", line 27, in <module>\n",
            "\u001b[1;31m    from _sqlite3 import *\n",
            "\u001b[1;31mImportError: dlopen(/Users/dylanlam/miniconda3/envs/myenv/lib/python3.8/lib-dynload/_sqlite3.cpython-38-darwin.so, 2): Symbol not found: _sqlite3_enable_load_extension\n",
            "\u001b[1;31m  Referenced from: /Users/dylanlam/miniconda3/envs/myenv/lib/python3.8/lib-dynload/_sqlite3.cpython-38-darwin.so\n",
            "\u001b[1;31m  Expected in: /usr/lib/libsqlite3.dylib\n",
            "\u001b[1;31m in /Users/dylanlam/miniconda3/envs/myenv/lib/python3.8/lib-dynload/_sqlite3.cpython-38-darwin.so. \n",
            "\u001b[1;31mView Jupyter <a href='command:jupyter.viewOutput'>log</a> for further details."
          ]
        }
      ],
      "source": [
        "# your code here for scatter-plot"
      ]
    },
    {
      "cell_type": "code",
      "execution_count": null,
      "metadata": {
        "id": "yblQscpbx3UH"
      },
      "outputs": [
        {
          "ename": "",
          "evalue": "",
          "output_type": "error",
          "traceback": [
            "\u001b[1;31mFailed to start the Kernel. \n",
            "\u001b[1;31mTraceback (most recent call last):\n",
            "\u001b[1;31m  File \"/Users/dylanlam/miniconda3/envs/myenv/lib/python3.8/runpy.py\", line 194, in _run_module_as_main\n",
            "\u001b[1;31m    return _run_code(code, main_globals, None,\n",
            "\u001b[1;31m  File \"/Users/dylanlam/miniconda3/envs/myenv/lib/python3.8/runpy.py\", line 87, in _run_code\n",
            "\u001b[1;31m    exec(code, run_globals)\n",
            "\u001b[1;31m  File \"/Users/dylanlam/miniconda3/envs/myenv/lib/python3.8/site-packages/ipykernel_launcher.py\", line 15, in <module>\n",
            "\u001b[1;31m    from ipykernel import kernelapp as app\n",
            "\u001b[1;31m  File \"/Users/dylanlam/miniconda3/envs/myenv/lib/python3.8/site-packages/ipykernel/kernelapp.py\", line 19, in <module>\n",
            "\u001b[1;31m    from IPython.core.application import (  # type:ignore[attr-defined]\n",
            "\u001b[1;31m  File \"/Users/dylanlam/miniconda3/envs/myenv/lib/python3.8/site-packages/IPython/__init__.py\", line 53, in <module>\n",
            "\u001b[1;31m    from .terminal.embed import embed\n",
            "\u001b[1;31m  File \"/Users/dylanlam/miniconda3/envs/myenv/lib/python3.8/site-packages/IPython/terminal/embed.py\", line 15, in <module>\n",
            "\u001b[1;31m    from IPython.core.interactiveshell import DummyMod, InteractiveShell\n",
            "\u001b[1;31m  File \"/Users/dylanlam/miniconda3/envs/myenv/lib/python3.8/site-packages/IPython/core/interactiveshell.py\", line 73, in <module>\n",
            "\u001b[1;31m    from IPython.core.history import HistoryManager\n",
            "\u001b[1;31m  File \"/Users/dylanlam/miniconda3/envs/myenv/lib/python3.8/site-packages/IPython/core/history.py\", line 11, in <module>\n",
            "\u001b[1;31m    import sqlite3\n",
            "\u001b[1;31m  File \"/Users/dylanlam/miniconda3/envs/myenv/lib/python3.8/sqlite3/__init__.py\", line 23, in <module>\n",
            "\u001b[1;31m    from sqlite3.dbapi2 import *\n",
            "\u001b[1;31m  File \"/Users/dylanlam/miniconda3/envs/myenv/lib/python3.8/sqlite3/dbapi2.py\", line 27, in <module>\n",
            "\u001b[1;31m    from _sqlite3 import *\n",
            "\u001b[1;31mImportError: dlopen(/Users/dylanlam/miniconda3/envs/myenv/lib/python3.8/lib-dynload/_sqlite3.cpython-38-darwin.so, 2): Symbol not found: _sqlite3_enable_load_extension\n",
            "\u001b[1;31m  Referenced from: /Users/dylanlam/miniconda3/envs/myenv/lib/python3.8/lib-dynload/_sqlite3.cpython-38-darwin.so\n",
            "\u001b[1;31m  Expected in: /usr/lib/libsqlite3.dylib\n",
            "\u001b[1;31m in /Users/dylanlam/miniconda3/envs/myenv/lib/python3.8/lib-dynload/_sqlite3.cpython-38-darwin.so. \n",
            "\u001b[1;31mView Jupyter <a href='command:jupyter.viewOutput'>log</a> for further details."
          ]
        }
      ],
      "source": [
        "# your code here for two-panel histogram\n",
        "#brush for selection\n",
        "brush = alt.selection_interval(encodings=['x'])  # brush selection on the x-axis\n",
        "\n",
        "# left panel\n",
        "mpg_histogram = alt.Chart(cars).mark_bar().encode(\n",
        "    alt.X('Miles_per_Gallon:Q', bin=True),\n",
        "    alt.Y('count()'),\n",
        "    opacity=alt.condition(brush, alt.value(1), alt.value(0.7))  # Hgighlight based on selection\n",
        ").add_selection(brush).properties(\n",
        "    title='Miles per Gallon'\n",
        ")\n",
        "\n",
        "# right panel\n",
        "hp_histogram = alt.Chart(cars).mark_bar().encode(\n",
        "    alt.X('Horsepower:Q', bin=True),\n",
        "    alt.Y('count()'),\n",
        "    opacity=alt.condition(brush, alt.value(1), alt.value(0.7))  \n",
        ").transform_filter(\n",
        "    brush  \n",
        ").properties(\n",
        "    title='Horsepower'\n",
        ")\n",
        "\n",
        "mpg_histogram | hp_histogram\n"
      ]
    }
  ],
  "metadata": {
    "colab": {
      "collapsed_sections": [
        "mpGXE8zIx3T-",
        "GbVGhuZyx3UA",
        "jeFQyldqx3UA",
        "URmXClBhx3UA",
        "zHjpKH9xx3UB",
        "tOHorOe9x3UC",
        "1-AxAwk5x3UC",
        "b_UlnkcEx3UD",
        "dcYyzebsx3UE",
        "XAqeZh1vx3UE",
        "3Fl3Wxyrx3UE",
        "yhbutsdZx3UE",
        "WrVwbq9mx3UE",
        "x9_7Gvwbx3UF",
        "51am7BmHx3UG",
        "SnKvSpv1x3UG",
        "sui2urMBx3UG",
        "eML4XztZx3UG",
        "XAdld1mYx3UH",
        "Vf0UlMmAx3UH"
      ],
      "provenance": []
    },
    "kernelspec": {
      "display_name": "Python 3 (ipykernel)",
      "language": "python",
      "name": "python3"
    },
    "language_info": {
      "codemirror_mode": {
        "name": "ipython",
        "version": 3
      },
      "file_extension": ".py",
      "mimetype": "text/x-python",
      "name": "python",
      "nbconvert_exporter": "python",
      "pygments_lexer": "ipython3",
      "version": "3.8.17"
    }
  },
  "nbformat": 4,
  "nbformat_minor": 0
}
